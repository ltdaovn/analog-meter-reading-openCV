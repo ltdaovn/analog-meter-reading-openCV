{
  "nbformat": 4,
  "nbformat_minor": 0,
  "metadata": {
    "colab": {
      "name": "analog_program.ipynb",
      "provenance": [],
      "collapsed_sections": [],
      "include_colab_link": true
    },
    "kernelspec": {
      "name": "python3",
      "display_name": "Python 3"
    }
  },
  "cells": [
    {
      "cell_type": "markdown",
      "metadata": {
        "id": "view-in-github",
        "colab_type": "text"
      },
      "source": [
        "<a href=\"https://colab.research.google.com/github/ltdaovn/analog-meter-reading-openCV/blob/main/test.ipynb\" target=\"_parent\"><img src=\"https://colab.research.google.com/assets/colab-badge.svg\" alt=\"Open In Colab\"/></a>"
      ]
    },
    {
      "cell_type": "code",
      "metadata": {
        "id": "yMBmne_KeFvN",
        "colab": {
          "base_uri": "https://localhost:8080/"
        },
        "outputId": "08701ae1-162b-4ce3-9e6a-bca9ad437fb9"
      },
      "source": [
        "from google.colab import drive\n",
        "drive.mount('/content/drive')\n"
      ],
      "execution_count": null,
      "outputs": [
        {
          "output_type": "stream",
          "name": "stdout",
          "text": [
            "Mounted at /content/drive\n"
          ]
        }
      ]
    },
    {
      "cell_type": "code",
      "metadata": {
        "id": "tah2Tv4dsJWa"
      },
      "source": [
        "%matplotlib inline\n",
        "\n",
        "!pip install keras\n",
        "!pip install tensorflow  \n",
        "!pip3 install opencv-python\n",
        "!pip install pypng\n",
        "!pip install matplotlib\n",
        "\n",
        "\n",
        "from google.colab.patches import cv2_imshow\n",
        "from skimage import data,filters\n",
        "from PIL import ImageTk, Image\n",
        "\n",
        "\n",
        "import cv2\n",
        "import csv\n",
        "import matplotlib.pyplot as plt\n",
        "import matplotlib.pylab as plt\n",
        "import matplotlib.cm as cm\n",
        "import numpy as np\n",
        "import pathlib\n",
        "import PIL\n",
        "import os,png,array\n",
        "import pandas as pd\n",
        "import time"
      ],
      "execution_count": null,
      "outputs": []
    },
    {
      "cell_type": "code",
      "metadata": {
        "id": "8j64_DxNedXL",
        "colab": {
          "base_uri": "https://localhost:8080/"
        },
        "outputId": "64f40a04-0344-4408-8b39-84ea031987bf"
      },
      "source": [
        "!wget https://github.com/ltdaovn/analog-meter-reading-openCV/raw/main/cnn_svhn_.model"
      ],
      "execution_count": null,
      "outputs": [
        {
          "output_type": "stream",
          "name": "stdout",
          "text": [
            "--2021-10-17 07:59:36--  https://github.com/ltdaovn/analog-meter-reading-openCV/raw/main/cnn_svhn_.model\n",
            "Resolving github.com (github.com)... 140.82.112.3\n",
            "Connecting to github.com (github.com)|140.82.112.3|:443... connected.\n",
            "HTTP request sent, awaiting response... 302 Found\n",
            "Location: https://raw.githubusercontent.com/ltdaovn/analog-meter-reading-openCV/main/cnn_svhn_.model [following]\n",
            "--2021-10-17 07:59:37--  https://raw.githubusercontent.com/ltdaovn/analog-meter-reading-openCV/main/cnn_svhn_.model\n",
            "Resolving raw.githubusercontent.com (raw.githubusercontent.com)... 185.199.108.133, 185.199.109.133, 185.199.110.133, ...\n",
            "Connecting to raw.githubusercontent.com (raw.githubusercontent.com)|185.199.108.133|:443... connected.\n",
            "HTTP request sent, awaiting response... 200 OK\n",
            "Length: 3773544 (3.6M) [application/octet-stream]\n",
            "Saving to: ‘cnn_svhn_.model’\n",
            "\n",
            "cnn_svhn_.model     100%[===================>]   3.60M  --.-KB/s    in 0.07s   \n",
            "\n",
            "2021-10-17 07:59:37 (53.2 MB/s) - ‘cnn_svhn_.model’ saved [3773544/3773544]\n",
            "\n"
          ]
        }
      ]
    },
    {
      "cell_type": "code",
      "metadata": {
        "id": "NvEGCS6gnE_g",
        "colab": {
          "base_uri": "https://localhost:8080/"
        },
        "outputId": "2039d779-a6a8-41cd-94f3-8ba569d334b8"
      },
      "source": [
        "!wget \"https://github.com/ltdaovn/analog-meter-reading-openCV/raw/main/images.zip\""
      ],
      "execution_count": null,
      "outputs": [
        {
          "output_type": "stream",
          "name": "stdout",
          "text": [
            "--2021-10-17 07:59:37--  https://github.com/ltdaovn/analog-meter-reading-openCV/raw/main/images.zip\n",
            "Resolving github.com (github.com)... 140.82.112.3\n",
            "Connecting to github.com (github.com)|140.82.112.3|:443... connected.\n",
            "HTTP request sent, awaiting response... 302 Found\n",
            "Location: https://raw.githubusercontent.com/ltdaovn/analog-meter-reading-openCV/main/images.zip [following]\n",
            "--2021-10-17 07:59:37--  https://raw.githubusercontent.com/ltdaovn/analog-meter-reading-openCV/main/images.zip\n",
            "Resolving raw.githubusercontent.com (raw.githubusercontent.com)... 185.199.111.133, 185.199.108.133, 185.199.110.133, ...\n",
            "Connecting to raw.githubusercontent.com (raw.githubusercontent.com)|185.199.111.133|:443... connected.\n",
            "HTTP request sent, awaiting response... 200 OK\n",
            "Length: 9240431 (8.8M) [application/zip]\n",
            "Saving to: ‘images.zip’\n",
            "\n",
            "images.zip          100%[===================>]   8.81M  --.-KB/s    in 0.1s    \n",
            "\n",
            "2021-10-17 07:59:38 (80.6 MB/s) - ‘images.zip’ saved [9240431/9240431]\n",
            "\n"
          ]
        }
      ]
    },
    {
      "cell_type": "code",
      "metadata": {
        "id": "si2arnOPnVYP",
        "colab": {
          "base_uri": "https://localhost:8080/"
        },
        "outputId": "38744c9f-987d-4382-9bf2-6cd50dd72053"
      },
      "source": [
        "!unzip images.zip"
      ],
      "execution_count": null,
      "outputs": [
        {
          "output_type": "stream",
          "name": "stdout",
          "text": [
            "Archive:  images.zip\n",
            "   creating: images/\n",
            "  inflating: images/SAYAC (1).jpg    \n",
            "  inflating: images/SAYAC (10).jpg   \n",
            "  inflating: images/SAYAC (100).jpg  \n",
            "  inflating: images/SAYAC (101).jpg  \n",
            "  inflating: images/SAYAC (102).jpg  \n",
            "  inflating: images/SAYAC (103).jpg  \n",
            "  inflating: images/SAYAC (104).jpg  \n",
            "  inflating: images/SAYAC (105).jpg  \n",
            "  inflating: images/SAYAC (106).jpg  \n",
            "  inflating: images/SAYAC (107).jpg  \n",
            "  inflating: images/SAYAC (108).jpg  \n",
            "  inflating: images/SAYAC (109).jpg  \n",
            "  inflating: images/SAYAC (11).jpg   \n",
            "  inflating: images/SAYAC (110).jpg  \n",
            "  inflating: images/SAYAC (111).jpg  \n",
            "  inflating: images/SAYAC (112).jpg  \n",
            "  inflating: images/SAYAC (113).jpg  \n",
            "  inflating: images/SAYAC (114).jpg  \n",
            "  inflating: images/SAYAC (115).jpg  \n",
            "  inflating: images/SAYAC (116).jpg  \n",
            "  inflating: images/SAYAC (117).jpg  \n",
            "  inflating: images/SAYAC (118).jpg  \n",
            "  inflating: images/SAYAC (119).jpg  \n",
            "  inflating: images/SAYAC (12).jpg   \n",
            "  inflating: images/SAYAC (120).jpg  \n",
            "  inflating: images/SAYAC (121).jpg  \n",
            "  inflating: images/SAYAC (122).jpg  \n",
            "  inflating: images/SAYAC (123).jpg  \n",
            "  inflating: images/SAYAC (124).jpg  \n",
            "  inflating: images/SAYAC (125).jpg  \n",
            "  inflating: images/SAYAC (126).jpg  \n",
            "  inflating: images/SAYAC (127).jpg  \n",
            "  inflating: images/SAYAC (128).jpg  \n",
            "  inflating: images/SAYAC (129).jpg  \n",
            "  inflating: images/SAYAC (13).jpg   \n",
            "  inflating: images/SAYAC (130).jpg  \n",
            "  inflating: images/SAYAC (131).jpg  \n",
            "  inflating: images/SAYAC (132).jpg  \n",
            "  inflating: images/SAYAC (133).jpg  \n",
            "  inflating: images/SAYAC (134).jpg  \n",
            "  inflating: images/SAYAC (135).jpg  \n",
            "  inflating: images/SAYAC (136).jpg  \n",
            "  inflating: images/SAYAC (137).jpg  \n",
            "  inflating: images/SAYAC (138).jpg  \n",
            "  inflating: images/SAYAC (139).jpg  \n",
            "  inflating: images/SAYAC (14).jpg   \n",
            "  inflating: images/SAYAC (140).jpg  \n",
            "  inflating: images/SAYAC (141).jpg  \n",
            "  inflating: images/SAYAC (142).jpg  \n",
            "  inflating: images/SAYAC (143).jpg  \n",
            "  inflating: images/SAYAC (144).jpg  \n",
            "  inflating: images/SAYAC (145).jpg  \n",
            "  inflating: images/SAYAC (146).jpg  \n",
            "  inflating: images/SAYAC (147).jpg  \n",
            "  inflating: images/SAYAC (148).jpg  \n",
            "  inflating: images/SAYAC (149).jpg  \n",
            "  inflating: images/SAYAC (15).jpg   \n",
            "  inflating: images/SAYAC (150).jpg  \n",
            "  inflating: images/SAYAC (151).jpg  \n",
            "  inflating: images/SAYAC (152).jpg  \n",
            "  inflating: images/SAYAC (153).jpg  \n",
            "  inflating: images/SAYAC (154).jpg  \n",
            "  inflating: images/SAYAC (155).jpg  \n",
            "  inflating: images/SAYAC (156).jpg  \n",
            "  inflating: images/SAYAC (157).jpg  \n",
            "  inflating: images/SAYAC (158).jpg  \n",
            "  inflating: images/SAYAC (159).jpg  \n",
            "  inflating: images/SAYAC (16).jpg   \n",
            "  inflating: images/SAYAC (160).jpg  \n",
            "  inflating: images/SAYAC (161).jpg  \n",
            "  inflating: images/SAYAC (162).jpg  \n",
            "  inflating: images/SAYAC (163).jpg  \n",
            "  inflating: images/SAYAC (164).jpg  \n",
            "  inflating: images/SAYAC (165).jpg  \n",
            "  inflating: images/SAYAC (166).jpg  \n",
            "  inflating: images/SAYAC (167).jpg  \n",
            "  inflating: images/SAYAC (168).jpg  \n",
            "  inflating: images/SAYAC (169).jpg  \n",
            "  inflating: images/SAYAC (17).jpg   \n",
            "  inflating: images/SAYAC (18).jpg   \n",
            "  inflating: images/SAYAC (19).jpg   \n",
            "  inflating: images/SAYAC (2).jpg    \n",
            "  inflating: images/SAYAC (20).jpg   \n",
            "  inflating: images/SAYAC (21).jpg   \n",
            "  inflating: images/SAYAC (22).jpg   \n",
            "  inflating: images/SAYAC (23).jpg   \n",
            "  inflating: images/SAYAC (24).jpg   \n",
            "  inflating: images/SAYAC (25).jpg   \n",
            "  inflating: images/SAYAC (26).jpg   \n",
            "  inflating: images/SAYAC (27).jpg   \n",
            "  inflating: images/SAYAC (28).jpg   \n",
            "  inflating: images/SAYAC (29).jpg   \n",
            "  inflating: images/SAYAC (3).jpg    \n",
            "  inflating: images/SAYAC (30).jpg   \n",
            "  inflating: images/SAYAC (31).jpg   \n",
            "  inflating: images/SAYAC (32).jpg   \n",
            "  inflating: images/SAYAC (33).jpg   \n",
            "  inflating: images/SAYAC (34).jpg   \n",
            "  inflating: images/SAYAC (35).jpg   \n",
            "  inflating: images/SAYAC (36).jpg   \n",
            "  inflating: images/SAYAC (37).jpg   \n",
            "  inflating: images/SAYAC (38).jpg   \n",
            "  inflating: images/SAYAC (39).jpg   \n",
            "  inflating: images/SAYAC (4).jpg    \n",
            "  inflating: images/SAYAC (40).jpg   \n",
            "  inflating: images/SAYAC (41).jpg   \n",
            "  inflating: images/SAYAC (42).jpg   \n",
            "  inflating: images/SAYAC (43).jpg   \n",
            "  inflating: images/SAYAC (44).jpg   \n",
            "  inflating: images/SAYAC (45).jpg   \n",
            "  inflating: images/SAYAC (46).jpg   \n",
            "  inflating: images/SAYAC (47).jpg   \n",
            "  inflating: images/SAYAC (48).jpg   \n",
            "  inflating: images/SAYAC (49).jpg   \n",
            "  inflating: images/SAYAC (5).jpg    \n",
            "  inflating: images/SAYAC (50).jpg   \n",
            "  inflating: images/SAYAC (51).jpg   \n",
            "  inflating: images/SAYAC (52).jpg   \n",
            "  inflating: images/SAYAC (53).jpg   \n",
            "  inflating: images/SAYAC (54).jpg   \n",
            "  inflating: images/SAYAC (55).jpg   \n",
            "  inflating: images/SAYAC (56).jpg   \n",
            "  inflating: images/SAYAC (57).jpg   \n",
            "  inflating: images/SAYAC (58).jpg   \n",
            "  inflating: images/SAYAC (59).jpg   \n",
            "  inflating: images/SAYAC (6).jpg    \n",
            "  inflating: images/SAYAC (60).jpg   \n",
            "  inflating: images/SAYAC (61).jpg   \n",
            "  inflating: images/SAYAC (62).jpg   \n",
            "  inflating: images/SAYAC (63).jpg   \n",
            "  inflating: images/SAYAC (64).jpg   \n",
            "  inflating: images/SAYAC (65).jpg   \n",
            "  inflating: images/SAYAC (66).jpg   \n",
            "  inflating: images/SAYAC (67).jpg   \n",
            "  inflating: images/SAYAC (68).jpg   \n",
            "  inflating: images/SAYAC (69).jpg   \n",
            "  inflating: images/SAYAC (7).jpg    \n",
            "  inflating: images/SAYAC (70).jpg   \n",
            "  inflating: images/SAYAC (71).jpg   \n",
            "  inflating: images/SAYAC (72).jpg   \n",
            "  inflating: images/SAYAC (73).jpg   \n",
            "  inflating: images/SAYAC (74).jpg   \n",
            "  inflating: images/SAYAC (75).jpg   \n",
            "  inflating: images/SAYAC (76).jpg   \n",
            "  inflating: images/SAYAC (77).jpg   \n",
            "  inflating: images/SAYAC (78).jpg   \n",
            "  inflating: images/SAYAC (79).jpg   \n",
            "  inflating: images/SAYAC (8).jpg    \n",
            "  inflating: images/SAYAC (80).jpg   \n",
            "  inflating: images/SAYAC (81).jpg   \n",
            "  inflating: images/SAYAC (82).jpg   \n",
            "  inflating: images/SAYAC (83).jpg   \n",
            "  inflating: images/SAYAC (84).jpg   \n",
            "  inflating: images/SAYAC (85).jpg   \n",
            "  inflating: images/SAYAC (86).jpg   \n",
            "  inflating: images/SAYAC (87).jpg   \n",
            "  inflating: images/SAYAC (88).jpg   \n",
            "  inflating: images/SAYAC (89).jpg   \n",
            "  inflating: images/SAYAC (9).jpg    \n",
            "  inflating: images/SAYAC (90).jpg   \n",
            "  inflating: images/SAYAC (91).jpg   \n",
            "  inflating: images/SAYAC (92).jpg   \n",
            "  inflating: images/SAYAC (93).jpg   \n",
            "  inflating: images/SAYAC (94).jpg   \n",
            "  inflating: images/SAYAC (95).jpg   \n",
            "  inflating: images/SAYAC (96).jpg   \n",
            "  inflating: images/SAYAC (97).jpg   \n",
            "  inflating: images/SAYAC (98).jpg   \n",
            "  inflating: images/SAYAC (99).jpg   \n"
          ]
        }
      ]
    },
    {
      "cell_type": "code",
      "metadata": {
        "id": "GmYzoTvtsyIv"
      },
      "source": [
        "from keras.models import load_model\n",
        "classifier=load_model('cnn_svhn_.model')\n",
        "\n",
        "row_list = []\n",
        "index_counter = 0\n",
        "resize_counter = 0\n",
        "\n",
        "directory=\"images/\"\n",
        "\n",
        "for file in os.listdir(directory):\n",
        "  path = directory + file\n",
        "  print(path)\n",
        "  try:\n",
        "\n",
        "    if file.endswith(\".jpg\"): \n",
        "        img = cv2.imread(path, 0)\n",
        "\n",
        "        if img is not None:\n",
        "            #blur = cv2.GaussianBlur(grey, value, 0)\n",
        "            img = cv2.GaussianBlur(img, (3,3), 0)\n",
        "\n",
        "        edges = cv2.Canny(img, 175, 200, apertureSize=3, L2gradient=False)\n",
        "        def auto_canny(image, sigma=0.33):\n",
        "\n",
        "            v = np.median(image)\n",
        "            lower = int(max(0, (1.0 - sigma) * v))\n",
        "            upper = int(min(255, (1.0 + sigma) * v))\n",
        "            edged = cv2.Canny(image, lower, upper, apertureSize=3, L2gradient=True)\n",
        "            return edged\n",
        "\n",
        "        #edges = auto_canny(img)\n",
        "\n",
        "        contours, hierarchy = cv2.findContours(edges.copy(), cv2.RETR_TREE, cv2.CHAIN_APPROX_SIMPLE)\n",
        "\n",
        "        contours_dict = dict()\n",
        "        for cont in contours:\n",
        "            x, y, w, h = cv2.boundingRect(cont)\n",
        "            area = cv2.contourArea(cont)\n",
        "            if 20 < area and 20 < w and h > 10 :\n",
        "                contours_dict[(x, y, w, h)] = cont\n",
        "\n",
        "        contours_filtered = sorted(contours_dict.values(), key=cv2.boundingRect)\n",
        "        blank_background = np.zeros_like(edges)\n",
        "        img_contours = cv2.drawContours(blank_background, contours_filtered, -1, (255,255,255), thickness=2)\n",
        "\n",
        "        def is_overlapping_horizontally(box1, box2):\n",
        "            x1, _, w1, _ = box1\n",
        "            x2, _, _, _ = box2\n",
        "            if x1 > x2:\n",
        "                return is_overlapping_horizontally(box2, box1)\n",
        "            return (x2 - x1) < w1\n",
        "\n",
        "        def merge(box1, box2):\n",
        "            assert is_overlapping_horizontally(box1, box2)\n",
        "            x1, y1, w1, h1 = box1\n",
        "            x2, y2, w2, h2 = box2\n",
        "            x = min(x1, x2)\n",
        "            w = max(x1 + w1, x2 + w2) - x\n",
        "            y = min(y1, y2)\n",
        "            h = max(y1 + h1, y2 + h2) - y\n",
        "            return (x, y, w, h)\n",
        "\n",
        "        def windows(contours):\n",
        "            boxes = []\n",
        "            for cont in contours:\n",
        "                box = cv2.boundingRect(cont)\n",
        "                if not boxes:\n",
        "                    boxes.append(box)\n",
        "                else:\n",
        "                    if is_overlapping_horizontally(boxes[-1], box):\n",
        "                        last_box = boxes.pop()\n",
        "                        merged_box = merge(box, last_box)\n",
        "                        boxes.append(merged_box)\n",
        "                    else:\n",
        "                        boxes.append(box)\n",
        "            return boxes\n",
        "\n",
        "        boxes = windows(contours_filtered)\n",
        "        len_boxes = len(boxes)\n",
        "\n",
        "        for n in range(len_boxes):\n",
        "          x, y, w, h = boxes[n]\n",
        "          plt.axis('off')\n",
        "          \n",
        "          if y < 10:\n",
        "              y = 10\n",
        "          if x < 10:\n",
        "              x = 10\n",
        "              \n",
        "          roi = img[y-10:y+h+5, x-10:x+w+5]\n",
        "          roi = cv2.resize(roi,(32, 32),interpolation = cv2.INTER_AREA)\n",
        "          a = str(n+1)\n",
        "          cv2.imwrite('basamak'+a+'.png', roi)\n",
        "\n",
        "        columnNames = list()\n",
        "\n",
        "        for i in range(1024):\n",
        "            pixel = 'pixel'\n",
        "            pixel += str(i)\n",
        "            columnNames.append(pixel)\n",
        "\n",
        "        train_data = pd.DataFrame(columns = columnNames)\n",
        "\n",
        "        for n in range(len_boxes):\n",
        "            a = str(n+1)\n",
        "            b='basamak'+a+'.png'\n",
        "            img = Image.open(b)\n",
        "            rawData = img.load()\n",
        "            data = []\n",
        "            for y in range(32):\n",
        "                for x in range(32):\n",
        "                    data.append(rawData[x,y])\n",
        "            k = 0\n",
        "            train_data.loc[0] = [data[k] for k in range(1024)]\n",
        "            train_data = train_data.div(255)\n",
        "            train_data.to_csv(\"train_converted\"+a+\".csv\",index = False)\n",
        "\n",
        "\n",
        "        w ={}\n",
        "        for n in range(len_boxes):\n",
        "            a = str(n+1)\n",
        "            b = \"train_converted\"+a+\".csv\"\n",
        "            x_pred = pd.read_csv(b)\n",
        "            x_pred = x_pred.iloc[:,:].values.astype('float32')\n",
        "            x_pred =x_pred.reshape(-1, 32, 32, 1)\n",
        "            predictions=classifier.predict(x_pred)\n",
        "            x = predictions[4]\n",
        "            c = \"predictions\"+a\n",
        "            w.update( {c : x.argmax()} )\n",
        "        \n",
        "        row = [file,  str(w.get(\"predictions1\")) + \n",
        "               str(w.get(\"predictions2\")) +  \n",
        "               str(w.get(\"predictions3\")) +\n",
        "               str(w.get(\"predictions4\")) +\n",
        "               str(w.get(\"predictions5\")) +\n",
        "               str(w.get(\"predictions6\")) ]\n",
        "\n",
        "        row_list.append(row)\n",
        "\n",
        "        print( file + \" \" + \"SAYAÇ MİKTAR: \" +\n",
        "            str(w.get(\"predictions1\")) + \n",
        "            str(w.get(\"predictions2\")) +  \n",
        "            str(w.get(\"predictions3\")) +\n",
        "            str(w.get(\"predictions4\")) +\n",
        "            str(w.get(\"predictions5\")) +\n",
        "            str(w.get(\"predictions6\")) \n",
        "            )\n",
        "\n",
        "        continue\n",
        "        \n",
        "    else:\n",
        "        continue\n",
        "\n",
        "  except IndexError:\n",
        "    if IndexError:\n",
        "      index_counter += 1\n",
        "      print(file + \" \" +'List index out of range error')\n",
        "      print('index count: ', index_counter)\n",
        "      pass\n",
        "\n",
        "  '''except:\n",
        "    row = [file, \"Resize Error\"]\n",
        "    resize_counter += 1\n",
        "    print('resize count: ', resize_counter)\n",
        "    print(file + \" \" + 'resize error')'''"
      ],
      "execution_count": null,
      "outputs": []
    },
    {
      "cell_type": "code",
      "metadata": {
        "colab": {
          "base_uri": "https://localhost:8080/"
        },
        "id": "U8f_7HoCSu-p",
        "outputId": "bedcd56c-1f9a-49f4-b249-1280c564c28b"
      },
      "source": [
        "print(row_list)"
      ],
      "execution_count": null,
      "outputs": [
        {
          "output_type": "stream",
          "name": "stdout",
          "text": [
            "[['SAYAC (105).jpg', '0030NoneNone'], ['SAYAC (90).jpg', '00690None'], ['SAYAC (114).jpg', '002360'], ['SAYAC (23).jpg', '20046None'], ['SAYAC (49).jpg', '000620'], ['SAYAC (92).jpg', '203698'], ['SAYAC (95).jpg', '007300'], ['SAYAC (149).jpg', '00850None'], ['SAYAC (48).jpg', '000650'], ['SAYAC (148).jpg', '200828'], ['SAYAC (34).jpg', '60560None'], ['SAYAC (167).jpg', '000533'], ['SAYAC (76).jpg', '003660'], ['SAYAC (96).jpg', '200736'], ['SAYAC (165).jpg', '000579'], ['SAYAC (104).jpg', '00240None'], ['SAYAC (63).jpg', '003630'], ['SAYAC (109).jpg', '200350'], ['SAYAC (5).jpg', '600522'], ['SAYAC (84).jpg', '003685'], ['SAYAC (112).jpg', '00010None'], ['SAYAC (54).jpg', '00660None'], ['SAYAC (32).jpg', '205620'], ['SAYAC (89).jpg', '006910'], ['SAYAC (14).jpg', '000530'], ['SAYAC (85).jpg', '206850'], ['SAYAC (61).jpg', '006260'], ['SAYAC (29).jpg', '000558'], ['SAYAC (39).jpg', '20520None'], ['SAYAC (68).jpg', '000633'], ['SAYAC (135).jpg', '002880'], ['SAYAC (52).jpg', '60620None'], ['SAYAC (53).jpg', '00660None'], ['SAYAC (71).jpg', '202643'], ['SAYAC (107).jpg', '002332'], ['SAYAC (18).jpg', '200533'], ['SAYAC (98).jpg', '0020NoneNone'], ['SAYAC (58).jpg', '20620None'], ['SAYAC (161).jpg', '00800None'], ['SAYAC (2).jpg', '000513'], ['SAYAC (164).jpg', '000370'], ['SAYAC (69).jpg', '0060NoneNone'], ['SAYAC (24).jpg', '300542'], ['SAYAC (103).jpg', '2020NoneNone'], ['SAYAC (62).jpg', '006620'], ['SAYAC (152).jpg', '000835'], ['SAYAC (124).jpg', '00250None'], ['SAYAC (7).jpg', '000523'], ['SAYAC (106).jpg', '000238'], ['SAYAC (132).jpg', '600274'], ['SAYAC (128).jpg', '10230None'], ['SAYAC (162).jpg', '208420'], ['SAYAC (134).jpg', '200219'], ['SAYAC (3).jpg', '000523'], ['SAYAC (130).jpg', '202670'], ['SAYAC (160).jpg', '20800None'], ['SAYAC (43).jpg', '0070NoneNone'], ['SAYAC (157).jpg', '000830'], ['SAYAC (17).jpg', '200533'], ['SAYAC (22).jpg', '200536'], ['SAYAC (64).jpg', '006300'], ['SAYAC (86).jpg', '003688'], ['SAYAC (75).jpg', '00650None'], ['SAYAC (57).jpg', '00620None'], ['SAYAC (8).jpg', '600522'], ['SAYAC (126).jpg', '002560'], ['SAYAC (46).jpg', '20720None'], ['SAYAC (108).jpg', '02330None'], ['SAYAC (91).jpg', '003795'], ['SAYAC (136).jpg', '000284'], ['SAYAC (166).jpg', '000490'], ['SAYAC (82).jpg', '003650'], ['SAYAC (83).jpg', '10630None'], ['SAYAC (94).jpg', '007320'], ['SAYAC (13).jpg', '000525'], ['SAYAC (37).jpg', '005750'], ['SAYAC (158).jpg', '200838'], ['SAYAC (80).jpg', '00620None'], ['SAYAC (12).jpg', '000525'], ['SAYAC (168).jpg', '009509'], ['SAYAC (56).jpg', '006170'], ['SAYAC (25).jpg', '300556'], ['SAYAC (36).jpg', '60500None'], ['SAYAC (100).jpg', '00720None'], ['SAYAC (123).jpg', '10220None'], ['SAYAC (141).jpg', '008350'], ['SAYAC (120).jpg', '003490'], ['SAYAC (65).jpg', '206320'], ['SAYAC (74).jpg', '006600'], ['SAYAC (59).jpg', '006220'], ['SAYAC (10).jpg', '007523'], ['SAYAC (50).jpg', '003660'], ['SAYAC (40).jpg', '002584'], ['SAYAC (47).jpg', '003596'], ['SAYAC (73).jpg', '00670None'], ['SAYAC (81).jpg', '20680None'], ['SAYAC (35).jpg', '000560'], ['SAYAC (156).jpg', '00850None'], ['SAYAC (31).jpg', '200559'], ['SAYAC (139).jpg', '004900'], ['SAYAC (125).jpg', '000250'], ['SAYAC (163).jpg', '200849'], ['SAYAC (102).jpg', '60NoneNoneNoneNone'], ['SAYAC (97).jpg', '000790'], ['SAYAC (116).jpg', '2000NoneNone'], ['SAYAC (66).jpg', '20630None'], ['SAYAC (72).jpg', '206500'], ['SAYAC (77).jpg', '003669'], ['SAYAC (51).jpg', '007320'], ['SAYAC (146).jpg', '0030NoneNone'], ['SAYAC (1).jpg', '007590'], ['SAYAC (60).jpg', '006622'], ['SAYAC (121).jpg', '202520'], ['SAYAC (16).jpg', '200532'], ['SAYAC (169).jpg', '000519'], ['SAYAC (15).jpg', '600532'], ['SAYAC (131).jpg', '00290None'], ['SAYAC (26).jpg', '307546'], ['SAYAC (142).jpg', '008360'], ['SAYAC (145).jpg', '00800None'], ['SAYAC (147).jpg', '00830None'], ['SAYAC (11).jpg', '003526'], ['SAYAC (42).jpg', '005890'], ['SAYAC (101).jpg', '2020NoneNone'], ['SAYAC (154).jpg', '008370'], ['SAYAC (155).jpg', '000850'], ['SAYAC (143).jpg', '208300'], ['SAYAC (41).jpg', '203586'], ['SAYAC (6).jpg', '000530'], ['SAYAC (137).jpg', '204900'], ['SAYAC (99).jpg', '20170None'], ['SAYAC (4).jpg', '005210'], ['SAYAC (28).jpg', '307536'], ['SAYAC (117).jpg', '000280'], ['SAYAC (138).jpg', '000620'], ['SAYAC (111).jpg', '002300'], ['SAYAC (133).jpg', '000200'], ['SAYAC (150).jpg', '000830'], ['SAYAC (9).jpg', '000525'], ['SAYAC (159).jpg', '000839'], ['SAYAC (87).jpg', '006890'], ['SAYAC (153).jpg', '00850None'], ['SAYAC (20).jpg', '300526'], ['SAYAC (21).jpg', '300539'], ['SAYAC (119).jpg', '000246'], ['SAYAC (30).jpg', '005580'], ['SAYAC (38).jpg', '007520'], ['SAYAC (19).jpg', '300535'], ['SAYAC (44).jpg', '003594'], ['SAYAC (88).jpg', '206900'], ['SAYAC (151).jpg', '208280'], ['SAYAC (129).jpg', '100266'], ['SAYAC (113).jpg', '002380'], ['SAYAC (144).jpg', '00830None'], ['SAYAC (140).jpg', '003870'], ['SAYAC (78).jpg', '003630'], ['SAYAC (93).jpg', '007300'], ['SAYAC (67).jpg', '10630None'], ['SAYAC (33).jpg', '205620'], ['SAYAC (27).jpg', '300551'], ['SAYAC (118).jpg', '002460'], ['SAYAC (45).jpg', '00330None'], ['SAYAC (110).jpg', '00230None'], ['SAYAC (122).jpg', '002530'], ['SAYAC (55).jpg', '006170'], ['SAYAC (115).jpg', '00230None'], ['SAYAC (70).jpg', '606420'], ['SAYAC (79).jpg', '00630None'], ['SAYAC (127).jpg', '200258']]\n"
          ]
        }
      ]
    },
    {
      "cell_type": "code",
      "metadata": {
        "colab": {
          "base_uri": "https://localhost:8080/"
        },
        "id": "r3pqAMSVuNxE",
        "outputId": "7f486475-c340-4493-dedd-39f8da0efeac"
      },
      "source": [
        "# Create a file for new predicted values, then write it\n",
        "# update this csv each time you changed something in the code above \n",
        "# then follow these steps and calculate the accuracy, compare with other results\n",
        "with open('analog_predicted_meter.csv', 'w', newline='') as file:\n",
        "  writer = csv.writer(file)\n",
        "  writer.writerows(row_list)\n",
        "print(len(row_list))"
      ],
      "execution_count": null,
      "outputs": [
        {
          "output_type": "stream",
          "name": "stdout",
          "text": [
            "169\n"
          ]
        }
      ]
    },
    {
      "cell_type": "code",
      "metadata": {
        "colab": {
          "base_uri": "https://localhost:8080/"
        },
        "id": "YSC3zXTPt_Lr",
        "outputId": "a32db916-acd1-43e0-f8c3-cfe1766effe2"
      },
      "source": [
        "print(\"-------------------------------------\")\n",
        "print(\"resize counter error:\", \" \", resize_counter)\n",
        "print(\"index counter error:\" , \" \" , index_counter)\n",
        "print(\"-------------------------------------\")\n",
        "read = 169 - (int(resize_counter) + int(index_counter))\n",
        "not_read = int(resize_counter) + int(index_counter)\n",
        "print(\"reading: \", read)\n",
        "print(\"not reading: \", not_read)\n",
        "print(\"-------------------------------------\")"
      ],
      "execution_count": null,
      "outputs": [
        {
          "output_type": "stream",
          "name": "stdout",
          "text": [
            "-------------------------------------\n",
            "resize counter error:   0\n",
            "index counter error:   0\n",
            "-------------------------------------\n",
            "reading:  169\n",
            "not reading:  0\n",
            "-------------------------------------\n"
          ]
        }
      ]
    },
    {
      "cell_type": "code",
      "metadata": {
        "colab": {
          "base_uri": "https://localhost:8080/",
          "height": 419
        },
        "id": "8S4KwFn1wPtB",
        "outputId": "0c5b888a-15a8-4307-bae7-09619c92f5d3"
      },
      "source": [
        "read_value = pd.read_csv(\"analog_predicted_meter.csv\")\n",
        "read_value.columns = [\"imageID\", \"read_value\"]\n",
        "read_value[\"imageID\"] = read_value[\"imageID\"].str.replace(r'.jpg$', '')\n",
        "#read_val[\"ImageID\"] = read_val[\"ImageID\"].str.replace(r'.png$', '')\n",
        "\n",
        "# Delete basamak.png rows\n",
        "#read_val = read_val[read_val.ReadValue == basamak]\n",
        "\n",
        "read_value"
      ],
      "execution_count": null,
      "outputs": [
        {
          "output_type": "execute_result",
          "data": {
            "text/html": [
              "<div>\n",
              "<style scoped>\n",
              "    .dataframe tbody tr th:only-of-type {\n",
              "        vertical-align: middle;\n",
              "    }\n",
              "\n",
              "    .dataframe tbody tr th {\n",
              "        vertical-align: top;\n",
              "    }\n",
              "\n",
              "    .dataframe thead th {\n",
              "        text-align: right;\n",
              "    }\n",
              "</style>\n",
              "<table border=\"1\" class=\"dataframe\">\n",
              "  <thead>\n",
              "    <tr style=\"text-align: right;\">\n",
              "      <th></th>\n",
              "      <th>imageID</th>\n",
              "      <th>read_value</th>\n",
              "    </tr>\n",
              "  </thead>\n",
              "  <tbody>\n",
              "    <tr>\n",
              "      <th>0</th>\n",
              "      <td>SAYAC (90)</td>\n",
              "      <td>00690None</td>\n",
              "    </tr>\n",
              "    <tr>\n",
              "      <th>1</th>\n",
              "      <td>SAYAC (114)</td>\n",
              "      <td>002360</td>\n",
              "    </tr>\n",
              "    <tr>\n",
              "      <th>2</th>\n",
              "      <td>SAYAC (23)</td>\n",
              "      <td>20046None</td>\n",
              "    </tr>\n",
              "    <tr>\n",
              "      <th>3</th>\n",
              "      <td>SAYAC (49)</td>\n",
              "      <td>000620</td>\n",
              "    </tr>\n",
              "    <tr>\n",
              "      <th>4</th>\n",
              "      <td>SAYAC (92)</td>\n",
              "      <td>203698</td>\n",
              "    </tr>\n",
              "    <tr>\n",
              "      <th>...</th>\n",
              "      <td>...</td>\n",
              "      <td>...</td>\n",
              "    </tr>\n",
              "    <tr>\n",
              "      <th>163</th>\n",
              "      <td>SAYAC (55)</td>\n",
              "      <td>006170</td>\n",
              "    </tr>\n",
              "    <tr>\n",
              "      <th>164</th>\n",
              "      <td>SAYAC (115)</td>\n",
              "      <td>00230None</td>\n",
              "    </tr>\n",
              "    <tr>\n",
              "      <th>165</th>\n",
              "      <td>SAYAC (70)</td>\n",
              "      <td>606420</td>\n",
              "    </tr>\n",
              "    <tr>\n",
              "      <th>166</th>\n",
              "      <td>SAYAC (79)</td>\n",
              "      <td>00630None</td>\n",
              "    </tr>\n",
              "    <tr>\n",
              "      <th>167</th>\n",
              "      <td>SAYAC (127)</td>\n",
              "      <td>200258</td>\n",
              "    </tr>\n",
              "  </tbody>\n",
              "</table>\n",
              "<p>168 rows × 2 columns</p>\n",
              "</div>"
            ],
            "text/plain": [
              "         imageID read_value\n",
              "0     SAYAC (90)  00690None\n",
              "1    SAYAC (114)     002360\n",
              "2     SAYAC (23)  20046None\n",
              "3     SAYAC (49)     000620\n",
              "4     SAYAC (92)     203698\n",
              "..           ...        ...\n",
              "163   SAYAC (55)     006170\n",
              "164  SAYAC (115)  00230None\n",
              "165   SAYAC (70)     606420\n",
              "166   SAYAC (79)  00630None\n",
              "167  SAYAC (127)     200258\n",
              "\n",
              "[168 rows x 2 columns]"
            ]
          },
          "metadata": {},
          "execution_count": 12
        }
      ]
    },
    {
      "cell_type": "code",
      "metadata": {
        "id": "PNGSRw3yxkiT"
      },
      "source": [
        "real_value = pd.read_excel(\"analog_actual_meter.xlsx\", dtype={'actual_value':np.str})\n",
        "real_value"
      ],
      "execution_count": null,
      "outputs": []
    },
    {
      "cell_type": "code",
      "metadata": {
        "id": "Jp6hsBeEyyrA"
      },
      "source": [
        "merged = pd.merge(read_value, real_value, on=\"imageID\")\n",
        "%load_ext google.colab.data_table \n",
        "merged"
      ],
      "execution_count": null,
      "outputs": []
    },
    {
      "cell_type": "code",
      "metadata": {
        "id": "ulUX9-TmEXZk"
      },
      "source": [
        "merged[\"read_value\"] = merged[\"read_value\"].str.replace(r'None', 'N')\n",
        "merged"
      ],
      "execution_count": null,
      "outputs": []
    },
    {
      "cell_type": "code",
      "metadata": {
        "id": "WafzNUwGzpTO"
      },
      "source": [
        "merged['IfMatch'] = np.where(merged['read_value'] == merged['actual_value'], 'True', 'False')\n",
        "merged[merged['IfMatch'] == 'True']\n",
        "#merged"
      ],
      "execution_count": null,
      "outputs": []
    },
    {
      "cell_type": "code",
      "metadata": {
        "id": "O1ccNX3u_BdA"
      },
      "source": [
        "merged[\"Total\"] = merged['read_value'] \n",
        "\n",
        "for row in range(167):\n",
        "\n",
        "  match_counter = 0\n",
        "\n",
        "  for basamak in range(6):\n",
        "    if merged['read_value'][row][basamak]== merged['actual_value'][row][basamak]:\n",
        "      match_counter += 1\n",
        "\n",
        "  merged['Total'][row] = match_counter"
      ],
      "execution_count": null,
      "outputs": []
    },
    {
      "cell_type": "code",
      "metadata": {
        "id": "fYC877w-Ev_k"
      },
      "source": [
        "merged[\"digit_correctness_of_each_meter\"] = (merged[\"Total\"]/6)*100\n",
        " \n",
        "print(\"accuracy:\", (sum (merged[\"Total\"])/ (6*167))*100)\n",
        "\n",
        "merged"
      ],
      "execution_count": null,
      "outputs": []
    }
  ]
}
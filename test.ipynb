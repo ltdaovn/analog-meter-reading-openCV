{
  "nbformat": 4,
  "nbformat_minor": 0,
  "metadata": {
    "colab": {
      "name": "test.ipynb",
      "provenance": [],
      "collapsed_sections": [],
      "include_colab_link": true
    },
    "kernelspec": {
      "display_name": "Python 3",
      "name": "python3"
    }
  },
  "cells": [
    {
      "cell_type": "markdown",
      "metadata": {
        "id": "view-in-github",
        "colab_type": "text"
      },
      "source": [
        "<a href=\"https://colab.research.google.com/github/ltdaovn/analog-meter-reading-openCV/blob/main/test.ipynb\" target=\"_parent\"><img src=\"https://colab.research.google.com/assets/colab-badge.svg\" alt=\"Open In Colab\"/></a>"
      ]
    },
    {
      "cell_type": "code",
      "metadata": {
        "id": "tah2Tv4dsJWa"
      },
      "source": [
        "%matplotlib inline\n",
        "\n",
        "!pip install keras\n",
        "!pip install tensorflow  \n",
        "!pip3 install opencv-python\n",
        "!pip install pypng\n",
        "!pip install matplotlib\n",
        "\n",
        "\n",
        "from google.colab.patches import cv2_imshow\n",
        "from skimage import data,filters\n",
        "from PIL import ImageTk, Image\n",
        "\n",
        "\n",
        "import cv2\n",
        "import csv\n",
        "import matplotlib.pyplot as plt\n",
        "import matplotlib.pylab as plt\n",
        "import matplotlib.cm as cm\n",
        "import numpy as np\n",
        "import pathlib\n",
        "import PIL\n",
        "import os,png,array\n",
        "import pandas as pd\n",
        "import time"
      ],
      "execution_count": null,
      "outputs": []
    },
    {
      "cell_type": "code",
      "metadata": {
        "id": "8j64_DxNedXL",
        "outputId": "2ce51770-583b-4818-8ba8-8a000c06a5d9",
        "colab": {
          "base_uri": "https://localhost:8080/"
        }
      },
      "source": [
        "!wget https://github.com/ltdaovn/analog-meter-reading-openCV/raw/main/cnn_svhn_.model"
      ],
      "execution_count": 2,
      "outputs": [
        {
          "output_type": "stream",
          "name": "stdout",
          "text": [
            "--2021-10-18 12:29:09--  https://github.com/ltdaovn/analog-meter-reading-openCV/raw/main/cnn_svhn_.model\n",
            "Resolving github.com (github.com)... 140.82.121.3\n",
            "Connecting to github.com (github.com)|140.82.121.3|:443... connected.\n",
            "HTTP request sent, awaiting response... 302 Found\n",
            "Location: https://raw.githubusercontent.com/ltdaovn/analog-meter-reading-openCV/main/cnn_svhn_.model [following]\n",
            "--2021-10-18 12:29:10--  https://raw.githubusercontent.com/ltdaovn/analog-meter-reading-openCV/main/cnn_svhn_.model\n",
            "Resolving raw.githubusercontent.com (raw.githubusercontent.com)... 185.199.108.133, 185.199.111.133, 185.199.109.133, ...\n",
            "Connecting to raw.githubusercontent.com (raw.githubusercontent.com)|185.199.108.133|:443... connected.\n",
            "HTTP request sent, awaiting response... 200 OK\n",
            "Length: 3773544 (3.6M) [application/octet-stream]\n",
            "Saving to: ‘cnn_svhn_.model’\n",
            "\n",
            "cnn_svhn_.model     100%[===================>]   3.60M  --.-KB/s    in 0.03s   \n",
            "\n",
            "2021-10-18 12:29:11 (115 MB/s) - ‘cnn_svhn_.model’ saved [3773544/3773544]\n",
            "\n"
          ]
        }
      ]
    },
    {
      "cell_type": "code",
      "metadata": {
        "id": "NvEGCS6gnE_g",
        "outputId": "8d7e37ed-9cd0-4761-cdeb-dfe70e716319",
        "colab": {
          "base_uri": "https://localhost:8080/"
        }
      },
      "source": [
        "!wget \"https://github.com/ltdaovn/analog-meter-reading-openCV/raw/main/easy_samples.zip\""
      ],
      "execution_count": 27,
      "outputs": [
        {
          "output_type": "stream",
          "name": "stdout",
          "text": [
            "--2021-10-18 14:22:28--  https://github.com/ltdaovn/analog-meter-reading-openCV/raw/main/easy_samples.zip\n",
            "Resolving github.com (github.com)... 140.82.121.3\n",
            "Connecting to github.com (github.com)|140.82.121.3|:443... connected.\n",
            "HTTP request sent, awaiting response... 302 Found\n",
            "Location: https://raw.githubusercontent.com/ltdaovn/analog-meter-reading-openCV/main/easy_samples.zip [following]\n",
            "--2021-10-18 14:22:28--  https://raw.githubusercontent.com/ltdaovn/analog-meter-reading-openCV/main/easy_samples.zip\n",
            "Resolving raw.githubusercontent.com (raw.githubusercontent.com)... 185.199.108.133, 185.199.109.133, 185.199.110.133, ...\n",
            "Connecting to raw.githubusercontent.com (raw.githubusercontent.com)|185.199.108.133|:443... connected.\n",
            "HTTP request sent, awaiting response... 200 OK\n",
            "Length: 230154 (225K) [application/zip]\n",
            "Saving to: ‘easy_samples.zip’\n",
            "\n",
            "\reasy_samples.zip      0%[                    ]       0  --.-KB/s               \reasy_samples.zip    100%[===================>] 224.76K  --.-KB/s    in 0.01s   \n",
            "\n",
            "2021-10-18 14:22:28 (19.0 MB/s) - ‘easy_samples.zip’ saved [230154/230154]\n",
            "\n"
          ]
        }
      ]
    },
    {
      "cell_type": "code",
      "metadata": {
        "id": "O3hMv90eYIek"
      },
      "source": [
        "!wget \"https://github.com/ltdaovn/analog-meter-reading-openCV/raw/main/difficult_samples.zip\""
      ],
      "execution_count": null,
      "outputs": []
    },
    {
      "cell_type": "code",
      "metadata": {
        "id": "oqEMSv6ueLS2"
      },
      "source": [
        "#!wget \"https://github.com/ltdaovn/analog-meter-reading-openCV/raw/main/images.zip\""
      ],
      "execution_count": 5,
      "outputs": []
    },
    {
      "cell_type": "code",
      "metadata": {
        "id": "si2arnOPnVYP",
        "outputId": "153b3baf-3dbb-4620-9fa1-3908aa2f7904",
        "colab": {
          "base_uri": "https://localhost:8080/"
        }
      },
      "source": [
        "!unzip easy_samples.zip"
      ],
      "execution_count": 28,
      "outputs": [
        {
          "output_type": "stream",
          "name": "stdout",
          "text": [
            "Archive:  easy_samples.zip\n",
            "replace easy_samples/1.png? [y]es, [n]o, [A]ll, [N]one, [r]ename: A\n",
            "  inflating: easy_samples/1.png      \n",
            "  inflating: easy_samples/10.png     \n",
            "  inflating: easy_samples/100.png    \n",
            "  inflating: easy_samples/10000.png  \n",
            "  inflating: easy_samples/104.png    \n"
          ]
        }
      ]
    },
    {
      "cell_type": "code",
      "metadata": {
        "id": "C901yM9TYRMK"
      },
      "source": [
        "!unzip difficult_samples.zip"
      ],
      "execution_count": null,
      "outputs": []
    },
    {
      "cell_type": "code",
      "metadata": {
        "id": "hGqAJQx_ld6z"
      },
      "source": [
        "#!unzip images.zip"
      ],
      "execution_count": 8,
      "outputs": []
    },
    {
      "cell_type": "code",
      "metadata": {
        "id": "GmYzoTvtsyIv",
        "colab": {
          "base_uri": "https://localhost:8080/",
          "height": 477
        },
        "outputId": "71e7a285-2324-4681-efaa-955aebe9703d"
      },
      "source": [
        "from keras.models import load_model\n",
        "classifier=load_model('cnn_svhn_.model')\n",
        "\n",
        "row_list = []\n",
        "index_counter = 0\n",
        "resize_counter = 0\n",
        "\n",
        "show_image = True\n",
        "\n",
        "directory=\"easy_samples/\"\n",
        "#directory=\"images/\"\n",
        "#directory=\"difficult_samples/\"\n",
        "\n",
        "lst = os.listdir(directory)\n",
        "lst.sort()\n",
        "\n",
        "for file in lst:\n",
        "  path = directory + file\n",
        "  #print(path)\n",
        "  try:\n",
        "    #if (file==\"SAYAC (7).jpg\"): \n",
        "    #if (file==\"10.png\"):\n",
        "    if (file==\"10000.png\"): \n",
        "    #if (file.endswith(\".jpg\") or file.endswith(\".png\")): \n",
        "        img = cv2.imread(path, 0)\n",
        "\n",
        "        if(show_image):\n",
        "            cv2_imshow(img)\n",
        "\n",
        "        if img is not None:\n",
        "            #blur = cv2.GaussianBlur(grey, value, 0)\n",
        "            img = cv2.GaussianBlur(img, (3,3), 0)\n",
        "\n",
        "        def auto_canny(image, sigma=0.33):\n",
        "\n",
        "            v = np.median(image)\n",
        "            lower = int(max(0, (1.0 - sigma) * v))\n",
        "            upper = int(min(255, (1.0 + sigma) * v))\n",
        "            edged = cv2.Canny(image, lower, upper, apertureSize=3, L2gradient=True)\n",
        "            return edged\n",
        "\n",
        "        #edges = auto_canny(img)\n",
        "        edges = cv2.Canny(img, 50, 200, apertureSize=3, L2gradient=False)\n",
        "        #edges = cv2.Canny(img, 175, 200, apertureSize=3, L2gradient=False)\n",
        "\n",
        "        if edges is None:\n",
        "            break\n",
        "\n",
        "        contours, hierarchy = cv2.findContours(edges.copy(), cv2.RETR_TREE, cv2.CHAIN_APPROX_SIMPLE)\n",
        "\n",
        "        contours_dict = dict()\n",
        "        for cont in contours:\n",
        "            x, y, w, h = cv2.boundingRect(cont)\n",
        "            area = cv2.contourArea(cont)\n",
        "            #if 20 < area and 20 < w and h > 10 :\n",
        "            if 10 < area and 10 < w and h > 5 :\n",
        "                contours_dict[(x, y, w, h)] = cont\n",
        "\n",
        "        contours_filtered = sorted(contours_dict.values(), key=cv2.boundingRect)\n",
        "        blank_background = np.zeros_like(edges)\n",
        "        img_contours = cv2.drawContours(blank_background, contours_filtered, -1, (255,255,255), thickness=2)\n",
        "\n",
        "        #cv2.imshow(img_contours)\n",
        "        if(show_image):\n",
        "            cv2_imshow(img_contours)\n",
        "\n",
        "\n",
        "        def is_overlapping_horizontally(box1, box2):\n",
        "            x1, _, w1, _ = box1\n",
        "            x2, _, _, _ = box2\n",
        "            if x1 > x2:\n",
        "                return is_overlapping_horizontally(box2, box1)\n",
        "            return (x2 - x1) < w1\n",
        "\n",
        "        def merge(box1, box2):\n",
        "            assert is_overlapping_horizontally(box1, box2)\n",
        "            x1, y1, w1, h1 = box1\n",
        "            x2, y2, w2, h2 = box2\n",
        "            x = min(x1, x2)\n",
        "            w = max(x1 + w1, x2 + w2) - x\n",
        "            y = min(y1, y2)\n",
        "            h = max(y1 + h1, y2 + h2) - y\n",
        "            return (x, y, w, h)\n",
        "\n",
        "        def windows(contours):\n",
        "            boxes = []\n",
        "            for cont in contours:\n",
        "                box = cv2.boundingRect(cont)\n",
        "                if not boxes:\n",
        "                    boxes.append(box)\n",
        "                else:\n",
        "                    if is_overlapping_horizontally(boxes[-1], box):\n",
        "                        last_box = boxes.pop()\n",
        "                        merged_box = merge(box, last_box)\n",
        "                        boxes.append(merged_box)\n",
        "                    else:\n",
        "                        boxes.append(box)\n",
        "            return boxes\n",
        "\n",
        "        boxes = windows(contours_filtered)\n",
        "        len_boxes = len(boxes)\n",
        "\n",
        "        for n in range(len_boxes):\n",
        "          x, y, w, h = boxes[n]\n",
        "          plt.axis('off')\n",
        "          \n",
        "          if y < 10:\n",
        "              y = 10\n",
        "          if x < 10:\n",
        "              x = 10\n",
        "              \n",
        "          roi = img[y-10:y+h+5, x-10:x+w+5]\n",
        "          roi = cv2.resize(roi,(32, 32),interpolation = cv2.INTER_AREA)\n",
        "          a = str(n+1)\n",
        "          cv2.imwrite('basamak'+a+'.png', roi)\n",
        "\n",
        "        columnNames = list()\n",
        "\n",
        "        for i in range(1024):\n",
        "            pixel = 'pixel'\n",
        "            pixel += str(i)\n",
        "            columnNames.append(pixel)\n",
        "\n",
        "        train_data = pd.DataFrame(columns = columnNames)\n",
        "\n",
        "        for n in range(len_boxes):\n",
        "            a = str(n+1)\n",
        "            b='basamak'+a+'.png'\n",
        "            img = Image.open(b)\n",
        "            rawData = img.load()\n",
        "            data = []\n",
        "            for y in range(32):\n",
        "                for x in range(32):\n",
        "                    data.append(rawData[x,y])\n",
        "            k = 0\n",
        "            train_data.loc[0] = [data[k] for k in range(1024)]\n",
        "            train_data = train_data.div(255)\n",
        "            train_data.to_csv(\"train_converted\"+a+\".csv\",index = False)\n",
        "\n",
        "\n",
        "        w ={}\n",
        "        for n in range(len_boxes):\n",
        "            a = str(n+1)\n",
        "            b = \"train_converted\"+a+\".csv\"\n",
        "            x_pred = pd.read_csv(b)\n",
        "            x_pred = x_pred.iloc[:,:].values.astype('float32')\n",
        "            x_pred =x_pred.reshape(-1, 32, 32, 1)\n",
        "            predictions=classifier.predict(x_pred)\n",
        "            x = predictions[4]\n",
        "            c = \"predictions\"+a\n",
        "            w.update( {c : x.argmax()} )\n",
        "        \n",
        "        \"\"\"\n",
        "        row = [file,  str(w.get(\"predictions1\")) + \n",
        "               str(w.get(\"predictions2\")) +  \n",
        "               str(w.get(\"predictions3\")) +\n",
        "               str(w.get(\"predictions4\")) +\n",
        "               str(w.get(\"predictions5\")) +\n",
        "               str(w.get(\"predictions6\")) ]\n",
        "        \"\"\"\n",
        "\n",
        "        row = [file,  str(w.get(\"predictions1\")) + \n",
        "               str(w.get(\"predictions2\")) +  \n",
        "               str(w.get(\"predictions3\")) +\n",
        "               str(w.get(\"predictions4\")) +\n",
        "               str(w.get(\"predictions5\")) ]\n",
        "\n",
        "        row_list.append(row)\n",
        "\n",
        "        \"\"\"\n",
        "        print( file + \" \" + \"Prediction: \" +\n",
        "            str(w.get(\"predictions1\")) + \n",
        "            str(w.get(\"predictions2\")) +  \n",
        "            str(w.get(\"predictions3\")) +\n",
        "            str(w.get(\"predictions4\")) +\n",
        "            str(w.get(\"predictions5\")) +\n",
        "            str(w.get(\"predictions6\")) \n",
        "            )\n",
        "        \"\"\"\n",
        "\n",
        "        print( file + \" \" + \"Prediction: \" +\n",
        "            str(w.get(\"predictions1\")) + \n",
        "            str(w.get(\"predictions2\")) +  \n",
        "            str(w.get(\"predictions3\")) +\n",
        "            str(w.get(\"predictions4\")) +\n",
        "            str(w.get(\"predictions5\")) \n",
        "            )\n",
        "\n",
        "        continue\n",
        "        \n",
        "    else:\n",
        "        continue\n",
        "\n",
        "  except IndexError:\n",
        "    if IndexError:\n",
        "      index_counter += 1\n",
        "      #print(file + \" \" +'List index out of range error')\n",
        "      #print('index count: ', index_counter)\n",
        "      pass\n",
        "\n",
        "  '''except:\n",
        "    row = [file, \"Resize Error\"]\n",
        "    resize_counter += 1\n",
        "    print('resize count: ', resize_counter)\n",
        "    print(file + \" \" + 'resize error')'''"
      ],
      "execution_count": 31,
      "outputs": [
        {
          "output_type": "display_data",
          "data": {
            "image/png": "[encoded data removed]",
            "text/plain": [
              "<PIL.Image.Image image mode=L size=393x106 at 0x7FDC98FB3BD0>"
            ]
          },
          "metadata": {}
        },
        {
          "output_type": "display_data",
          "data": {
            "image/png": "[encoded data removed]",
            "text/plain": [
              "<PIL.Image.Image image mode=L size=393x106 at 0x7FDC9C50A790>"
            ]
          },
          "metadata": {}
        },
        {
          "output_type": "stream",
          "name": "stdout",
          "text": [
            "10000.png Prediction: 4NoneNoneNoneNone\n"
          ]
        },
        {
          "output_type": "display_data",
          "data": {
            "image/png": "[encoded data removed]",
            "text/plain": [
              "<Figure size 432x288 with 1 Axes>"
            ]
          },
          "metadata": {
            "needs_background": "light"
          }
        }
      ]
    },
    {
      "cell_type": "code",
      "metadata": {
        "id": "U8f_7HoCSu-p"
      },
      "source": [
        "print(row_list)"
      ],
      "execution_count": null,
      "outputs": []
    },
    {
      "cell_type": "code",
      "metadata": {
        "colab": {
          "base_uri": "https://localhost:8080/"
        },
        "id": "r3pqAMSVuNxE",
        "outputId": "cbdba3c5-a4e7-40ca-c3d7-f9cc3bb36834"
      },
      "source": [
        "# Create a file for new predicted values, then write it\n",
        "# update this csv each time you changed something in the code above \n",
        "# then follow these steps and calculate the accuracy, compare with other results\n",
        "with open('analog_predicted_meter.csv', 'w', newline='') as file:\n",
        "  writer = csv.writer(file)\n",
        "  writer.writerows(row_list)\n",
        "print(len(row_list))"
      ],
      "execution_count": 16,
      "outputs": [
        {
          "output_type": "stream",
          "name": "stdout",
          "text": [
            "1000\n"
          ]
        }
      ]
    },
    {
      "cell_type": "code",
      "metadata": {
        "id": "YSC3zXTPt_Lr"
      },
      "source": [
        "print(\"-------------------------------------\")\n",
        "print(\"resize counter error:\", \" \", resize_counter)\n",
        "print(\"index counter error:\" , \" \" , index_counter)\n",
        "print(\"-------------------------------------\")\n",
        "read = 169 - (int(resize_counter) + int(index_counter))\n",
        "not_read = int(resize_counter) + int(index_counter)\n",
        "print(\"reading: \", read)\n",
        "print(\"not reading: \", not_read)\n",
        "print(\"-------------------------------------\")"
      ],
      "execution_count": null,
      "outputs": []
    },
    {
      "cell_type": "code",
      "metadata": {
        "id": "8S4KwFn1wPtB"
      },
      "source": [
        "read_value = pd.read_csv(\"analog_predicted_meter.csv\", header=None)\n",
        "read_value.columns = [\"imageID\", \"read_value\"]\n",
        "read_value[\"imageID\"] = read_value[\"imageID\"].str.replace(r'.jpg$', '')\n",
        "read_value[\"imageID\"] = read_value[\"imageID\"].str.replace(r'.png$', '')\n",
        "#read_val[\"ImageID\"] = read_val[\"ImageID\"].str.replace(r'.png$', '')\n",
        "\n",
        "# Delete basamak.png rows\n",
        "#read_val = read_val[read_val.ReadValue == basamak]\n",
        "\n",
        "read_value"
      ],
      "execution_count": null,
      "outputs": []
    },
    {
      "cell_type": "code",
      "metadata": {
        "id": "gm0QTF6KhSbP"
      },
      "source": [
        "!wget https://github.com/ltdaovn/analog-meter-reading-openCV/raw/main/analog_actual_meter.xlsx"
      ],
      "execution_count": null,
      "outputs": []
    },
    {
      "cell_type": "code",
      "metadata": {
        "id": "uN-DjMv1uuxU"
      },
      "source": [
        "!wget https://github.com/ltdaovn/analog-meter-reading-openCV/raw/main/analog_manual_meter_easy.xlsx"
      ],
      "execution_count": null,
      "outputs": []
    },
    {
      "cell_type": "code",
      "metadata": {
        "id": "PNGSRw3yxkiT",
        "colab": {
          "base_uri": "https://localhost:8080/",
          "height": 419
        },
        "outputId": "a9b0cb7b-1e24-451b-af01-3adcce1b32b9"
      },
      "source": [
        "#real_value = pd.read_excel(\"analog_actual_meter.xlsx\", dtype={'actual_value':np.str})\n",
        "real_value = pd.read_excel(\"analog_manual_meter_easy.xlsx\", dtype={'imageID':np.str,'actual_value':np.str})\n",
        "real_value"
      ],
      "execution_count": 20,
      "outputs": [
        {
          "output_type": "execute_result",
          "data": {
            "text/html": [
              "<div>\n",
              "<style scoped>\n",
              "    .dataframe tbody tr th:only-of-type {\n",
              "        vertical-align: middle;\n",
              "    }\n",
              "\n",
              "    .dataframe tbody tr th {\n",
              "        vertical-align: top;\n",
              "    }\n",
              "\n",
              "    .dataframe thead th {\n",
              "        text-align: right;\n",
              "    }\n",
              "</style>\n",
              "<table border=\"1\" class=\"dataframe\">\n",
              "  <thead>\n",
              "    <tr style=\"text-align: right;\">\n",
              "      <th></th>\n",
              "      <th>imageID</th>\n",
              "      <th>actual_value</th>\n",
              "    </tr>\n",
              "  </thead>\n",
              "  <tbody>\n",
              "    <tr>\n",
              "      <th>0</th>\n",
              "      <td>1</td>\n",
              "      <td>95882</td>\n",
              "    </tr>\n",
              "    <tr>\n",
              "      <th>1</th>\n",
              "      <td>10</td>\n",
              "      <td>96220</td>\n",
              "    </tr>\n",
              "    <tr>\n",
              "      <th>2</th>\n",
              "      <td>100</td>\n",
              "      <td>00500</td>\n",
              "    </tr>\n",
              "    <tr>\n",
              "      <th>3</th>\n",
              "      <td>101</td>\n",
              "      <td>00541</td>\n",
              "    </tr>\n",
              "    <tr>\n",
              "      <th>4</th>\n",
              "      <td>102</td>\n",
              "      <td>00580</td>\n",
              "    </tr>\n",
              "    <tr>\n",
              "      <th>...</th>\n",
              "      <td>...</td>\n",
              "      <td>...</td>\n",
              "    </tr>\n",
              "    <tr>\n",
              "      <th>495</th>\n",
              "      <td>10394</td>\n",
              "      <td>38052</td>\n",
              "    </tr>\n",
              "    <tr>\n",
              "      <th>496</th>\n",
              "      <td>10395</td>\n",
              "      <td>38092</td>\n",
              "    </tr>\n",
              "    <tr>\n",
              "      <th>497</th>\n",
              "      <td>10396</td>\n",
              "      <td>38171</td>\n",
              "    </tr>\n",
              "    <tr>\n",
              "      <th>498</th>\n",
              "      <td>10397</td>\n",
              "      <td>38214</td>\n",
              "    </tr>\n",
              "    <tr>\n",
              "      <th>499</th>\n",
              "      <td>10398</td>\n",
              "      <td>38254</td>\n",
              "    </tr>\n",
              "  </tbody>\n",
              "</table>\n",
              "<p>500 rows × 2 columns</p>\n",
              "</div>"
            ],
            "text/plain": [
              "    imageID actual_value\n",
              "0         1        95882\n",
              "1        10        96220\n",
              "2       100        00500\n",
              "3       101        00541\n",
              "4       102        00580\n",
              "..      ...          ...\n",
              "495   10394        38052\n",
              "496   10395        38092\n",
              "497   10396        38171\n",
              "498   10397        38214\n",
              "499   10398        38254\n",
              "\n",
              "[500 rows x 2 columns]"
            ]
          },
          "metadata": {},
          "execution_count": 20
        }
      ]
    },
    {
      "cell_type": "code",
      "metadata": {
        "id": "Jp6hsBeEyyrA",
        "colab": {
          "base_uri": "https://localhost:8080/",
          "height": 636
        },
        "outputId": "11144eba-9017-4c72-825c-86717c201c1e"
      },
      "source": [
        "merged = pd.merge(read_value, real_value, on=\"imageID\")\n",
        "%load_ext google.colab.data_table \n",
        "merged"
      ],
      "execution_count": 21,
      "outputs": [
        {
          "output_type": "execute_result",
          "data": {
            "application/vnd.google.colaboratory.module+javascript": "\n      import \"https://ssl.gstatic.com/colaboratory/data_table/a6224c040fa35dcf/data_table.js\";\n\n      window.createDataTable({\n        data: [[{\n            'v': 0,\n            'f': \"0\",\n        },\n\"1\",\n\"65885\",\n\" 95882\"],\n [{\n            'v': 1,\n            'f': \"1\",\n        },\n\"10\",\n\"96220\",\n\" 96220\"],\n [{\n            'v': 2,\n            'f': \"2\",\n        },\n\"100\",\n\"20609\",\n\" 00500\"],\n [{\n            'v': 3,\n            'f': \"3\",\n        },\n\"1000\",\n\"14365\",\n\" 14366\"],\n [{\n            'v': 4,\n            'f': \"4\",\n        },\n\"10000\",\n\"4NoneNoneNoneNone\",\n\" 14398\"],\n [{\n            'v': 5,\n            'f': \"5\",\n        },\n\"10001\",\n\"14443\",\n\" 14438\"],\n [{\n            'v': 6,\n            'f': \"6\",\n        },\n\"10002\",\n\"14462\",\n\" 14517\"],\n [{\n            'v': 7,\n            'f': \"7\",\n        },\n\"10003\",\n\"14469\",\n\" 14595\"],\n [{\n            'v': 8,\n            'f': \"8\",\n        },\n\"10004\",\n\"37NoneNoneNone\",\n\" 14634\"],\n [{\n            'v': 9,\n            'f': \"9\",\n        },\n\"10005\",\n\"14472\",\n\" 14716\"],\n [{\n            'v': 10,\n            'f': \"10\",\n        },\n\"10006\",\n\"14479\",\n\" 14793\"],\n [{\n            'v': 11,\n            'f': \"11\",\n        },\n\"10007\",\n\"17481\",\n\" 14833\"],\n [{\n            'v': 12,\n            'f': \"12\",\n        },\n\"10008\",\n\"14481\",\n\" 14872\"],\n [{\n            'v': 13,\n            'f': \"13\",\n        },\n\"10009\",\n\"14495\",\n\" 14954\"],\n [{\n            'v': 14,\n            'f': \"14\",\n        },\n\"1001\",\n\"14469\",\n\" 14451\"],\n [{\n            'v': 15,\n            'f': \"15\",\n        },\n\"10010\",\n\"14503\",\n\" 15032\"],\n [{\n            'v': 16,\n            'f': \"16\",\n        },\n\"10011\",\n\"14517\",\n\" 15111\"],\n [{\n            'v': 17,\n            'f': \"17\",\n        },\n\"10012\",\n\"14618\",\n\" 15187\"],\n [{\n            'v': 18,\n            'f': \"18\",\n        },\n\"10013\",\n\"14522\",\n\" 15227\"],\n [{\n            'v': 19,\n            'f': \"19\",\n        },\n\"10014\",\n\"11526\",\n\" 15266\"],\n [{\n            'v': 20,\n            'f': \"20\",\n        },\n\"10015\",\n\"14537\",\n\" 15306\"],\n [{\n            'v': 21,\n            'f': \"21\",\n        },\n\"10016\",\n\"26NoneNoneNone\",\n\" 15344\"],\n [{\n            'v': 22,\n            'f': \"22\",\n        },\n\"10017\",\n\"14542\",\n\" 15423\"],\n [{\n            'v': 23,\n            'f': \"23\",\n        },\n\"10018\",\n\"12NoneNoneNone\",\n\" 15502\"],\n [{\n            'v': 24,\n            'f': \"24\",\n        },\n\"10019\",\n\"14526\",\n\" 15542\"],\n [{\n            'v': 25,\n            'f': \"25\",\n        },\n\"1002\",\n\"44638\",\n\" 14538\"],\n [{\n            'v': 26,\n            'f': \"26\",\n        },\n\"10020\",\n\"14568\",\n\" 15582\"],\n [{\n            'v': 27,\n            'f': \"27\",\n        },\n\"10021\",\n\"85NoneNoneNone\",\n\" 15660\"],\n [{\n            'v': 28,\n            'f': \"28\",\n        },\n\"10022\",\n\"14574\",\n\" 15742\"],\n [{\n            'v': 29,\n            'f': \"29\",\n        },\n\"10023\",\n\"14582\",\n\" 15819\"],\n [{\n            'v': 30,\n            'f': \"30\",\n        },\n\"10024\",\n\"14580\",\n\" 15899\"],\n [{\n            'v': 31,\n            'f': \"31\",\n        },\n\"10025\",\n\"14591\",\n\" 15940\"],\n [{\n            'v': 32,\n            'f': \"32\",\n        },\n\"10026\",\n\"14602\",\n\" 16022\"],\n [{\n            'v': 33,\n            'f': \"33\",\n        },\n\"10027\",\n\"14606\",\n\" 16061\"],\n [{\n            'v': 34,\n            'f': \"34\",\n        },\n\"10028\",\n\"14611\",\n\" 16101\"],\n [{\n            'v': 35,\n            'f': \"35\",\n        },\n\"10029\",\n\"14619\",\n\" 16139\"],\n [{\n            'v': 36,\n            'f': \"36\",\n        },\n\"1003\",\n\"44625\",\n\" 14622\"],\n [{\n            'v': 37,\n            'f': \"37\",\n        },\n\"10030\",\n\"14622\",\n\" 16217\"],\n [{\n            'v': 38,\n            'f': \"38\",\n        },\n\"10031\",\n\"14625\",\n\" 16295\"],\n [{\n            'v': 39,\n            'f': \"39\",\n        },\n\"10032\",\n\"14637\",\n\" 16375\"],\n [{\n            'v': 40,\n            'f': \"40\",\n        },\n\"10033\",\n\"14641\",\n\" 16414\"],\n [{\n            'v': 41,\n            'f': \"41\",\n        },\n\"10034\",\n\"14649\",\n\" 16493\"],\n [{\n            'v': 42,\n            'f': \"42\",\n        },\n\"10035\",\n\"14657\",\n\" 16571\"],\n [{\n            'v': 43,\n            'f': \"43\",\n        },\n\"10036\",\n\"14661\",\n\" 16650\"],\n [{\n            'v': 44,\n            'f': \"44\",\n        },\n\"10037\",\n\"14666\",\n\" 16689\"],\n [{\n            'v': 45,\n            'f': \"45\",\n        },\n\"10038\",\n\"14673\",\n\" 16733\"],\n [{\n            'v': 46,\n            'f': \"46\",\n        },\n\"10039\",\n\"14677\",\n\" 16772\"],\n [{\n            'v': 47,\n            'f': \"47\",\n        },\n\"1004\",\n\"44706\",\n\" 14705\"],\n [{\n            'v': 48,\n            'f': \"48\",\n        },\n\"10040\",\n\"14686\",\n\" 16851\"],\n [{\n            'v': 49,\n            'f': \"49\",\n        },\n\"10041\",\n\"14691\",\n\" 16931\"],\n [{\n            'v': 50,\n            'f': \"50\",\n        },\n\"10042\",\n\"14691\",\n\" 16971\"],\n [{\n            'v': 51,\n            'f': \"51\",\n        },\n\"10043\",\n\"14704\",\n\" 17049\"],\n [{\n            'v': 52,\n            'f': \"52\",\n        },\n\"10044\",\n\"47068\",\n\" 17089\"],\n [{\n            'v': 53,\n            'f': \"53\",\n        },\n\"10045\",\n\"14716\",\n\" 17169\"],\n [{\n            'v': 54,\n            'f': \"54\",\n        },\n\"10046\",\n\"14724\",\n\" 17247\"],\n [{\n            'v': 55,\n            'f': \"55\",\n        },\n\"10047\",\n\"14728\",\n\" 17287\"],\n [{\n            'v': 56,\n            'f': \"56\",\n        },\n\"10048\",\n\"14732\",\n\" 17327\"],\n [{\n            'v': 57,\n            'f': \"57\",\n        },\n\"10049\",\n\"4748None\",\n\" 17406\"],\n [{\n            'v': 58,\n            'f': \"58\",\n        },\n\"1005\",\n\"44181\",\n\" 14789\"],\n [{\n            'v': 59,\n            'f': \"59\",\n        },\n\"10050\",\n\"14744\",\n\" 17445\"],\n [{\n            'v': 60,\n            'f': \"60\",\n        },\n\"10051\",\n\"14748\",\n\" 17484\"],\n [{\n            'v': 61,\n            'f': \"61\",\n        },\n\"10052\",\n\"14766\",\n\" 17564\"],\n [{\n            'v': 62,\n            'f': \"62\",\n        },\n\"10053\",\n\"14764\",\n\" 17642\"],\n [{\n            'v': 63,\n            'f': \"63\",\n        },\n\"10054\",\n\"14771\",\n\" 17720\"],\n [{\n            'v': 64,\n            'f': \"64\",\n        },\n\"10055\",\n\"14779\",\n\" 17798\"],\n [{\n            'v': 65,\n            'f': \"65\",\n        },\n\"10056\",\n\"14787\",\n\" 17876\"],\n [{\n            'v': 66,\n            'f': \"66\",\n        },\n\"10057\",\n\"14791\",\n\" 17915\"],\n [{\n            'v': 67,\n            'f': \"67\",\n        },\n\"10058\",\n\"14796\",\n\" 17955\"],\n [{\n            'v': 68,\n            'f': \"68\",\n        },\n\"10059\",\n\"14799\",\n\" 17995\"],\n [{\n            'v': 69,\n            'f': \"69\",\n        },\n\"1006\",\n\"44874\",\n\" 14873\"],\n [{\n            'v': 70,\n            'f': \"70\",\n        },\n\"10060\",\n\"14870\",\n\" 18034\"],\n [{\n            'v': 71,\n            'f': \"71\",\n        },\n\"10061\",\n\"14811\",\n\" 18113\"],\n [{\n            'v': 72,\n            'f': \"72\",\n        },\n\"10062\",\n\"14851\",\n\" 18190\"],\n [{\n            'v': 73,\n            'f': \"73\",\n        },\n\"10063\",\n\"14826\",\n\" 18269\"],\n [{\n            'v': 74,\n            'f': \"74\",\n        },\n\"10064\",\n\"11831\",\n\" 18348\"],\n [{\n            'v': 75,\n            'f': \"75\",\n        },\n\"10065\",\n\"14842\",\n\" 18428\"],\n [{\n            'v': 76,\n            'f': \"76\",\n        },\n\"10066\",\n\"12846\",\n\" 18468\"],\n [{\n            'v': 77,\n            'f': \"77\",\n        },\n\"10067\",\n\"14846\",\n\" 18467\"],\n [{\n            'v': 78,\n            'f': \"78\",\n        },\n\"10068\",\n\"14861\",\n\" 18546\"],\n [{\n            'v': 79,\n            'f': \"79\",\n        },\n\"10069\",\n\"14862\",\n\" 18625\"],\n [{\n            'v': 80,\n            'f': \"80\",\n        },\n\"1007\",\n\"24967\",\n\" 14957\"],\n [{\n            'v': 81,\n            'f': \"81\",\n        },\n\"10070\",\n\"14871\",\n\" 18702\"],\n [{\n            'v': 82,\n            'f': \"82\",\n        },\n\"10071\",\n\"14871\",\n\" 18780\"],\n [{\n            'v': 83,\n            'f': \"83\",\n        },\n\"10072\",\n\"14882\",\n\" 18859\"],\n [{\n            'v': 84,\n            'f': \"84\",\n        },\n\"10073\",\n\"11893\",\n\" 18938\"],\n [{\n            'v': 85,\n            'f': \"85\",\n        },\n\"10074\",\n\"14901\",\n\" 19018\"],\n [{\n            'v': 86,\n            'f': \"86\",\n        },\n\"10075\",\n\"14909\",\n\" 19096\"],\n [{\n            'v': 87,\n            'f': \"87\",\n        },\n\"10076\",\n\"14911\",\n\" 19174\"],\n [{\n            'v': 88,\n            'f': \"88\",\n        },\n\"10077\",\n\"14921\",\n\" 19213\"],\n [{\n            'v': 89,\n            'f': \"89\",\n        },\n\"10078\",\n\"14926\",\n\" 19252\"],\n [{\n            'v': 90,\n            'f': \"90\",\n        },\n\"10079\",\n\"14933\",\n\" 19331\"],\n [{\n            'v': 91,\n            'f': \"91\",\n        },\n\"1008\",\n\"45042\",\n\" 15040\"],\n [{\n            'v': 92,\n            'f': \"92\",\n        },\n\"10080\",\n\"14914\",\n\" 19410\"],\n [{\n            'v': 93,\n            'f': \"93\",\n        },\n\"10081\",\n\"14944\",\n\" 19449\"],\n [{\n            'v': 94,\n            'f': \"94\",\n        },\n\"10082\",\n\"14963\",\n\" 19532\"],\n [{\n            'v': 95,\n            'f': \"95\",\n        },\n\"10083\",\n\"14961\",\n\" 19613\"],\n [{\n            'v': 96,\n            'f': \"96\",\n        },\n\"10084\",\n\"14969\",\n\" 19693\"],\n [{\n            'v': 97,\n            'f': \"97\",\n        },\n\"10085\",\n\"14972\",\n\" 19772\"],\n [{\n            'v': 98,\n            'f': \"98\",\n        },\n\"10086\",\n\"9NoneNoneNoneNone\",\n\" 19852\"],\n [{\n            'v': 99,\n            'f': \"99\",\n        },\n\"10087\",\n\"14993\",\n\" 19933\"],\n [{\n            'v': 100,\n            'f': \"100\",\n        },\n\"10088\",\n\"20101\",\n\" 20012\"],\n [{\n            'v': 101,\n            'f': \"101\",\n        },\n\"10089\",\n\"20068\",\n\" 20051\"],\n [{\n            'v': 102,\n            'f': \"102\",\n        },\n\"1009\",\n\"46122\",\n\" 15123\"],\n [{\n            'v': 103,\n            'f': \"103\",\n        },\n\"10090\",\n\"20091\",\n\" 20091\"],\n [{\n            'v': 104,\n            'f': \"104\",\n        },\n\"10091\",\n\"20170\",\n\" 20170\"],\n [{\n            'v': 105,\n            'f': \"105\",\n        },\n\"10092\",\n\"20269\",\n\" 20209\"],\n [{\n            'v': 106,\n            'f': \"106\",\n        },\n\"10093\",\n\"20286\",\n\" 20288\"],\n [{\n            'v': 107,\n            'f': \"107\",\n        },\n\"10094\",\n\"3NoneNoneNoneNone\",\n\" 20369\"],\n [{\n            'v': 108,\n            'f': \"108\",\n        },\n\"10095\",\n\"24046\",\n\" 20456\"],\n [{\n            'v': 109,\n            'f': \"109\",\n        },\n\"10096\",\n\"20634\",\n\" 20537\"],\n [{\n            'v': 110,\n            'f': \"110\",\n        },\n\"10097\",\n\"20627\",\n\" 20617\"],\n [{\n            'v': 111,\n            'f': \"111\",\n        },\n\"10098\",\n\"20699\",\n\" 20695\"],\n [{\n            'v': 112,\n            'f': \"112\",\n        },\n\"10099\",\n\"6NoneNoneNoneNone\",\n\" 20775\"],\n [{\n            'v': 113,\n            'f': \"113\",\n        },\n\"101\",\n\"4NoneNoneNoneNone\",\n\" 00541\"],\n [{\n            'v': 114,\n            'f': \"114\",\n        },\n\"1010\",\n\"45207\",\n\" 15205\"],\n [{\n            'v': 115,\n            'f': \"115\",\n        },\n\"10100\",\n\"24082\",\n\" 20815\"],\n [{\n            'v': 116,\n            'f': \"116\",\n        },\n\"10101\",\n\"20826\",\n\" 20855\"],\n [{\n            'v': 117,\n            'f': \"117\",\n        },\n\"10102\",\n\"20897\",\n\" 20894\"],\n [{\n            'v': 118,\n            'f': \"118\",\n        },\n\"10103\",\n\"20971\",\n\" 20976\"],\n [{\n            'v': 119,\n            'f': \"119\",\n        },\n\"10104\",\n\"21101\",\n\" 21055\"],\n [{\n            'v': 120,\n            'f': \"120\",\n        },\n\"10105\",\n\"21093\",\n\" 21095\"],\n [{\n            'v': 121,\n            'f': \"121\",\n        },\n\"10106\",\n\"21178\",\n\" 21174\"],\n [{\n            'v': 122,\n            'f': \"122\",\n        },\n\"10107\",\n\"21255\",\n\" 21252\"],\n [{\n            'v': 123,\n            'f': \"123\",\n        },\n\"10108\",\n\"27216\",\n\" 21292\"],\n [{\n            'v': 124,\n            'f': \"124\",\n        },\n\"10109\",\n\"21137\",\n\" 21374\"],\n [{\n            'v': 125,\n            'f': \"125\",\n        },\n\"1011\",\n\"46259\",\n\" 15290\"],\n [{\n            'v': 126,\n            'f': \"126\",\n        },\n\"10110\",\n\"21462\",\n\" 21451\"],\n [{\n            'v': 127,\n            'f': \"127\",\n        },\n\"10111\",\n\"21630\",\n\" 21530\"],\n [{\n            'v': 128,\n            'f': \"128\",\n        },\n\"10112\",\n\"21560\",\n\" 21608\"],\n [{\n            'v': 129,\n            'f': \"129\",\n        },\n\"10113\",\n\"21161\",\n\" 21648\"],\n [{\n            'v': 130,\n            'f': \"130\",\n        },\n\"10114\",\n\"8NoneNoneNoneNone\",\n\" 21688\"],\n [{\n            'v': 131,\n            'f': \"131\",\n        },\n\"10115\",\n\"21724\",\n\" 21727\"],\n [{\n            'v': 132,\n            'f': \"132\",\n        },\n\"10116\",\n\"21176\",\n\" 21766\"],\n [{\n            'v': 133,\n            'f': \"133\",\n        },\n\"10117\",\n\"11816\",\n\" 21845\"],\n [{\n            'v': 134,\n            'f': \"134\",\n        },\n\"10118\",\n\"24192\",\n\" 21925\"],\n [{\n            'v': 135,\n            'f': \"135\",\n        },\n\"10119\",\n\"26012\",\n\" 22003\"],\n [{\n            'v': 136,\n            'f': \"136\",\n        },\n\"1012\",\n\"45327\",\n\" 15376\"],\n [{\n            'v': 137,\n            'f': \"137\",\n        },\n\"10120\",\n\"22083\",\n\" 22083\"],\n [{\n            'v': 138,\n            'f': \"138\",\n        },\n\"10121\",\n\"22167\",\n\" 22163\"],\n [{\n            'v': 139,\n            'f': \"139\",\n        },\n\"10122\",\n\"24221\",\n\" 22241\"],\n [{\n            'v': 140,\n            'f': \"140\",\n        },\n\"10123\",\n\"22322\",\n\" 22324\"],\n [{\n            'v': 141,\n            'f': \"141\",\n        },\n\"10124\",\n\"22416\",\n\" 22405\"],\n [{\n            'v': 142,\n            'f': \"142\",\n        },\n\"10125\",\n\"22446\",\n\" 22444\"],\n [{\n            'v': 143,\n            'f': \"143\",\n        },\n\"10126\",\n\"24276\",\n\" 22522\"],\n [{\n            'v': 144,\n            'f': \"144\",\n        },\n\"10127\",\n\"0NoneNoneNoneNone\",\n\" 22601\"],\n [{\n            'v': 145,\n            'f': \"145\",\n        },\n\"10128\",\n\"24264\",\n\" 22640\"],\n [{\n            'v': 146,\n            'f': \"146\",\n        },\n\"10129\",\n\"22720\",\n\" 22720\"],\n [{\n            'v': 147,\n            'f': \"147\",\n        },\n\"1013\",\n\"46466\",\n\" 15450\"],\n [{\n            'v': 148,\n            'f': \"148\",\n        },\n\"10130\",\n\"22769\",\n\" 22759\"],\n [{\n            'v': 149,\n            'f': \"149\",\n        },\n\"10131\",\n\"8NoneNoneNoneNone\",\n\" 22838\"],\n [{\n            'v': 150,\n            'f': \"150\",\n        },\n\"10132\",\n\"22945\",\n\" 22916\"],\n [{\n            'v': 151,\n            'f': \"151\",\n        },\n\"10133\",\n\"22997\",\n\" 22995\"],\n [{\n            'v': 152,\n            'f': \"152\",\n        },\n\"10134\",\n\"6NoneNoneNoneNone\",\n\" 23036\"],\n [{\n            'v': 153,\n            'f': \"153\",\n        },\n\"10135\",\n\"23017\",\n\" 23076\"],\n [{\n            'v': 154,\n            'f': \"154\",\n        },\n\"10136\",\n\"23154\",\n\" 23154\"],\n [{\n            'v': 155,\n            'f': \"155\",\n        },\n\"10137\",\n\"24323\",\n\" 23233\"],\n [{\n            'v': 156,\n            'f': \"156\",\n        },\n\"10138\",\n\"23345\",\n\" 23312\"],\n [{\n            'v': 157,\n            'f': \"157\",\n        },\n\"10139\",\n\"5NoneNoneNoneNone\",\n\" 23352\"],\n [{\n            'v': 158,\n            'f': \"158\",\n        },\n\"1014\",\n\"46642\",\n\" 15542\"],\n [{\n            'v': 159,\n            'f': \"159\",\n        },\n\"10140\",\n\"24343\",\n\" 23432\"],\n [{\n            'v': 160,\n            'f': \"160\",\n        },\n\"10141\",\n\"8NoneNoneNoneNone\",\n\" 23472\"],\n [{\n            'v': 161,\n            'f': \"161\",\n        },\n\"10142\",\n\"23664\",\n\" 23554\"],\n [{\n            'v': 162,\n            'f': \"162\",\n        },\n\"10143\",\n\"23692\",\n\" 23594\"],\n [{\n            'v': 163,\n            'f': \"163\",\n        },\n\"10144\",\n\"23672\",\n\" 23673\"],\n [{\n            'v': 164,\n            'f': \"164\",\n        },\n\"10145\",\n\"24371\",\n\" 23712\"],\n [{\n            'v': 165,\n            'f': \"165\",\n        },\n\"10146\",\n\"24375\",\n\" 23752\"],\n [{\n            'v': 166,\n            'f': \"166\",\n        },\n\"10147\",\n\"23791\",\n\" 23791\"],\n [{\n            'v': 167,\n            'f': \"167\",\n        },\n\"10148\",\n\"8NoneNoneNoneNone\",\n\" 23830\"],\n [{\n            'v': 168,\n            'f': \"168\",\n        },\n\"10149\",\n\"23857\",\n\" 23870\"],\n [{\n            'v': 169,\n            'f': \"169\",\n        },\n\"1015\",\n\"45626\",\n\" 15625\"],\n [{\n            'v': 170,\n            'f': \"170\",\n        },\n\"10150\",\n\"23929\",\n\" 23910\"],\n [{\n            'v': 171,\n            'f': \"171\",\n        },\n\"10151\",\n\"4NoneNoneNoneNone\",\n\" 23990\"],\n [{\n            'v': 172,\n            'f': \"172\",\n        },\n\"10152\",\n\"24076\",\n\" 24070\"],\n [{\n            'v': 173,\n            'f': \"173\",\n        },\n\"10153\",\n\"24196\",\n\" 24149\"],\n [{\n            'v': 174,\n            'f': \"174\",\n        },\n\"10154\",\n\"24411\",\n\" 24189\"],\n [{\n            'v': 175,\n            'f': \"175\",\n        },\n\"10155\",\n\"24268\",\n\" 24268\"],\n [{\n            'v': 176,\n            'f': \"176\",\n        },\n\"10156\",\n\"24719\",\n\" 24308\"],\n [{\n            'v': 177,\n            'f': \"177\",\n        },\n\"10157\",\n\"24348\",\n\" 24348\"],\n [{\n            'v': 178,\n            'f': \"178\",\n        },\n\"10158\",\n\"24383\",\n\" 24388\"],\n [{\n            'v': 179,\n            'f': \"179\",\n        },\n\"10159\",\n\"3NoneNoneNoneNone\",\n\" 24428\"],\n [{\n            'v': 180,\n            'f': \"180\",\n        },\n\"1016\",\n\"46775\",\n\" 15709\"],\n [{\n            'v': 181,\n            'f': \"181\",\n        },\n\"10160\",\n\"24446\",\n\" 24468\"],\n [{\n            'v': 182,\n            'f': \"182\",\n        },\n\"10161\",\n\"24648\",\n\" 24548\"],\n [{\n            'v': 183,\n            'f': \"183\",\n        },\n\"10162\",\n\"24627\",\n\" 24627\"],\n [{\n            'v': 184,\n            'f': \"184\",\n        },\n\"10163\",\n\"24707\",\n\" 24707\"],\n [{\n            'v': 185,\n            'f': \"185\",\n        },\n\"10164\",\n\"24747\",\n\" 24745\"],\n [{\n            'v': 186,\n            'f': \"186\",\n        },\n\"10165\",\n\"24735\",\n\" 24785\"],\n [{\n            'v': 187,\n            'f': \"187\",\n        },\n\"10166\",\n\"24864\",\n\" 24864\"],\n [{\n            'v': 188,\n            'f': \"188\",\n        },\n\"10167\",\n\"24948\",\n\" 24943\"],\n [{\n            'v': 189,\n            'f': \"189\",\n        },\n\"10168\",\n\"24919\",\n\" 24983\"],\n [{\n            'v': 190,\n            'f': \"190\",\n        },\n\"10169\",\n\"25063\",\n\" 25063\"],\n [{\n            'v': 191,\n            'f': \"191\",\n        },\n\"1017\",\n\"45799\",\n\" 15795\"],\n [{\n            'v': 192,\n            'f': \"192\",\n        },\n\"10170\",\n\"25103\",\n\" 25103\"],\n [{\n            'v': 193,\n            'f': \"193\",\n        },\n\"10171\",\n\"25181\",\n\" 25181\"],\n [{\n            'v': 194,\n            'f': \"194\",\n        },\n\"10172\",\n\"225NoneNone\",\n\" 25220\"],\n [{\n            'v': 195,\n            'f': \"195\",\n        },\n\"10173\",\n\"25268\",\n\" 25260\"],\n [{\n            'v': 196,\n            'f': \"196\",\n        },\n\"10174\",\n\"6NoneNoneNoneNone\",\n\" 25300\"],\n [{\n            'v': 197,\n            'f': \"197\",\n        },\n\"10175\",\n\"25341\",\n\" 25341\"],\n [{\n            'v': 198,\n            'f': \"198\",\n        },\n\"10176\",\n\"25486\",\n\" 25410\"],\n [{\n            'v': 199,\n            'f': \"199\",\n        },\n\"10177\",\n\"15456\",\n\" 25459\"],\n [{\n            'v': 200,\n            'f': \"200\",\n        },\n\"10178\",\n\"25510\",\n\" 25500\"],\n [{\n            'v': 201,\n            'f': \"201\",\n        },\n\"10179\",\n\"25696\",\n\" 25539\"],\n [{\n            'v': 202,\n            'f': \"202\",\n        },\n\"1018\",\n\"46878\",\n\" 15878\"],\n [{\n            'v': 203,\n            'f': \"203\",\n        },\n\"10180\",\n\"25621\",\n\" 25621\"],\n [{\n            'v': 204,\n            'f': \"204\",\n        },\n\"10181\",\n\"24570\",\n\" 25700\"],\n [{\n            'v': 205,\n            'f': \"205\",\n        },\n\"10182\",\n\"25776\",\n\" 25739\"],\n [{\n            'v': 206,\n            'f': \"206\",\n        },\n\"10183\",\n\"6NoneNoneNoneNone\",\n\" 25819\"],\n [{\n            'v': 207,\n            'f': \"207\",\n        },\n\"10184\",\n\"25866\",\n\" 25859\"],\n [{\n            'v': 208,\n            'f': \"208\",\n        },\n\"10185\",\n\"25885\",\n\" 25899\"],\n [{\n            'v': 209,\n            'f': \"209\",\n        },\n\"10186\",\n\"5NoneNoneNoneNone\",\n\" 25939\"],\n [{\n            'v': 210,\n            'f': \"210\",\n        },\n\"10187\",\n\"980NoneNone\",\n\" 25980\"],\n [{\n            'v': 211,\n            'f': \"211\",\n        },\n\"10188\",\n\"26067\",\n\" 26064\"],\n [{\n            'v': 212,\n            'f': \"212\",\n        },\n\"10189\",\n\"24610\",\n\" 26103\"],\n [{\n            'v': 213,\n            'f': \"213\",\n        },\n\"1019\",\n\"41961\",\n\" 15961\"],\n [{\n            'v': 214,\n            'f': \"214\",\n        },\n\"10190\",\n\"24612\",\n\" 26143\"],\n [{\n            'v': 215,\n            'f': \"215\",\n        },\n\"10191\",\n\"26225\",\n\" 26220\"],\n [{\n            'v': 216,\n            'f': \"216\",\n        },\n\"10192\",\n\"24626\",\n\" 26260\"],\n [{\n            'v': 217,\n            'f': \"217\",\n        },\n\"10193\",\n\"24621\",\n\" 26300\"],\n [{\n            'v': 218,\n            'f': \"218\",\n        },\n\"10194\",\n\"26345\",\n\" 26340\"],\n [{\n            'v': 219,\n            'f': \"219\",\n        },\n\"10195\",\n\"24644\",\n\" 26419\"],\n [{\n            'v': 220,\n            'f': \"220\",\n        },\n\"10196\",\n\"26466\",\n\" 26458\"],\n [{\n            'v': 221,\n            'f': \"221\",\n        },\n\"10197\",\n\"24649\",\n\" 26499\"],\n [{\n            'v': 222,\n            'f': \"222\",\n        },\n\"10198\",\n\"26636\",\n\" 26577\"],\n [{\n            'v': 223,\n            'f': \"223\",\n        },\n\"10199\",\n\"26616\",\n\" 26657\"],\n [{\n            'v': 224,\n            'f': \"224\",\n        },\n\"102\",\n\"21069\",\n\" 00580\"],\n [{\n            'v': 225,\n            'f': \"225\",\n        },\n\"1020\",\n\"16048\",\n\" 16044\"],\n [{\n            'v': 226,\n            'f': \"226\",\n        },\n\"10200\",\n\"26694\",\n\" 26697\"],\n [{\n            'v': 227,\n            'f': \"227\",\n        },\n\"10201\",\n\"26719\",\n\" 26737\"],\n [{\n            'v': 228,\n            'f': \"228\",\n        },\n\"10202\",\n\"26812\",\n\" 26816\"],\n [{\n            'v': 229,\n            'f': \"229\",\n        },\n\"10203\",\n\"26576\",\n\" 26856\"],\n [{\n            'v': 230,\n            'f': \"230\",\n        },\n\"10204\",\n\"26892\",\n\" 26895\"],\n [{\n            'v': 231,\n            'f': \"231\",\n        },\n\"10205\",\n\"26976\",\n\" 26978\"],\n [{\n            'v': 232,\n            'f': \"232\",\n        },\n\"10206\",\n\"26931\",\n\" 26978\"],\n [{\n            'v': 233,\n            'f': \"233\",\n        },\n\"10207\",\n\"3NoneNoneNoneNone\",\n\" 27058\"],\n [{\n            'v': 234,\n            'f': \"234\",\n        },\n\"10208\",\n\"27064\",\n\" 27098\"],\n [{\n            'v': 235,\n            'f': \"235\",\n        },\n\"10209\",\n\"24711\",\n\" 27182\"],\n [{\n            'v': 236,\n            'f': \"236\",\n        },\n\"1021\",\n\"46129\",\n\" 16129\"],\n [{\n            'v': 237,\n            'f': \"237\",\n        },\n\"10210\",\n\"27216\",\n\" 27221\"],\n [{\n            'v': 238,\n            'f': \"238\",\n        },\n\"10211\",\n\"27700\",\n\" 27300\"],\n [{\n            'v': 239,\n            'f': \"239\",\n        },\n\"10212\",\n\"30NoneNoneNone\",\n\" 27340\"],\n [{\n            'v': 240,\n            'f': \"240\",\n        },\n\"10213\",\n\"27369\",\n\" 27379\"],\n [{\n            'v': 241,\n            'f': \"241\",\n        },\n\"10214\",\n\"27457\",\n\" 27457\"],\n [{\n            'v': 242,\n            'f': \"242\",\n        },\n\"10215\",\n\"21616\",\n\" 27536\"],\n [{\n            'v': 243,\n            'f': \"243\",\n        },\n\"10216\",\n\"27616\",\n\" 27615\"],\n [{\n            'v': 244,\n            'f': \"244\",\n        },\n\"10217\",\n\"27698\",\n\" 27693\"],\n [{\n            'v': 245,\n            'f': \"245\",\n        },\n\"10218\",\n\"27732\",\n\" 27733\"],\n [{\n            'v': 246,\n            'f': \"246\",\n        },\n\"10219\",\n\"2783None\",\n\" 27811\"],\n [{\n            'v': 247,\n            'f': \"247\",\n        },\n\"1022\",\n\"46121\",\n\" 16212\"],\n [{\n            'v': 248,\n            'f': \"248\",\n        },\n\"10220\",\n\"9NoneNoneNoneNone\",\n\" 27850\"],\n [{\n            'v': 249,\n            'f': \"249\",\n        },\n\"10221\",\n\"29928\",\n\" 27928\"],\n [{\n            'v': 250,\n            'f': \"250\",\n        },\n\"10222\",\n\"24696\",\n\" 27967\"],\n [{\n            'v': 251,\n            'f': \"251\",\n        },\n\"10223\",\n\"28007\",\n\" 28007\"],\n [{\n            'v': 252,\n            'f': \"252\",\n        },\n\"10224\",\n\"18103\",\n\" 28086\"],\n [{\n            'v': 253,\n            'f': \"253\",\n        },\n\"10225\",\n\"28126\",\n\" 28126\"],\n [{\n            'v': 254,\n            'f': \"254\",\n        },\n\"10226\",\n\"28163\",\n\" 28167\"],\n [{\n            'v': 255,\n            'f': \"255\",\n        },\n\"10227\",\n\"28210\",\n\" 28206\"],\n [{\n            'v': 256,\n            'f': \"256\",\n        },\n\"10228\",\n\"28245\",\n\" 28246\"],\n [{\n            'v': 257,\n            'f': \"257\",\n        },\n\"10229\",\n\"28326\",\n\" 28326\"],\n [{\n            'v': 258,\n            'f': \"258\",\n        },\n\"1023\",\n\"41622\",\n\" 16293\"],\n [{\n            'v': 259,\n            'f': \"259\",\n        },\n\"10230\",\n\"28316\",\n\" 28366\"],\n [{\n            'v': 260,\n            'f': \"260\",\n        },\n\"10231\",\n\"28415\",\n\" 28405\"],\n [{\n            'v': 261,\n            'f': \"261\",\n        },\n\"10232\",\n\"2848None\",\n\" 28484\"],\n [{\n            'v': 262,\n            'f': \"262\",\n        },\n\"10233\",\n\"28667\",\n\" 28563\"],\n [{\n            'v': 263,\n            'f': \"263\",\n        },\n\"10234\",\n\"28649\",\n\" 28643\"],\n [{\n            'v': 264,\n            'f': \"264\",\n        },\n\"10235\",\n\"28645\",\n\" 28643\"],\n [{\n            'v': 265,\n            'f': \"265\",\n        },\n\"10236\",\n\"28172\",\n\" 28723\"],\n [{\n            'v': 266,\n            'f': \"266\",\n        },\n\"10237\",\n\"28586\",\n\" 28801\"],\n [{\n            'v': 267,\n            'f': \"267\",\n        },\n\"10238\",\n\"28188\",\n\" 28880\"],\n [{\n            'v': 268,\n            'f': \"268\",\n        },\n\"10239\",\n\"28929\",\n\" 28920\"],\n [{\n            'v': 269,\n            'f': \"269\",\n        },\n\"1024\",\n\"46375\",\n\" 16376\"],\n [{\n            'v': 270,\n            'f': \"270\",\n        },\n\"10240\",\n\"26066\",\n\" 29001\"],\n [{\n            'v': 271,\n            'f': \"271\",\n        },\n\"10241\",\n\"29104\",\n\" 29040\"],\n [{\n            'v': 272,\n            'f': \"272\",\n        },\n\"10242\",\n\"24908\",\n\" 29080\"],\n [{\n            'v': 273,\n            'f': \"273\",\n        },\n\"10243\",\n\"29116\",\n\" 29160\"],\n [{\n            'v': 274,\n            'f': \"274\",\n        },\n\"10244\",\n\"29605\",\n\" 29200\"],\n [{\n            'v': 275,\n            'f': \"275\",\n        },\n\"10245\",\n\"29210\",\n\" 29240\"],\n [{\n            'v': 276,\n            'f': \"276\",\n        },\n\"10246\",\n\"24924\",\n\" 29279\"],\n [{\n            'v': 277,\n            'f': \"277\",\n        },\n\"10247\",\n\"24939\",\n\" 29358\"],\n [{\n            'v': 278,\n            'f': \"278\",\n        },\n\"10248\",\n\"29392\",\n\" 29397\"],\n [{\n            'v': 279,\n            'f': \"279\",\n        },\n\"10249\",\n\"24947\",\n\" 29477\"],\n [{\n            'v': 280,\n            'f': \"280\",\n        },\n\"1025\",\n\"86469\",\n\" 16460\"],\n [{\n            'v': 281,\n            'f': \"281\",\n        },\n\"10250\",\n\"29619\",\n\" 29519\"],\n [{\n            'v': 282,\n            'f': \"282\",\n        },\n\"10251\",\n\"24966\",\n\" 29600\"],\n [{\n            'v': 283,\n            'f': \"283\",\n        },\n\"10252\",\n\"29672\",\n\" 29639\"],\n [{\n            'v': 284,\n            'f': \"284\",\n        },\n\"10253\",\n\"24966\",\n\" 29679\"],\n [{\n            'v': 285,\n            'f': \"285\",\n        },\n\"10254\",\n\"29786\",\n\" 29719\"],\n [{\n            'v': 286,\n            'f': \"286\",\n        },\n\"10255\",\n\"29797\",\n\" 29797\"],\n [{\n            'v': 287,\n            'f': \"287\",\n        },\n\"10256\",\n\"29283\",\n\" 29836\"],\n [{\n            'v': 288,\n            'f': \"288\",\n        },\n\"10257\",\n\"29945\",\n\" 29915\"],\n [{\n            'v': 289,\n            'f': \"289\",\n        },\n\"10258\",\n\"24999\",\n\" 29994\"],\n [{\n            'v': 290,\n            'f': \"290\",\n        },\n\"10259\",\n\"30035\",\n\" 30035\"],\n [{\n            'v': 291,\n            'f': \"291\",\n        },\n\"1026\",\n\"46649\",\n\" 16549\"],\n [{\n            'v': 292,\n            'f': \"292\",\n        },\n\"10260\",\n\"40012\",\n\" 30075\"],\n [{\n            'v': 293,\n            'f': \"293\",\n        },\n\"10261\",\n\"40164\",\n\" 30155\"],\n [{\n            'v': 294,\n            'f': \"294\",\n        },\n\"10262\",\n\"34019\",\n\" 30194\"],\n [{\n            'v': 295,\n            'f': \"295\",\n        },\n\"10263\",\n\"40239\",\n\" 30233\"],\n [{\n            'v': 296,\n            'f': \"296\",\n        },\n\"10264\",\n\"34027\",\n\" 30273\"],\n [{\n            'v': 297,\n            'f': \"297\",\n        },\n\"10265\",\n\"30324\",\n\" 30314\"],\n [{\n            'v': 298,\n            'f': \"298\",\n        },\n\"10266\",\n\"34039\",\n\" 30392\"],\n [{\n            'v': 299,\n            'f': \"299\",\n        },\n\"10267\",\n\"40436\",\n\" 30431\"],\n [{\n            'v': 300,\n            'f': \"300\",\n        },\n\"10268\",\n\"40657\",\n\" 30511\"],\n [{\n            'v': 301,\n            'f': \"301\",\n        },\n\"10269\",\n\"0NoneNoneNoneNone\",\n\" 30511\"],\n [{\n            'v': 302,\n            'f': \"302\",\n        },\n\"1027\",\n\"46636\",\n\" 16631\"],\n [{\n            'v': 303,\n            'f': \"303\",\n        },\n\"10270\",\n\"40695\",\n\" 30590\"],\n [{\n            'v': 304,\n            'f': \"304\",\n        },\n\"10271\",\n\"40634\",\n\" 30630\"],\n [{\n            'v': 305,\n            'f': \"305\",\n        },\n\"10272\",\n\"34065\",\n\" 30669\"],\n [{\n            'v': 306,\n            'f': \"306\",\n        },\n\"10273\",\n\"30174\",\n\" 30709\"],\n [{\n            'v': 307,\n            'f': \"307\",\n        },\n\"10274\",\n\"30725\",\n\" 30749\"],\n [{\n            'v': 308,\n            'f': \"308\",\n        },\n\"10275\",\n\"4NoneNoneNoneNone\",\n\" 30829\"],\n [{\n            'v': 309,\n            'f': \"309\",\n        },\n\"10276\",\n\"30866\",\n\" 30868\"],\n [{\n            'v': 310,\n            'f': \"310\",\n        },\n\"10277\",\n\"6NoneNoneNoneNone\",\n\" 30909\"],\n [{\n            'v': 311,\n            'f': \"311\",\n        },\n\"10278\",\n\"30946\",\n\" 30948\"],\n [{\n            'v': 312,\n            'f': \"312\",\n        },\n\"10279\",\n\"10988\",\n\" 30988\"],\n [{\n            'v': 313,\n            'f': \"313\",\n        },\n\"1028\",\n\"4654None\",\n\" 16714\"],\n [{\n            'v': 314,\n            'f': \"314\",\n        },\n\"10280\",\n\"34101\",\n\" 31069\"],\n [{\n            'v': 315,\n            'f': \"315\",\n        },\n\"10281\",\n\"31149\",\n\" 31149\"],\n [{\n            'v': 316,\n            'f': \"316\",\n        },\n\"10282\",\n\"34118\",\n\" 31188\"],\n [{\n            'v': 317,\n            'f': \"317\",\n        },\n\"10283\",\n\"41266\",\n\" 31266\"],\n [{\n            'v': 318,\n            'f': \"318\",\n        },\n\"10284\",\n\"31316\",\n\" 31346\"],\n [{\n            'v': 319,\n            'f': \"319\",\n        },\n\"10285\",\n\"41349\",\n\" 31346\"],\n [{\n            'v': 320,\n            'f': \"320\",\n        },\n\"10286\",\n\"31424\",\n\" 31427\"],\n [{\n            'v': 321,\n            'f': \"321\",\n        },\n\"10287\",\n\"34160\",\n\" 31506\"],\n [{\n            'v': 322,\n            'f': \"322\",\n        },\n\"10288\",\n\"34168\",\n\" 31583\"],\n [{\n            'v': 323,\n            'f': \"323\",\n        },\n\"10289\",\n\"41624\",\n\" 31624\"],\n [{\n            'v': 324,\n            'f': \"324\",\n        },\n\"1029\",\n\"16797\",\n\" 16796\"],\n [{\n            'v': 325,\n            'f': \"325\",\n        },\n\"10290\",\n\"34171\",\n\" 31702\"],\n [{\n            'v': 326,\n            'f': \"326\",\n        },\n\"10291\",\n\"41780\",\n\" 31780\"],\n [{\n            'v': 327,\n            'f': \"327\",\n        },\n\"10292\",\n\"31869\",\n\" 31858\"],\n [{\n            'v': 328,\n            'f': \"328\",\n        },\n\"10293\",\n\"31918\",\n\" 31938\"],\n [{\n            'v': 329,\n            'f': \"329\",\n        },\n\"10294\",\n\"34204\",\n\" 32016\"],\n [{\n            'v': 330,\n            'f': \"330\",\n        },\n\"10295\",\n\"4NoneNoneNoneNone\",\n\" 32098\"],\n [{\n            'v': 331,\n            'f': \"331\",\n        },\n\"10296\",\n\"6NoneNoneNoneNone\",\n\" 32139\"],\n [{\n            'v': 332,\n            'f': \"332\",\n        },\n\"10297\",\n\"32212\",\n\" 32218\"],\n [{\n            'v': 333,\n            'f': \"333\",\n        },\n\"10298\",\n\"4NoneNoneNoneNone\",\n\" 32297\"],\n [{\n            'v': 334,\n            'f': \"334\",\n        },\n\"10299\",\n\"34237\",\n\" 32377\"],\n [{\n            'v': 335,\n            'f': \"335\",\n        },\n\"103\",\n\"24062\",\n\" 00621\"],\n [{\n            'v': 336,\n            'f': \"336\",\n        },\n\"1030\",\n\"16951\",\n\" 16879\"],\n [{\n            'v': 337,\n            'f': \"337\",\n        },\n\"10300\",\n\"5NoneNoneNoneNone\",\n\" 32456\"],\n [{\n            'v': 338,\n            'f': \"338\",\n        },\n\"10301\",\n\"34263\",\n\" 32535\"],\n [{\n            'v': 339,\n            'f': \"339\",\n        },\n\"10302\",\n\"34267\",\n\" 32575\"],\n [{\n            'v': 340,\n            'f': \"340\",\n        },\n\"10303\",\n\"42612\",\n\" 32615\"],\n [{\n            'v': 341,\n            'f': \"341\",\n        },\n\"10304\",\n\"34261\",\n\" 32694\"],\n [{\n            'v': 342,\n            'f': \"342\",\n        },\n\"10305\",\n\"38277\",\n\" 32772\"],\n [{\n            'v': 343,\n            'f': \"343\",\n        },\n\"10306\",\n\"9NoneNoneNoneNone\",\n\" 32852\"],\n [{\n            'v': 344,\n            'f': \"344\",\n        },\n\"10307\",\n\"32912\",\n\" 32932\"],\n [{\n            'v': 345,\n            'f': \"345\",\n        },\n\"10308\",\n\"8NoneNoneNoneNone\",\n\" 33010\"],\n [{\n            'v': 346,\n            'f': \"346\",\n        },\n\"10309\",\n\"33089\",\n\" 33088\"],\n [{\n            'v': 347,\n            'f': \"347\",\n        },\n\"1031\",\n\"46962\",\n\" 16962\"],\n [{\n            'v': 348,\n            'f': \"348\",\n        },\n\"10310\",\n\"43117\",\n\" 33172\"],\n [{\n            'v': 349,\n            'f': \"349\",\n        },\n\"10311\",\n\"34312\",\n\" 33250\"],\n [{\n            'v': 350,\n            'f': \"350\",\n        },\n\"10312\",\n\"34332\",\n\" 33329\"],\n [{\n            'v': 351,\n            'f': \"351\",\n        },\n\"10313\",\n\"6NoneNoneNoneNone\",\n\" 33409\"],\n [{\n            'v': 352,\n            'f': \"352\",\n        },\n\"10314\",\n\"43492\",\n\" 33489\"],\n [{\n            'v': 353,\n            'f': \"353\",\n        },\n\"10315\",\n\"43655\",\n\" 33529\"],\n [{\n            'v': 354,\n            'f': \"354\",\n        },\n\"10316\",\n\"34361\",\n\" 33612\"],\n [{\n            'v': 355,\n            'f': \"355\",\n        },\n\"10317\",\n\"9NoneNoneNoneNone\",\n\" 33690\"],\n [{\n            'v': 356,\n            'f': \"356\",\n        },\n\"10318\",\n\"34379\",\n\" 33769\"],\n [{\n            'v': 357,\n            'f': \"357\",\n        },\n\"10319\",\n\"43849\",\n\" 33849\"],\n [{\n            'v': 358,\n            'f': \"358\",\n        },\n\"1032\",\n\"876NoneNone\",\n\" 17045\"],\n [{\n            'v': 359,\n            'f': \"359\",\n        },\n\"10320\",\n\"34956\",\n\" 33929\"],\n [{\n            'v': 360,\n            'f': \"360\",\n        },\n\"10321\",\n\"34101\",\n\" 34008\"],\n [{\n            'v': 361,\n            'f': \"361\",\n        },\n\"10322\",\n\"44096\",\n\" 34093\"],\n [{\n            'v': 362,\n            'f': \"362\",\n        },\n\"10323\",\n\"34417\",\n\" 34173\"],\n [{\n            'v': 363,\n            'f': \"363\",\n        },\n\"10324\",\n\"34216\",\n\" 34212\"],\n [{\n            'v': 364,\n            'f': \"364\",\n        },\n\"10325\",\n\"34426\",\n\" 34252\"],\n [{\n            'v': 365,\n            'f': \"365\",\n        },\n\"10326\",\n\"34292\",\n\" 34292\"],\n [{\n            'v': 366,\n            'f': \"366\",\n        },\n\"10327\",\n\"44332\",\n\" 34332\"],\n [{\n            'v': 367,\n            'f': \"367\",\n        },\n\"10328\",\n\"34437\",\n\" 34371\"],\n [{\n            'v': 368,\n            'f': \"368\",\n        },\n\"10329\",\n\"34445\",\n\" 34453\"],\n [{\n            'v': 369,\n            'f': \"369\",\n        },\n\"1033\",\n\"47128\",\n\" 17128\"],\n [{\n            'v': 370,\n            'f': \"370\",\n        },\n\"10330\",\n\"8NoneNoneNoneNone\",\n\" 34532\"],\n [{\n            'v': 371,\n            'f': \"371\",\n        },\n\"10331\",\n\"34656\",\n\" 34611\"],\n [{\n            'v': 372,\n            'f': \"372\",\n        },\n\"10332\",\n\"34661\",\n\" 34650\"],\n [{\n            'v': 373,\n            'f': \"373\",\n        },\n\"10333\",\n\"4NoneNoneNoneNone\",\n\" 34690\"],\n [{\n            'v': 374,\n            'f': \"374\",\n        },\n\"10334\",\n\"34477\",\n\" 34770\"],\n [{\n            'v': 375,\n            'f': \"375\",\n        },\n\"10335\",\n\"34484\",\n\" 34848\"],\n [{\n            'v': 376,\n            'f': \"376\",\n        },\n\"10336\",\n\"34846\",\n\" 34848\"],\n [{\n            'v': 377,\n            'f': \"377\",\n        },\n\"10337\",\n\"34492\",\n\" 34928\"],\n [{\n            'v': 378,\n            'f': \"378\",\n        },\n\"10338\",\n\"34496\",\n\" 34968\"],\n [{\n            'v': 379,\n            'f': \"379\",\n        },\n\"10339\",\n\"34600\",\n\" 35009\"],\n [{\n            'v': 380,\n            'f': \"380\",\n        },\n\"1034\",\n\"42727\",\n\" 17212\"],\n [{\n            'v': 381,\n            'f': \"381\",\n        },\n\"10340\",\n\"35019\",\n\" 35049\"],\n [{\n            'v': 382,\n            'f': \"382\",\n        },\n\"10341\",\n\"45085\",\n\" 35089\"],\n [{\n            'v': 383,\n            'f': \"383\",\n        },\n\"10342\",\n\"34513\",\n\" 35131\"],\n [{\n            'v': 384,\n            'f': \"384\",\n        },\n\"10343\",\n\"34517\",\n\" 35170\"],\n [{\n            'v': 385,\n            'f': \"385\",\n        },\n\"10344\",\n\"6NoneNoneNoneNone\",\n\" 35248\"],\n [{\n            'v': 386,\n            'f': \"386\",\n        },\n\"10345\",\n\"35288\",\n\" 35288\"],\n [{\n            'v': 387,\n            'f': \"387\",\n        },\n\"10346\",\n\"45373\",\n\" 35371\"],\n [{\n            'v': 388,\n            'f': \"388\",\n        },\n\"10347\",\n\"45496\",\n\" 35449\"],\n [{\n            'v': 389,\n            'f': \"389\",\n        },\n\"10348\",\n\"45627\",\n\" 35527\"],\n [{\n            'v': 390,\n            'f': \"390\",\n        },\n\"10349\",\n\"34565\",\n\" 35567\"],\n [{\n            'v': 391,\n            'f': \"391\",\n        },\n\"1035\",\n\"27259\",\n\" 17293\"],\n [{\n            'v': 392,\n            'f': \"392\",\n        },\n\"10350\",\n\"35602\",\n\" 35606\"],\n [{\n            'v': 393,\n            'f': \"393\",\n        },\n\"10351\",\n\"34661\",\n\" 35645\"],\n [{\n            'v': 394,\n            'f': \"394\",\n        },\n\"10352\",\n\"34568\",\n\" 35685\"],\n [{\n            'v': 395,\n            'f': \"395\",\n        },\n\"10353\",\n\"34527\",\n\" 35725\"],\n [{\n            'v': 396,\n            'f': \"396\",\n        },\n\"10354\",\n\"34576\",\n\" 35764\"],\n [{\n            'v': 397,\n            'f': \"397\",\n        },\n\"10355\",\n\"45186\",\n\" 35803\"],\n [{\n            'v': 398,\n            'f': \"398\",\n        },\n\"10356\",\n\"34581\",\n\" 35843\"],\n [{\n            'v': 399,\n            'f': \"399\",\n        },\n\"10357\",\n\"34592\",\n\" 35923\"],\n [{\n            'v': 400,\n            'f': \"400\",\n        },\n\"10358\",\n\"35925\",\n\" 35923\"],\n [{\n            'v': 401,\n            'f': \"401\",\n        },\n\"10359\",\n\"34608\",\n\" 36002\"],\n [{\n            'v': 402,\n            'f': \"402\",\n        },\n\"1036\",\n\"47237\",\n\" 17376\"],\n [{\n            'v': 403,\n            'f': \"403\",\n        },\n\"10360\",\n\"36016\",\n\" 36041\"],\n [{\n            'v': 404,\n            'f': \"404\",\n        },\n\"10361\",\n\"34612\",\n\" 36120\"],\n [{\n            'v': 405,\n            'f': \"405\",\n        },\n\"10362\",\n\"34619\",\n\" 36199\"],\n [{\n            'v': 406,\n            'f': \"406\",\n        },\n\"10363\",\n\"34627\",\n\" 36278\"],\n [{\n            'v': 407,\n            'f': \"407\",\n        },\n\"10364\",\n\"34632\",\n\" 36317\"],\n [{\n            'v': 408,\n            'f': \"408\",\n        },\n\"10365\",\n\"36357\",\n\" 36357\"],\n [{\n            'v': 409,\n            'f': \"409\",\n        },\n\"10366\",\n\"46435\",\n\" 36436\"],\n [{\n            'v': 410,\n            'f': \"410\",\n        },\n\"10367\",\n\"34642\",\n\" 36476\"],\n [{\n            'v': 411,\n            'f': \"411\",\n        },\n\"10368\",\n\"36614\",\n\" 36554\"],\n [{\n            'v': 412,\n            'f': \"412\",\n        },\n\"10369\",\n\"34669\",\n\" 36594\"],\n [{\n            'v': 413,\n            'f': \"413\",\n        },\n\"1037\",\n\"17462\",\n\" 17458\"],\n [{\n            'v': 414,\n            'f': \"414\",\n        },\n\"10370\",\n\"34661\",\n\" 36674\"],\n [{\n            'v': 415,\n            'f': \"415\",\n        },\n\"10371\",\n\"34676\",\n\" 36752\"],\n [{\n            'v': 416,\n            'f': \"416\",\n        },\n\"10372\",\n\"4NoneNoneNoneNone\",\n\" 36791\"],\n [{\n            'v': 417,\n            'f': \"417\",\n        },\n\"10373\",\n\"34683\",\n\" 36830\"],\n [{\n            'v': 418,\n            'f': \"418\",\n        },\n\"10374\",\n\"34682\",\n\" 36870\"],\n [{\n            'v': 419,\n            'f': \"419\",\n        },\n\"10375\",\n\"34694\",\n\" 36949\"],\n [{\n            'v': 420,\n            'f': \"420\",\n        },\n\"10376\",\n\"6NoneNoneNoneNone\",\n\" 36989\"],\n [{\n            'v': 421,\n            'f': \"421\",\n        },\n\"10377\",\n\"37039\",\n\" 37030\"],\n [{\n            'v': 422,\n            'f': \"422\",\n        },\n\"10378\",\n\"37070\",\n\" 37070\"],\n [{\n            'v': 423,\n            'f': \"423\",\n        },\n\"10379\",\n\"17198\",\n\" 37147\"],\n [{\n            'v': 424,\n            'f': \"424\",\n        },\n\"1038\",\n\"47564\",\n\" 17541\"],\n [{\n            'v': 425,\n            'f': \"425\",\n        },\n\"10380\",\n\"47216\",\n\" 37225\"],\n [{\n            'v': 426,\n            'f': \"426\",\n        },\n\"10381\",\n\"37704\",\n\" 37304\"],\n [{\n            'v': 427,\n            'f': \"427\",\n        },\n\"10382\",\n\"37382\",\n\" 37381\"],\n [{\n            'v': 428,\n            'f': \"428\",\n        },\n\"10383\",\n\"34742\",\n\" 37421\"],\n [{\n            'v': 429,\n            'f': \"429\",\n        },\n\"10384\",\n\"34746\",\n\" 37460\"],\n [{\n            'v': 430,\n            'f': \"430\",\n        },\n\"10385\",\n\"34464\",\n\" 37540\"],\n [{\n            'v': 431,\n            'f': \"431\",\n        },\n\"10386\",\n\"19NoneNoneNone\",\n\" 37618\"],\n [{\n            'v': 432,\n            'f': \"432\",\n        },\n\"10387\",\n\"5NoneNoneNoneNone\",\n\" 37696\"],\n [{\n            'v': 433,\n            'f': \"433\",\n        },\n\"10388\",\n\"47716\",\n\" 37736\"],\n [{\n            'v': 434,\n            'f': \"434\",\n        },\n\"10389\",\n\"37772\",\n\" 37775\"],\n [{\n            'v': 435,\n            'f': \"435\",\n        },\n\"1039\",\n\"47625\",\n\" 17622\"],\n [{\n            'v': 436,\n            'f': \"436\",\n        },\n\"10390\",\n\"34784\",\n\" 37815\"],\n [{\n            'v': 437,\n            'f': \"437\",\n        },\n\"10391\",\n\"34789\",\n\" 37892\"],\n [{\n            'v': 438,\n            'f': \"438\",\n        },\n\"10392\",\n\"6NoneNoneNoneNone\",\n\" 37932\"],\n [{\n            'v': 439,\n            'f': \"439\",\n        },\n\"10393\",\n\"38042\",\n\" 38012\"],\n [{\n            'v': 440,\n            'f': \"440\",\n        },\n\"10394\",\n\"38066\",\n\" 38052\"],\n [{\n            'v': 441,\n            'f': \"441\",\n        },\n\"10395\",\n\"38095\",\n\" 38092\"],\n [{\n            'v': 442,\n            'f': \"442\",\n        },\n\"10396\",\n\"34817\",\n\" 38171\"],\n [{\n            'v': 443,\n            'f': \"443\",\n        },\n\"10397\",\n\"48222\",\n\" 38214\"],\n [{\n            'v': 444,\n            'f': \"444\",\n        },\n\"10398\",\n\"48264\",\n\" 38254\"],\n [{\n            'v': 445,\n            'f': \"445\",\n        },\n\"104\",\n\"00660\",\n\" 00660\"],\n [{\n            'v': 446,\n            'f': \"446\",\n        },\n\"1040\",\n\"18NoneNoneNone\",\n\" 17705\"],\n [{\n            'v': 447,\n            'f': \"447\",\n        },\n\"1041\",\n\"47786\",\n\" 17786\"],\n [{\n            'v': 448,\n            'f': \"448\",\n        },\n\"1042\",\n\"47847\",\n\" 17873\"],\n [{\n            'v': 449,\n            'f': \"449\",\n        },\n\"1043\",\n\"47976\",\n\" 17964\"],\n [{\n            'v': 450,\n            'f': \"450\",\n        },\n\"1044\",\n\"48069\",\n\" 18053\"],\n [{\n            'v': 451,\n            'f': \"451\",\n        },\n\"1045\",\n\"18154\",\n\" 18141\"],\n [{\n            'v': 452,\n            'f': \"452\",\n        },\n\"1046\",\n\"48230\",\n\" 18230\"],\n [{\n            'v': 453,\n            'f': \"453\",\n        },\n\"1047\",\n\"28137\",\n\" 18318\"],\n [{\n            'v': 454,\n            'f': \"454\",\n        },\n\"1048\",\n\"48270\",\n\" 18408\"],\n [{\n            'v': 455,\n            'f': \"455\",\n        },\n\"1049\",\n\"48499\",\n\" 18496\"],\n [{\n            'v': 456,\n            'f': \"456\",\n        },\n\"105\",\n\"6NoneNoneNoneNone\",\n\" 00700\"],\n [{\n            'v': 457,\n            'f': \"457\",\n        },\n\"1050\",\n\"18688\",\n\" 18585\"],\n [{\n            'v': 458,\n            'f': \"458\",\n        },\n\"1051\",\n\"88672\",\n\" 18676\"],\n [{\n            'v': 459,\n            'f': \"459\",\n        },\n\"1052\",\n\"28776\",\n\" 18772\"],\n [{\n            'v': 460,\n            'f': \"460\",\n        },\n\"1053\",\n\"48862\",\n\" 18864\"],\n [{\n            'v': 461,\n            'f': \"461\",\n        },\n\"1054\",\n\"18963\",\n\" 18955\"],\n [{\n            'v': 462,\n            'f': \"462\",\n        },\n\"1055\",\n\"19049\",\n\" 19043\"],\n [{\n            'v': 463,\n            'f': \"463\",\n        },\n\"1056\",\n\"19132\",\n\" 19133\"],\n [{\n            'v': 464,\n            'f': \"464\",\n        },\n\"1057\",\n\"69222\",\n\" 19224\"],\n [{\n            'v': 465,\n            'f': \"465\",\n        },\n\"1058\",\n\"49316\",\n\" 19317\"],\n [{\n            'v': 466,\n            'f': \"466\",\n        },\n\"1059\",\n\"19409\",\n\" 19408\"],\n [{\n            'v': 467,\n            'f': \"467\",\n        },\n\"106\",\n\"00718\",\n\" 00740\"],\n [{\n            'v': 468,\n            'f': \"468\",\n        },\n\"1060\",\n\"19429\",\n\" 19495\"],\n [{\n            'v': 469,\n            'f': \"469\",\n        },\n\"1061\",\n\"69684\",\n\" 19584\"],\n [{\n            'v': 470,\n            'f': \"470\",\n        },\n\"1062\",\n\"19672\",\n\" 19672\"],\n [{\n            'v': 471,\n            'f': \"471\",\n        },\n\"1063\",\n\"9760None\",\n\" 19760\"],\n [{\n            'v': 472,\n            'f': \"472\",\n        },\n\"1064\",\n\"94986\",\n\" 19851\"],\n [{\n            'v': 473,\n            'f': \"473\",\n        },\n\"1065\",\n\"49934\",\n\" 19934\"],\n [{\n            'v': 474,\n            'f': \"474\",\n        },\n\"1066\",\n\"20022\",\n\" 20022\"],\n [{\n            'v': 475,\n            'f': \"475\",\n        },\n\"1067\",\n\"20145\",\n\" 20110\"],\n [{\n            'v': 476,\n            'f': \"476\",\n        },\n\"1068\",\n\"20200\",\n\" 20200\"],\n [{\n            'v': 477,\n            'f': \"477\",\n        },\n\"1069\",\n\"20591\",\n\" 20291\"],\n [{\n            'v': 478,\n            'f': \"478\",\n        },\n\"107\",\n\"0725None\",\n\" 00779\"],\n [{\n            'v': 479,\n            'f': \"479\",\n        },\n\"1070\",\n\"20380\",\n\" 20380\"],\n [{\n            'v': 480,\n            'f': \"480\",\n        },\n\"1071\",\n\"20477\",\n\" 20473\"],\n [{\n            'v': 481,\n            'f': \"481\",\n        },\n\"1072\",\n\"60661\",\n\" 20562\"],\n [{\n            'v': 482,\n            'f': \"482\",\n        },\n\"1073\",\n\"20662\",\n\" 20652\"],\n [{\n            'v': 483,\n            'f': \"483\",\n        },\n\"1074\",\n\"20742\",\n\" 20742\"],\n [{\n            'v': 484,\n            'f': \"484\",\n        },\n\"1075\",\n\"20833\",\n\" 20833\"],\n [{\n            'v': 485,\n            'f': \"485\",\n        },\n\"1076\",\n\"20925\",\n\" 20922\"],\n [{\n            'v': 486,\n            'f': \"486\",\n        },\n\"1077\",\n\"21014\",\n\" 21014\"],\n [{\n            'v': 487,\n            'f': \"487\",\n        },\n\"1078\",\n\"2107None\",\n\" 21103\"],\n [{\n            'v': 488,\n            'f': \"488\",\n        },\n\"1079\",\n\"21179\",\n\" 21195\"],\n [{\n            'v': 489,\n            'f': \"489\",\n        },\n\"108\",\n\"01083\",\n\" 00819\"],\n [{\n            'v': 490,\n            'f': \"490\",\n        },\n\"1080\",\n\"21285\",\n\" 21285\"],\n [{\n            'v': 491,\n            'f': \"491\",\n        },\n\"1081\",\n\"21172\",\n\" 21374\"],\n [{\n            'v': 492,\n            'f': \"492\",\n        },\n\"1082\",\n\"21426\",\n\" 21465\"],\n [{\n            'v': 493,\n            'f': \"493\",\n        },\n\"1083\",\n\"61663\",\n\" 21553\"],\n [{\n            'v': 494,\n            'f': \"494\",\n        },\n\"1084\",\n\"21646\",\n\" 21642\"],\n [{\n            'v': 495,\n            'f': \"495\",\n        },\n\"1085\",\n\"2132None\",\n\" 21734\"],\n [{\n            'v': 496,\n            'f': \"496\",\n        },\n\"1086\",\n\"21823\",\n\" 21823\"],\n [{\n            'v': 497,\n            'f': \"497\",\n        },\n\"1087\",\n\"61640\",\n\" 21907\"],\n [{\n            'v': 498,\n            'f': \"498\",\n        },\n\"1088\",\n\"21992\",\n\" 21997\"],\n [{\n            'v': 499,\n            'f': \"499\",\n        },\n\"1089\",\n\"22066\",\n\" 22070\"]],\n        columns: [[\"number\", \"index\"], [\"string\", \"imageID\"], [\"string\", \"read_value\"], [\"string\", \"actual_value\"]],\n        columnOptions: [{\"width\": \"1px\", \"className\": \"index_column\"}],\n        rowsPerPage: 25,\n        helpUrl: \"https://colab.research.google.com/notebooks/data_table.ipynb\",\n        suppressOutputScrolling: true,\n        minimumWidth: undefined,\n      });\n    ",
            "text/html": [
              "<div>\n",
              "<style scoped>\n",
              "    .dataframe tbody tr th:only-of-type {\n",
              "        vertical-align: middle;\n",
              "    }\n",
              "\n",
              "    .dataframe tbody tr th {\n",
              "        vertical-align: top;\n",
              "    }\n",
              "\n",
              "    .dataframe thead th {\n",
              "        text-align: right;\n",
              "    }\n",
              "</style>\n",
              "<table border=\"1\" class=\"dataframe\">\n",
              "  <thead>\n",
              "    <tr style=\"text-align: right;\">\n",
              "      <th></th>\n",
              "      <th>imageID</th>\n",
              "      <th>read_value</th>\n",
              "      <th>actual_value</th>\n",
              "    </tr>\n",
              "  </thead>\n",
              "  <tbody>\n",
              "    <tr>\n",
              "      <th>0</th>\n",
              "      <td>1</td>\n",
              "      <td>65885</td>\n",
              "      <td>95882</td>\n",
              "    </tr>\n",
              "    <tr>\n",
              "      <th>1</th>\n",
              "      <td>10</td>\n",
              "      <td>96220</td>\n",
              "      <td>96220</td>\n",
              "    </tr>\n",
              "    <tr>\n",
              "      <th>2</th>\n",
              "      <td>100</td>\n",
              "      <td>20609</td>\n",
              "      <td>00500</td>\n",
              "    </tr>\n",
              "    <tr>\n",
              "      <th>3</th>\n",
              "      <td>1000</td>\n",
              "      <td>14365</td>\n",
              "      <td>14366</td>\n",
              "    </tr>\n",
              "    <tr>\n",
              "      <th>4</th>\n",
              "      <td>10000</td>\n",
              "      <td>4NoneNoneNoneNone</td>\n",
              "      <td>14398</td>\n",
              "    </tr>\n",
              "    <tr>\n",
              "      <th>...</th>\n",
              "      <td>...</td>\n",
              "      <td>...</td>\n",
              "      <td>...</td>\n",
              "    </tr>\n",
              "    <tr>\n",
              "      <th>495</th>\n",
              "      <td>1085</td>\n",
              "      <td>2132None</td>\n",
              "      <td>21734</td>\n",
              "    </tr>\n",
              "    <tr>\n",
              "      <th>496</th>\n",
              "      <td>1086</td>\n",
              "      <td>21823</td>\n",
              "      <td>21823</td>\n",
              "    </tr>\n",
              "    <tr>\n",
              "      <th>497</th>\n",
              "      <td>1087</td>\n",
              "      <td>61640</td>\n",
              "      <td>21907</td>\n",
              "    </tr>\n",
              "    <tr>\n",
              "      <th>498</th>\n",
              "      <td>1088</td>\n",
              "      <td>21992</td>\n",
              "      <td>21997</td>\n",
              "    </tr>\n",
              "    <tr>\n",
              "      <th>499</th>\n",
              "      <td>1089</td>\n",
              "      <td>22066</td>\n",
              "      <td>22070</td>\n",
              "    </tr>\n",
              "  </tbody>\n",
              "</table>\n",
              "<p>500 rows × 3 columns</p>\n",
              "</div>"
            ],
            "text/plain": [
              "    imageID         read_value actual_value\n",
              "0         1              65885        95882\n",
              "1        10              96220        96220\n",
              "2       100              20609        00500\n",
              "3      1000              14365        14366\n",
              "4     10000  4NoneNoneNoneNone        14398\n",
              "..      ...                ...          ...\n",
              "495    1085           2132None        21734\n",
              "496    1086              21823        21823\n",
              "497    1087              61640        21907\n",
              "498    1088              21992        21997\n",
              "499    1089              22066        22070\n",
              "\n",
              "[500 rows x 3 columns]"
            ]
          },
          "metadata": {},
          "execution_count": 21
        }
      ]
    },
    {
      "cell_type": "code",
      "metadata": {
        "id": "ulUX9-TmEXZk",
        "colab": {
          "base_uri": "https://localhost:8080/",
          "height": 636
        },
        "outputId": "83b1df4c-cd0f-4907-f2d7-b304074dea67"
      },
      "source": [
        "merged[\"read_value\"] = merged[\"read_value\"].str.replace(r'None', 'N')\n",
        "merged"
      ],
      "execution_count": 22,
      "outputs": [
        {
          "output_type": "execute_result",
          "data": {
            "application/vnd.google.colaboratory.module+javascript": "\n      import \"https://ssl.gstatic.com/colaboratory/data_table/a6224c040fa35dcf/data_table.js\";\n\n      window.createDataTable({\n        data: [[{\n            'v': 0,\n            'f': \"0\",\n        },\n\"1\",\n\"65885\",\n\" 95882\"],\n [{\n            'v': 1,\n            'f': \"1\",\n        },\n\"10\",\n\"96220\",\n\" 96220\"],\n [{\n            'v': 2,\n            'f': \"2\",\n        },\n\"100\",\n\"20609\",\n\" 00500\"],\n [{\n            'v': 3,\n            'f': \"3\",\n        },\n\"1000\",\n\"14365\",\n\" 14366\"],\n [{\n            'v': 4,\n            'f': \"4\",\n        },\n\"10000\",\n\"4NNNN\",\n\" 14398\"],\n [{\n            'v': 5,\n            'f': \"5\",\n        },\n\"10001\",\n\"14443\",\n\" 14438\"],\n [{\n            'v': 6,\n            'f': \"6\",\n        },\n\"10002\",\n\"14462\",\n\" 14517\"],\n [{\n            'v': 7,\n            'f': \"7\",\n        },\n\"10003\",\n\"14469\",\n\" 14595\"],\n [{\n            'v': 8,\n            'f': \"8\",\n        },\n\"10004\",\n\"37NNN\",\n\" 14634\"],\n [{\n            'v': 9,\n            'f': \"9\",\n        },\n\"10005\",\n\"14472\",\n\" 14716\"],\n [{\n            'v': 10,\n            'f': \"10\",\n        },\n\"10006\",\n\"14479\",\n\" 14793\"],\n [{\n            'v': 11,\n            'f': \"11\",\n        },\n\"10007\",\n\"17481\",\n\" 14833\"],\n [{\n            'v': 12,\n            'f': \"12\",\n        },\n\"10008\",\n\"14481\",\n\" 14872\"],\n [{\n            'v': 13,\n            'f': \"13\",\n        },\n\"10009\",\n\"14495\",\n\" 14954\"],\n [{\n            'v': 14,\n            'f': \"14\",\n        },\n\"1001\",\n\"14469\",\n\" 14451\"],\n [{\n            'v': 15,\n            'f': \"15\",\n        },\n\"10010\",\n\"14503\",\n\" 15032\"],\n [{\n            'v': 16,\n            'f': \"16\",\n        },\n\"10011\",\n\"14517\",\n\" 15111\"],\n [{\n            'v': 17,\n            'f': \"17\",\n        },\n\"10012\",\n\"14618\",\n\" 15187\"],\n [{\n            'v': 18,\n            'f': \"18\",\n        },\n\"10013\",\n\"14522\",\n\" 15227\"],\n [{\n            'v': 19,\n            'f': \"19\",\n        },\n\"10014\",\n\"11526\",\n\" 15266\"],\n [{\n            'v': 20,\n            'f': \"20\",\n        },\n\"10015\",\n\"14537\",\n\" 15306\"],\n [{\n            'v': 21,\n            'f': \"21\",\n        },\n\"10016\",\n\"26NNN\",\n\" 15344\"],\n [{\n            'v': 22,\n            'f': \"22\",\n        },\n\"10017\",\n\"14542\",\n\" 15423\"],\n [{\n            'v': 23,\n            'f': \"23\",\n        },\n\"10018\",\n\"12NNN\",\n\" 15502\"],\n [{\n            'v': 24,\n            'f': \"24\",\n        },\n\"10019\",\n\"14526\",\n\" 15542\"],\n [{\n            'v': 25,\n            'f': \"25\",\n        },\n\"1002\",\n\"44638\",\n\" 14538\"],\n [{\n            'v': 26,\n            'f': \"26\",\n        },\n\"10020\",\n\"14568\",\n\" 15582\"],\n [{\n            'v': 27,\n            'f': \"27\",\n        },\n\"10021\",\n\"85NNN\",\n\" 15660\"],\n [{\n            'v': 28,\n            'f': \"28\",\n        },\n\"10022\",\n\"14574\",\n\" 15742\"],\n [{\n            'v': 29,\n            'f': \"29\",\n        },\n\"10023\",\n\"14582\",\n\" 15819\"],\n [{\n            'v': 30,\n            'f': \"30\",\n        },\n\"10024\",\n\"14580\",\n\" 15899\"],\n [{\n            'v': 31,\n            'f': \"31\",\n        },\n\"10025\",\n\"14591\",\n\" 15940\"],\n [{\n            'v': 32,\n            'f': \"32\",\n        },\n\"10026\",\n\"14602\",\n\" 16022\"],\n [{\n            'v': 33,\n            'f': \"33\",\n        },\n\"10027\",\n\"14606\",\n\" 16061\"],\n [{\n            'v': 34,\n            'f': \"34\",\n        },\n\"10028\",\n\"14611\",\n\" 16101\"],\n [{\n            'v': 35,\n            'f': \"35\",\n        },\n\"10029\",\n\"14619\",\n\" 16139\"],\n [{\n            'v': 36,\n            'f': \"36\",\n        },\n\"1003\",\n\"44625\",\n\" 14622\"],\n [{\n            'v': 37,\n            'f': \"37\",\n        },\n\"10030\",\n\"14622\",\n\" 16217\"],\n [{\n            'v': 38,\n            'f': \"38\",\n        },\n\"10031\",\n\"14625\",\n\" 16295\"],\n [{\n            'v': 39,\n            'f': \"39\",\n        },\n\"10032\",\n\"14637\",\n\" 16375\"],\n [{\n            'v': 40,\n            'f': \"40\",\n        },\n\"10033\",\n\"14641\",\n\" 16414\"],\n [{\n            'v': 41,\n            'f': \"41\",\n        },\n\"10034\",\n\"14649\",\n\" 16493\"],\n [{\n            'v': 42,\n            'f': \"42\",\n        },\n\"10035\",\n\"14657\",\n\" 16571\"],\n [{\n            'v': 43,\n            'f': \"43\",\n        },\n\"10036\",\n\"14661\",\n\" 16650\"],\n [{\n            'v': 44,\n            'f': \"44\",\n        },\n\"10037\",\n\"14666\",\n\" 16689\"],\n [{\n            'v': 45,\n            'f': \"45\",\n        },\n\"10038\",\n\"14673\",\n\" 16733\"],\n [{\n            'v': 46,\n            'f': \"46\",\n        },\n\"10039\",\n\"14677\",\n\" 16772\"],\n [{\n            'v': 47,\n            'f': \"47\",\n        },\n\"1004\",\n\"44706\",\n\" 14705\"],\n [{\n            'v': 48,\n            'f': \"48\",\n        },\n\"10040\",\n\"14686\",\n\" 16851\"],\n [{\n            'v': 49,\n            'f': \"49\",\n        },\n\"10041\",\n\"14691\",\n\" 16931\"],\n [{\n            'v': 50,\n            'f': \"50\",\n        },\n\"10042\",\n\"14691\",\n\" 16971\"],\n [{\n            'v': 51,\n            'f': \"51\",\n        },\n\"10043\",\n\"14704\",\n\" 17049\"],\n [{\n            'v': 52,\n            'f': \"52\",\n        },\n\"10044\",\n\"47068\",\n\" 17089\"],\n [{\n            'v': 53,\n            'f': \"53\",\n        },\n\"10045\",\n\"14716\",\n\" 17169\"],\n [{\n            'v': 54,\n            'f': \"54\",\n        },\n\"10046\",\n\"14724\",\n\" 17247\"],\n [{\n            'v': 55,\n            'f': \"55\",\n        },\n\"10047\",\n\"14728\",\n\" 17287\"],\n [{\n            'v': 56,\n            'f': \"56\",\n        },\n\"10048\",\n\"14732\",\n\" 17327\"],\n [{\n            'v': 57,\n            'f': \"57\",\n        },\n\"10049\",\n\"4748N\",\n\" 17406\"],\n [{\n            'v': 58,\n            'f': \"58\",\n        },\n\"1005\",\n\"44181\",\n\" 14789\"],\n [{\n            'v': 59,\n            'f': \"59\",\n        },\n\"10050\",\n\"14744\",\n\" 17445\"],\n [{\n            'v': 60,\n            'f': \"60\",\n        },\n\"10051\",\n\"14748\",\n\" 17484\"],\n [{\n            'v': 61,\n            'f': \"61\",\n        },\n\"10052\",\n\"14766\",\n\" 17564\"],\n [{\n            'v': 62,\n            'f': \"62\",\n        },\n\"10053\",\n\"14764\",\n\" 17642\"],\n [{\n            'v': 63,\n            'f': \"63\",\n        },\n\"10054\",\n\"14771\",\n\" 17720\"],\n [{\n            'v': 64,\n            'f': \"64\",\n        },\n\"10055\",\n\"14779\",\n\" 17798\"],\n [{\n            'v': 65,\n            'f': \"65\",\n        },\n\"10056\",\n\"14787\",\n\" 17876\"],\n [{\n            'v': 66,\n            'f': \"66\",\n        },\n\"10057\",\n\"14791\",\n\" 17915\"],\n [{\n            'v': 67,\n            'f': \"67\",\n        },\n\"10058\",\n\"14796\",\n\" 17955\"],\n [{\n            'v': 68,\n            'f': \"68\",\n        },\n\"10059\",\n\"14799\",\n\" 17995\"],\n [{\n            'v': 69,\n            'f': \"69\",\n        },\n\"1006\",\n\"44874\",\n\" 14873\"],\n [{\n            'v': 70,\n            'f': \"70\",\n        },\n\"10060\",\n\"14870\",\n\" 18034\"],\n [{\n            'v': 71,\n            'f': \"71\",\n        },\n\"10061\",\n\"14811\",\n\" 18113\"],\n [{\n            'v': 72,\n            'f': \"72\",\n        },\n\"10062\",\n\"14851\",\n\" 18190\"],\n [{\n            'v': 73,\n            'f': \"73\",\n        },\n\"10063\",\n\"14826\",\n\" 18269\"],\n [{\n            'v': 74,\n            'f': \"74\",\n        },\n\"10064\",\n\"11831\",\n\" 18348\"],\n [{\n            'v': 75,\n            'f': \"75\",\n        },\n\"10065\",\n\"14842\",\n\" 18428\"],\n [{\n            'v': 76,\n            'f': \"76\",\n        },\n\"10066\",\n\"12846\",\n\" 18468\"],\n [{\n            'v': 77,\n            'f': \"77\",\n        },\n\"10067\",\n\"14846\",\n\" 18467\"],\n [{\n            'v': 78,\n            'f': \"78\",\n        },\n\"10068\",\n\"14861\",\n\" 18546\"],\n [{\n            'v': 79,\n            'f': \"79\",\n        },\n\"10069\",\n\"14862\",\n\" 18625\"],\n [{\n            'v': 80,\n            'f': \"80\",\n        },\n\"1007\",\n\"24967\",\n\" 14957\"],\n [{\n            'v': 81,\n            'f': \"81\",\n        },\n\"10070\",\n\"14871\",\n\" 18702\"],\n [{\n            'v': 82,\n            'f': \"82\",\n        },\n\"10071\",\n\"14871\",\n\" 18780\"],\n [{\n            'v': 83,\n            'f': \"83\",\n        },\n\"10072\",\n\"14882\",\n\" 18859\"],\n [{\n            'v': 84,\n            'f': \"84\",\n        },\n\"10073\",\n\"11893\",\n\" 18938\"],\n [{\n            'v': 85,\n            'f': \"85\",\n        },\n\"10074\",\n\"14901\",\n\" 19018\"],\n [{\n            'v': 86,\n            'f': \"86\",\n        },\n\"10075\",\n\"14909\",\n\" 19096\"],\n [{\n            'v': 87,\n            'f': \"87\",\n        },\n\"10076\",\n\"14911\",\n\" 19174\"],\n [{\n            'v': 88,\n            'f': \"88\",\n        },\n\"10077\",\n\"14921\",\n\" 19213\"],\n [{\n            'v': 89,\n            'f': \"89\",\n        },\n\"10078\",\n\"14926\",\n\" 19252\"],\n [{\n            'v': 90,\n            'f': \"90\",\n        },\n\"10079\",\n\"14933\",\n\" 19331\"],\n [{\n            'v': 91,\n            'f': \"91\",\n        },\n\"1008\",\n\"45042\",\n\" 15040\"],\n [{\n            'v': 92,\n            'f': \"92\",\n        },\n\"10080\",\n\"14914\",\n\" 19410\"],\n [{\n            'v': 93,\n            'f': \"93\",\n        },\n\"10081\",\n\"14944\",\n\" 19449\"],\n [{\n            'v': 94,\n            'f': \"94\",\n        },\n\"10082\",\n\"14963\",\n\" 19532\"],\n [{\n            'v': 95,\n            'f': \"95\",\n        },\n\"10083\",\n\"14961\",\n\" 19613\"],\n [{\n            'v': 96,\n            'f': \"96\",\n        },\n\"10084\",\n\"14969\",\n\" 19693\"],\n [{\n            'v': 97,\n            'f': \"97\",\n        },\n\"10085\",\n\"14972\",\n\" 19772\"],\n [{\n            'v': 98,\n            'f': \"98\",\n        },\n\"10086\",\n\"9NNNN\",\n\" 19852\"],\n [{\n            'v': 99,\n            'f': \"99\",\n        },\n\"10087\",\n\"14993\",\n\" 19933\"],\n [{\n            'v': 100,\n            'f': \"100\",\n        },\n\"10088\",\n\"20101\",\n\" 20012\"],\n [{\n            'v': 101,\n            'f': \"101\",\n        },\n\"10089\",\n\"20068\",\n\" 20051\"],\n [{\n            'v': 102,\n            'f': \"102\",\n        },\n\"1009\",\n\"46122\",\n\" 15123\"],\n [{\n            'v': 103,\n            'f': \"103\",\n        },\n\"10090\",\n\"20091\",\n\" 20091\"],\n [{\n            'v': 104,\n            'f': \"104\",\n        },\n\"10091\",\n\"20170\",\n\" 20170\"],\n [{\n            'v': 105,\n            'f': \"105\",\n        },\n\"10092\",\n\"20269\",\n\" 20209\"],\n [{\n            'v': 106,\n            'f': \"106\",\n        },\n\"10093\",\n\"20286\",\n\" 20288\"],\n [{\n            'v': 107,\n            'f': \"107\",\n        },\n\"10094\",\n\"3NNNN\",\n\" 20369\"],\n [{\n            'v': 108,\n            'f': \"108\",\n        },\n\"10095\",\n\"24046\",\n\" 20456\"],\n [{\n            'v': 109,\n            'f': \"109\",\n        },\n\"10096\",\n\"20634\",\n\" 20537\"],\n [{\n            'v': 110,\n            'f': \"110\",\n        },\n\"10097\",\n\"20627\",\n\" 20617\"],\n [{\n            'v': 111,\n            'f': \"111\",\n        },\n\"10098\",\n\"20699\",\n\" 20695\"],\n [{\n            'v': 112,\n            'f': \"112\",\n        },\n\"10099\",\n\"6NNNN\",\n\" 20775\"],\n [{\n            'v': 113,\n            'f': \"113\",\n        },\n\"101\",\n\"4NNNN\",\n\" 00541\"],\n [{\n            'v': 114,\n            'f': \"114\",\n        },\n\"1010\",\n\"45207\",\n\" 15205\"],\n [{\n            'v': 115,\n            'f': \"115\",\n        },\n\"10100\",\n\"24082\",\n\" 20815\"],\n [{\n            'v': 116,\n            'f': \"116\",\n        },\n\"10101\",\n\"20826\",\n\" 20855\"],\n [{\n            'v': 117,\n            'f': \"117\",\n        },\n\"10102\",\n\"20897\",\n\" 20894\"],\n [{\n            'v': 118,\n            'f': \"118\",\n        },\n\"10103\",\n\"20971\",\n\" 20976\"],\n [{\n            'v': 119,\n            'f': \"119\",\n        },\n\"10104\",\n\"21101\",\n\" 21055\"],\n [{\n            'v': 120,\n            'f': \"120\",\n        },\n\"10105\",\n\"21093\",\n\" 21095\"],\n [{\n            'v': 121,\n            'f': \"121\",\n        },\n\"10106\",\n\"21178\",\n\" 21174\"],\n [{\n            'v': 122,\n            'f': \"122\",\n        },\n\"10107\",\n\"21255\",\n\" 21252\"],\n [{\n            'v': 123,\n            'f': \"123\",\n        },\n\"10108\",\n\"27216\",\n\" 21292\"],\n [{\n            'v': 124,\n            'f': \"124\",\n        },\n\"10109\",\n\"21137\",\n\" 21374\"],\n [{\n            'v': 125,\n            'f': \"125\",\n        },\n\"1011\",\n\"46259\",\n\" 15290\"],\n [{\n            'v': 126,\n            'f': \"126\",\n        },\n\"10110\",\n\"21462\",\n\" 21451\"],\n [{\n            'v': 127,\n            'f': \"127\",\n        },\n\"10111\",\n\"21630\",\n\" 21530\"],\n [{\n            'v': 128,\n            'f': \"128\",\n        },\n\"10112\",\n\"21560\",\n\" 21608\"],\n [{\n            'v': 129,\n            'f': \"129\",\n        },\n\"10113\",\n\"21161\",\n\" 21648\"],\n [{\n            'v': 130,\n            'f': \"130\",\n        },\n\"10114\",\n\"8NNNN\",\n\" 21688\"],\n [{\n            'v': 131,\n            'f': \"131\",\n        },\n\"10115\",\n\"21724\",\n\" 21727\"],\n [{\n            'v': 132,\n            'f': \"132\",\n        },\n\"10116\",\n\"21176\",\n\" 21766\"],\n [{\n            'v': 133,\n            'f': \"133\",\n        },\n\"10117\",\n\"11816\",\n\" 21845\"],\n [{\n            'v': 134,\n            'f': \"134\",\n        },\n\"10118\",\n\"24192\",\n\" 21925\"],\n [{\n            'v': 135,\n            'f': \"135\",\n        },\n\"10119\",\n\"26012\",\n\" 22003\"],\n [{\n            'v': 136,\n            'f': \"136\",\n        },\n\"1012\",\n\"45327\",\n\" 15376\"],\n [{\n            'v': 137,\n            'f': \"137\",\n        },\n\"10120\",\n\"22083\",\n\" 22083\"],\n [{\n            'v': 138,\n            'f': \"138\",\n        },\n\"10121\",\n\"22167\",\n\" 22163\"],\n [{\n            'v': 139,\n            'f': \"139\",\n        },\n\"10122\",\n\"24221\",\n\" 22241\"],\n [{\n            'v': 140,\n            'f': \"140\",\n        },\n\"10123\",\n\"22322\",\n\" 22324\"],\n [{\n            'v': 141,\n            'f': \"141\",\n        },\n\"10124\",\n\"22416\",\n\" 22405\"],\n [{\n            'v': 142,\n            'f': \"142\",\n        },\n\"10125\",\n\"22446\",\n\" 22444\"],\n [{\n            'v': 143,\n            'f': \"143\",\n        },\n\"10126\",\n\"24276\",\n\" 22522\"],\n [{\n            'v': 144,\n            'f': \"144\",\n        },\n\"10127\",\n\"0NNNN\",\n\" 22601\"],\n [{\n            'v': 145,\n            'f': \"145\",\n        },\n\"10128\",\n\"24264\",\n\" 22640\"],\n [{\n            'v': 146,\n            'f': \"146\",\n        },\n\"10129\",\n\"22720\",\n\" 22720\"],\n [{\n            'v': 147,\n            'f': \"147\",\n        },\n\"1013\",\n\"46466\",\n\" 15450\"],\n [{\n            'v': 148,\n            'f': \"148\",\n        },\n\"10130\",\n\"22769\",\n\" 22759\"],\n [{\n            'v': 149,\n            'f': \"149\",\n        },\n\"10131\",\n\"8NNNN\",\n\" 22838\"],\n [{\n            'v': 150,\n            'f': \"150\",\n        },\n\"10132\",\n\"22945\",\n\" 22916\"],\n [{\n            'v': 151,\n            'f': \"151\",\n        },\n\"10133\",\n\"22997\",\n\" 22995\"],\n [{\n            'v': 152,\n            'f': \"152\",\n        },\n\"10134\",\n\"6NNNN\",\n\" 23036\"],\n [{\n            'v': 153,\n            'f': \"153\",\n        },\n\"10135\",\n\"23017\",\n\" 23076\"],\n [{\n            'v': 154,\n            'f': \"154\",\n        },\n\"10136\",\n\"23154\",\n\" 23154\"],\n [{\n            'v': 155,\n            'f': \"155\",\n        },\n\"10137\",\n\"24323\",\n\" 23233\"],\n [{\n            'v': 156,\n            'f': \"156\",\n        },\n\"10138\",\n\"23345\",\n\" 23312\"],\n [{\n            'v': 157,\n            'f': \"157\",\n        },\n\"10139\",\n\"5NNNN\",\n\" 23352\"],\n [{\n            'v': 158,\n            'f': \"158\",\n        },\n\"1014\",\n\"46642\",\n\" 15542\"],\n [{\n            'v': 159,\n            'f': \"159\",\n        },\n\"10140\",\n\"24343\",\n\" 23432\"],\n [{\n            'v': 160,\n            'f': \"160\",\n        },\n\"10141\",\n\"8NNNN\",\n\" 23472\"],\n [{\n            'v': 161,\n            'f': \"161\",\n        },\n\"10142\",\n\"23664\",\n\" 23554\"],\n [{\n            'v': 162,\n            'f': \"162\",\n        },\n\"10143\",\n\"23692\",\n\" 23594\"],\n [{\n            'v': 163,\n            'f': \"163\",\n        },\n\"10144\",\n\"23672\",\n\" 23673\"],\n [{\n            'v': 164,\n            'f': \"164\",\n        },\n\"10145\",\n\"24371\",\n\" 23712\"],\n [{\n            'v': 165,\n            'f': \"165\",\n        },\n\"10146\",\n\"24375\",\n\" 23752\"],\n [{\n            'v': 166,\n            'f': \"166\",\n        },\n\"10147\",\n\"23791\",\n\" 23791\"],\n [{\n            'v': 167,\n            'f': \"167\",\n        },\n\"10148\",\n\"8NNNN\",\n\" 23830\"],\n [{\n            'v': 168,\n            'f': \"168\",\n        },\n\"10149\",\n\"23857\",\n\" 23870\"],\n [{\n            'v': 169,\n            'f': \"169\",\n        },\n\"1015\",\n\"45626\",\n\" 15625\"],\n [{\n            'v': 170,\n            'f': \"170\",\n        },\n\"10150\",\n\"23929\",\n\" 23910\"],\n [{\n            'v': 171,\n            'f': \"171\",\n        },\n\"10151\",\n\"4NNNN\",\n\" 23990\"],\n [{\n            'v': 172,\n            'f': \"172\",\n        },\n\"10152\",\n\"24076\",\n\" 24070\"],\n [{\n            'v': 173,\n            'f': \"173\",\n        },\n\"10153\",\n\"24196\",\n\" 24149\"],\n [{\n            'v': 174,\n            'f': \"174\",\n        },\n\"10154\",\n\"24411\",\n\" 24189\"],\n [{\n            'v': 175,\n            'f': \"175\",\n        },\n\"10155\",\n\"24268\",\n\" 24268\"],\n [{\n            'v': 176,\n            'f': \"176\",\n        },\n\"10156\",\n\"24719\",\n\" 24308\"],\n [{\n            'v': 177,\n            'f': \"177\",\n        },\n\"10157\",\n\"24348\",\n\" 24348\"],\n [{\n            'v': 178,\n            'f': \"178\",\n        },\n\"10158\",\n\"24383\",\n\" 24388\"],\n [{\n            'v': 179,\n            'f': \"179\",\n        },\n\"10159\",\n\"3NNNN\",\n\" 24428\"],\n [{\n            'v': 180,\n            'f': \"180\",\n        },\n\"1016\",\n\"46775\",\n\" 15709\"],\n [{\n            'v': 181,\n            'f': \"181\",\n        },\n\"10160\",\n\"24446\",\n\" 24468\"],\n [{\n            'v': 182,\n            'f': \"182\",\n        },\n\"10161\",\n\"24648\",\n\" 24548\"],\n [{\n            'v': 183,\n            'f': \"183\",\n        },\n\"10162\",\n\"24627\",\n\" 24627\"],\n [{\n            'v': 184,\n            'f': \"184\",\n        },\n\"10163\",\n\"24707\",\n\" 24707\"],\n [{\n            'v': 185,\n            'f': \"185\",\n        },\n\"10164\",\n\"24747\",\n\" 24745\"],\n [{\n            'v': 186,\n            'f': \"186\",\n        },\n\"10165\",\n\"24735\",\n\" 24785\"],\n [{\n            'v': 187,\n            'f': \"187\",\n        },\n\"10166\",\n\"24864\",\n\" 24864\"],\n [{\n            'v': 188,\n            'f': \"188\",\n        },\n\"10167\",\n\"24948\",\n\" 24943\"],\n [{\n            'v': 189,\n            'f': \"189\",\n        },\n\"10168\",\n\"24919\",\n\" 24983\"],\n [{\n            'v': 190,\n            'f': \"190\",\n        },\n\"10169\",\n\"25063\",\n\" 25063\"],\n [{\n            'v': 191,\n            'f': \"191\",\n        },\n\"1017\",\n\"45799\",\n\" 15795\"],\n [{\n            'v': 192,\n            'f': \"192\",\n        },\n\"10170\",\n\"25103\",\n\" 25103\"],\n [{\n            'v': 193,\n            'f': \"193\",\n        },\n\"10171\",\n\"25181\",\n\" 25181\"],\n [{\n            'v': 194,\n            'f': \"194\",\n        },\n\"10172\",\n\"225NN\",\n\" 25220\"],\n [{\n            'v': 195,\n            'f': \"195\",\n        },\n\"10173\",\n\"25268\",\n\" 25260\"],\n [{\n            'v': 196,\n            'f': \"196\",\n        },\n\"10174\",\n\"6NNNN\",\n\" 25300\"],\n [{\n            'v': 197,\n            'f': \"197\",\n        },\n\"10175\",\n\"25341\",\n\" 25341\"],\n [{\n            'v': 198,\n            'f': \"198\",\n        },\n\"10176\",\n\"25486\",\n\" 25410\"],\n [{\n            'v': 199,\n            'f': \"199\",\n        },\n\"10177\",\n\"15456\",\n\" 25459\"],\n [{\n            'v': 200,\n            'f': \"200\",\n        },\n\"10178\",\n\"25510\",\n\" 25500\"],\n [{\n            'v': 201,\n            'f': \"201\",\n        },\n\"10179\",\n\"25696\",\n\" 25539\"],\n [{\n            'v': 202,\n            'f': \"202\",\n        },\n\"1018\",\n\"46878\",\n\" 15878\"],\n [{\n            'v': 203,\n            'f': \"203\",\n        },\n\"10180\",\n\"25621\",\n\" 25621\"],\n [{\n            'v': 204,\n            'f': \"204\",\n        },\n\"10181\",\n\"24570\",\n\" 25700\"],\n [{\n            'v': 205,\n            'f': \"205\",\n        },\n\"10182\",\n\"25776\",\n\" 25739\"],\n [{\n            'v': 206,\n            'f': \"206\",\n        },\n\"10183\",\n\"6NNNN\",\n\" 25819\"],\n [{\n            'v': 207,\n            'f': \"207\",\n        },\n\"10184\",\n\"25866\",\n\" 25859\"],\n [{\n            'v': 208,\n            'f': \"208\",\n        },\n\"10185\",\n\"25885\",\n\" 25899\"],\n [{\n            'v': 209,\n            'f': \"209\",\n        },\n\"10186\",\n\"5NNNN\",\n\" 25939\"],\n [{\n            'v': 210,\n            'f': \"210\",\n        },\n\"10187\",\n\"980NN\",\n\" 25980\"],\n [{\n            'v': 211,\n            'f': \"211\",\n        },\n\"10188\",\n\"26067\",\n\" 26064\"],\n [{\n            'v': 212,\n            'f': \"212\",\n        },\n\"10189\",\n\"24610\",\n\" 26103\"],\n [{\n            'v': 213,\n            'f': \"213\",\n        },\n\"1019\",\n\"41961\",\n\" 15961\"],\n [{\n            'v': 214,\n            'f': \"214\",\n        },\n\"10190\",\n\"24612\",\n\" 26143\"],\n [{\n            'v': 215,\n            'f': \"215\",\n        },\n\"10191\",\n\"26225\",\n\" 26220\"],\n [{\n            'v': 216,\n            'f': \"216\",\n        },\n\"10192\",\n\"24626\",\n\" 26260\"],\n [{\n            'v': 217,\n            'f': \"217\",\n        },\n\"10193\",\n\"24621\",\n\" 26300\"],\n [{\n            'v': 218,\n            'f': \"218\",\n        },\n\"10194\",\n\"26345\",\n\" 26340\"],\n [{\n            'v': 219,\n            'f': \"219\",\n        },\n\"10195\",\n\"24644\",\n\" 26419\"],\n [{\n            'v': 220,\n            'f': \"220\",\n        },\n\"10196\",\n\"26466\",\n\" 26458\"],\n [{\n            'v': 221,\n            'f': \"221\",\n        },\n\"10197\",\n\"24649\",\n\" 26499\"],\n [{\n            'v': 222,\n            'f': \"222\",\n        },\n\"10198\",\n\"26636\",\n\" 26577\"],\n [{\n            'v': 223,\n            'f': \"223\",\n        },\n\"10199\",\n\"26616\",\n\" 26657\"],\n [{\n            'v': 224,\n            'f': \"224\",\n        },\n\"102\",\n\"21069\",\n\" 00580\"],\n [{\n            'v': 225,\n            'f': \"225\",\n        },\n\"1020\",\n\"16048\",\n\" 16044\"],\n [{\n            'v': 226,\n            'f': \"226\",\n        },\n\"10200\",\n\"26694\",\n\" 26697\"],\n [{\n            'v': 227,\n            'f': \"227\",\n        },\n\"10201\",\n\"26719\",\n\" 26737\"],\n [{\n            'v': 228,\n            'f': \"228\",\n        },\n\"10202\",\n\"26812\",\n\" 26816\"],\n [{\n            'v': 229,\n            'f': \"229\",\n        },\n\"10203\",\n\"26576\",\n\" 26856\"],\n [{\n            'v': 230,\n            'f': \"230\",\n        },\n\"10204\",\n\"26892\",\n\" 26895\"],\n [{\n            'v': 231,\n            'f': \"231\",\n        },\n\"10205\",\n\"26976\",\n\" 26978\"],\n [{\n            'v': 232,\n            'f': \"232\",\n        },\n\"10206\",\n\"26931\",\n\" 26978\"],\n [{\n            'v': 233,\n            'f': \"233\",\n        },\n\"10207\",\n\"3NNNN\",\n\" 27058\"],\n [{\n            'v': 234,\n            'f': \"234\",\n        },\n\"10208\",\n\"27064\",\n\" 27098\"],\n [{\n            'v': 235,\n            'f': \"235\",\n        },\n\"10209\",\n\"24711\",\n\" 27182\"],\n [{\n            'v': 236,\n            'f': \"236\",\n        },\n\"1021\",\n\"46129\",\n\" 16129\"],\n [{\n            'v': 237,\n            'f': \"237\",\n        },\n\"10210\",\n\"27216\",\n\" 27221\"],\n [{\n            'v': 238,\n            'f': \"238\",\n        },\n\"10211\",\n\"27700\",\n\" 27300\"],\n [{\n            'v': 239,\n            'f': \"239\",\n        },\n\"10212\",\n\"30NNN\",\n\" 27340\"],\n [{\n            'v': 240,\n            'f': \"240\",\n        },\n\"10213\",\n\"27369\",\n\" 27379\"],\n [{\n            'v': 241,\n            'f': \"241\",\n        },\n\"10214\",\n\"27457\",\n\" 27457\"],\n [{\n            'v': 242,\n            'f': \"242\",\n        },\n\"10215\",\n\"21616\",\n\" 27536\"],\n [{\n            'v': 243,\n            'f': \"243\",\n        },\n\"10216\",\n\"27616\",\n\" 27615\"],\n [{\n            'v': 244,\n            'f': \"244\",\n        },\n\"10217\",\n\"27698\",\n\" 27693\"],\n [{\n            'v': 245,\n            'f': \"245\",\n        },\n\"10218\",\n\"27732\",\n\" 27733\"],\n [{\n            'v': 246,\n            'f': \"246\",\n        },\n\"10219\",\n\"2783N\",\n\" 27811\"],\n [{\n            'v': 247,\n            'f': \"247\",\n        },\n\"1022\",\n\"46121\",\n\" 16212\"],\n [{\n            'v': 248,\n            'f': \"248\",\n        },\n\"10220\",\n\"9NNNN\",\n\" 27850\"],\n [{\n            'v': 249,\n            'f': \"249\",\n        },\n\"10221\",\n\"29928\",\n\" 27928\"],\n [{\n            'v': 250,\n            'f': \"250\",\n        },\n\"10222\",\n\"24696\",\n\" 27967\"],\n [{\n            'v': 251,\n            'f': \"251\",\n        },\n\"10223\",\n\"28007\",\n\" 28007\"],\n [{\n            'v': 252,\n            'f': \"252\",\n        },\n\"10224\",\n\"18103\",\n\" 28086\"],\n [{\n            'v': 253,\n            'f': \"253\",\n        },\n\"10225\",\n\"28126\",\n\" 28126\"],\n [{\n            'v': 254,\n            'f': \"254\",\n        },\n\"10226\",\n\"28163\",\n\" 28167\"],\n [{\n            'v': 255,\n            'f': \"255\",\n        },\n\"10227\",\n\"28210\",\n\" 28206\"],\n [{\n            'v': 256,\n            'f': \"256\",\n        },\n\"10228\",\n\"28245\",\n\" 28246\"],\n [{\n            'v': 257,\n            'f': \"257\",\n        },\n\"10229\",\n\"28326\",\n\" 28326\"],\n [{\n            'v': 258,\n            'f': \"258\",\n        },\n\"1023\",\n\"41622\",\n\" 16293\"],\n [{\n            'v': 259,\n            'f': \"259\",\n        },\n\"10230\",\n\"28316\",\n\" 28366\"],\n [{\n            'v': 260,\n            'f': \"260\",\n        },\n\"10231\",\n\"28415\",\n\" 28405\"],\n [{\n            'v': 261,\n            'f': \"261\",\n        },\n\"10232\",\n\"2848N\",\n\" 28484\"],\n [{\n            'v': 262,\n            'f': \"262\",\n        },\n\"10233\",\n\"28667\",\n\" 28563\"],\n [{\n            'v': 263,\n            'f': \"263\",\n        },\n\"10234\",\n\"28649\",\n\" 28643\"],\n [{\n            'v': 264,\n            'f': \"264\",\n        },\n\"10235\",\n\"28645\",\n\" 28643\"],\n [{\n            'v': 265,\n            'f': \"265\",\n        },\n\"10236\",\n\"28172\",\n\" 28723\"],\n [{\n            'v': 266,\n            'f': \"266\",\n        },\n\"10237\",\n\"28586\",\n\" 28801\"],\n [{\n            'v': 267,\n            'f': \"267\",\n        },\n\"10238\",\n\"28188\",\n\" 28880\"],\n [{\n            'v': 268,\n            'f': \"268\",\n        },\n\"10239\",\n\"28929\",\n\" 28920\"],\n [{\n            'v': 269,\n            'f': \"269\",\n        },\n\"1024\",\n\"46375\",\n\" 16376\"],\n [{\n            'v': 270,\n            'f': \"270\",\n        },\n\"10240\",\n\"26066\",\n\" 29001\"],\n [{\n            'v': 271,\n            'f': \"271\",\n        },\n\"10241\",\n\"29104\",\n\" 29040\"],\n [{\n            'v': 272,\n            'f': \"272\",\n        },\n\"10242\",\n\"24908\",\n\" 29080\"],\n [{\n            'v': 273,\n            'f': \"273\",\n        },\n\"10243\",\n\"29116\",\n\" 29160\"],\n [{\n            'v': 274,\n            'f': \"274\",\n        },\n\"10244\",\n\"29605\",\n\" 29200\"],\n [{\n            'v': 275,\n            'f': \"275\",\n        },\n\"10245\",\n\"29210\",\n\" 29240\"],\n [{\n            'v': 276,\n            'f': \"276\",\n        },\n\"10246\",\n\"24924\",\n\" 29279\"],\n [{\n            'v': 277,\n            'f': \"277\",\n        },\n\"10247\",\n\"24939\",\n\" 29358\"],\n [{\n            'v': 278,\n            'f': \"278\",\n        },\n\"10248\",\n\"29392\",\n\" 29397\"],\n [{\n            'v': 279,\n            'f': \"279\",\n        },\n\"10249\",\n\"24947\",\n\" 29477\"],\n [{\n            'v': 280,\n            'f': \"280\",\n        },\n\"1025\",\n\"86469\",\n\" 16460\"],\n [{\n            'v': 281,\n            'f': \"281\",\n        },\n\"10250\",\n\"29619\",\n\" 29519\"],\n [{\n            'v': 282,\n            'f': \"282\",\n        },\n\"10251\",\n\"24966\",\n\" 29600\"],\n [{\n            'v': 283,\n            'f': \"283\",\n        },\n\"10252\",\n\"29672\",\n\" 29639\"],\n [{\n            'v': 284,\n            'f': \"284\",\n        },\n\"10253\",\n\"24966\",\n\" 29679\"],\n [{\n            'v': 285,\n            'f': \"285\",\n        },\n\"10254\",\n\"29786\",\n\" 29719\"],\n [{\n            'v': 286,\n            'f': \"286\",\n        },\n\"10255\",\n\"29797\",\n\" 29797\"],\n [{\n            'v': 287,\n            'f': \"287\",\n        },\n\"10256\",\n\"29283\",\n\" 29836\"],\n [{\n            'v': 288,\n            'f': \"288\",\n        },\n\"10257\",\n\"29945\",\n\" 29915\"],\n [{\n            'v': 289,\n            'f': \"289\",\n        },\n\"10258\",\n\"24999\",\n\" 29994\"],\n [{\n            'v': 290,\n            'f': \"290\",\n        },\n\"10259\",\n\"30035\",\n\" 30035\"],\n [{\n            'v': 291,\n            'f': \"291\",\n        },\n\"1026\",\n\"46649\",\n\" 16549\"],\n [{\n            'v': 292,\n            'f': \"292\",\n        },\n\"10260\",\n\"40012\",\n\" 30075\"],\n [{\n            'v': 293,\n            'f': \"293\",\n        },\n\"10261\",\n\"40164\",\n\" 30155\"],\n [{\n            'v': 294,\n            'f': \"294\",\n        },\n\"10262\",\n\"34019\",\n\" 30194\"],\n [{\n            'v': 295,\n            'f': \"295\",\n        },\n\"10263\",\n\"40239\",\n\" 30233\"],\n [{\n            'v': 296,\n            'f': \"296\",\n        },\n\"10264\",\n\"34027\",\n\" 30273\"],\n [{\n            'v': 297,\n            'f': \"297\",\n        },\n\"10265\",\n\"30324\",\n\" 30314\"],\n [{\n            'v': 298,\n            'f': \"298\",\n        },\n\"10266\",\n\"34039\",\n\" 30392\"],\n [{\n            'v': 299,\n            'f': \"299\",\n        },\n\"10267\",\n\"40436\",\n\" 30431\"],\n [{\n            'v': 300,\n            'f': \"300\",\n        },\n\"10268\",\n\"40657\",\n\" 30511\"],\n [{\n            'v': 301,\n            'f': \"301\",\n        },\n\"10269\",\n\"0NNNN\",\n\" 30511\"],\n [{\n            'v': 302,\n            'f': \"302\",\n        },\n\"1027\",\n\"46636\",\n\" 16631\"],\n [{\n            'v': 303,\n            'f': \"303\",\n        },\n\"10270\",\n\"40695\",\n\" 30590\"],\n [{\n            'v': 304,\n            'f': \"304\",\n        },\n\"10271\",\n\"40634\",\n\" 30630\"],\n [{\n            'v': 305,\n            'f': \"305\",\n        },\n\"10272\",\n\"34065\",\n\" 30669\"],\n [{\n            'v': 306,\n            'f': \"306\",\n        },\n\"10273\",\n\"30174\",\n\" 30709\"],\n [{\n            'v': 307,\n            'f': \"307\",\n        },\n\"10274\",\n\"30725\",\n\" 30749\"],\n [{\n            'v': 308,\n            'f': \"308\",\n        },\n\"10275\",\n\"4NNNN\",\n\" 30829\"],\n [{\n            'v': 309,\n            'f': \"309\",\n        },\n\"10276\",\n\"30866\",\n\" 30868\"],\n [{\n            'v': 310,\n            'f': \"310\",\n        },\n\"10277\",\n\"6NNNN\",\n\" 30909\"],\n [{\n            'v': 311,\n            'f': \"311\",\n        },\n\"10278\",\n\"30946\",\n\" 30948\"],\n [{\n            'v': 312,\n            'f': \"312\",\n        },\n\"10279\",\n\"10988\",\n\" 30988\"],\n [{\n            'v': 313,\n            'f': \"313\",\n        },\n\"1028\",\n\"4654N\",\n\" 16714\"],\n [{\n            'v': 314,\n            'f': \"314\",\n        },\n\"10280\",\n\"34101\",\n\" 31069\"],\n [{\n            'v': 315,\n            'f': \"315\",\n        },\n\"10281\",\n\"31149\",\n\" 31149\"],\n [{\n            'v': 316,\n            'f': \"316\",\n        },\n\"10282\",\n\"34118\",\n\" 31188\"],\n [{\n            'v': 317,\n            'f': \"317\",\n        },\n\"10283\",\n\"41266\",\n\" 31266\"],\n [{\n            'v': 318,\n            'f': \"318\",\n        },\n\"10284\",\n\"31316\",\n\" 31346\"],\n [{\n            'v': 319,\n            'f': \"319\",\n        },\n\"10285\",\n\"41349\",\n\" 31346\"],\n [{\n            'v': 320,\n            'f': \"320\",\n        },\n\"10286\",\n\"31424\",\n\" 31427\"],\n [{\n            'v': 321,\n            'f': \"321\",\n        },\n\"10287\",\n\"34160\",\n\" 31506\"],\n [{\n            'v': 322,\n            'f': \"322\",\n        },\n\"10288\",\n\"34168\",\n\" 31583\"],\n [{\n            'v': 323,\n            'f': \"323\",\n        },\n\"10289\",\n\"41624\",\n\" 31624\"],\n [{\n            'v': 324,\n            'f': \"324\",\n        },\n\"1029\",\n\"16797\",\n\" 16796\"],\n [{\n            'v': 325,\n            'f': \"325\",\n        },\n\"10290\",\n\"34171\",\n\" 31702\"],\n [{\n            'v': 326,\n            'f': \"326\",\n        },\n\"10291\",\n\"41780\",\n\" 31780\"],\n [{\n            'v': 327,\n            'f': \"327\",\n        },\n\"10292\",\n\"31869\",\n\" 31858\"],\n [{\n            'v': 328,\n            'f': \"328\",\n        },\n\"10293\",\n\"31918\",\n\" 31938\"],\n [{\n            'v': 329,\n            'f': \"329\",\n        },\n\"10294\",\n\"34204\",\n\" 32016\"],\n [{\n            'v': 330,\n            'f': \"330\",\n        },\n\"10295\",\n\"4NNNN\",\n\" 32098\"],\n [{\n            'v': 331,\n            'f': \"331\",\n        },\n\"10296\",\n\"6NNNN\",\n\" 32139\"],\n [{\n            'v': 332,\n            'f': \"332\",\n        },\n\"10297\",\n\"32212\",\n\" 32218\"],\n [{\n            'v': 333,\n            'f': \"333\",\n        },\n\"10298\",\n\"4NNNN\",\n\" 32297\"],\n [{\n            'v': 334,\n            'f': \"334\",\n        },\n\"10299\",\n\"34237\",\n\" 32377\"],\n [{\n            'v': 335,\n            'f': \"335\",\n        },\n\"103\",\n\"24062\",\n\" 00621\"],\n [{\n            'v': 336,\n            'f': \"336\",\n        },\n\"1030\",\n\"16951\",\n\" 16879\"],\n [{\n            'v': 337,\n            'f': \"337\",\n        },\n\"10300\",\n\"5NNNN\",\n\" 32456\"],\n [{\n            'v': 338,\n            'f': \"338\",\n        },\n\"10301\",\n\"34263\",\n\" 32535\"],\n [{\n            'v': 339,\n            'f': \"339\",\n        },\n\"10302\",\n\"34267\",\n\" 32575\"],\n [{\n            'v': 340,\n            'f': \"340\",\n        },\n\"10303\",\n\"42612\",\n\" 32615\"],\n [{\n            'v': 341,\n            'f': \"341\",\n        },\n\"10304\",\n\"34261\",\n\" 32694\"],\n [{\n            'v': 342,\n            'f': \"342\",\n        },\n\"10305\",\n\"38277\",\n\" 32772\"],\n [{\n            'v': 343,\n            'f': \"343\",\n        },\n\"10306\",\n\"9NNNN\",\n\" 32852\"],\n [{\n            'v': 344,\n            'f': \"344\",\n        },\n\"10307\",\n\"32912\",\n\" 32932\"],\n [{\n            'v': 345,\n            'f': \"345\",\n        },\n\"10308\",\n\"8NNNN\",\n\" 33010\"],\n [{\n            'v': 346,\n            'f': \"346\",\n        },\n\"10309\",\n\"33089\",\n\" 33088\"],\n [{\n            'v': 347,\n            'f': \"347\",\n        },\n\"1031\",\n\"46962\",\n\" 16962\"],\n [{\n            'v': 348,\n            'f': \"348\",\n        },\n\"10310\",\n\"43117\",\n\" 33172\"],\n [{\n            'v': 349,\n            'f': \"349\",\n        },\n\"10311\",\n\"34312\",\n\" 33250\"],\n [{\n            'v': 350,\n            'f': \"350\",\n        },\n\"10312\",\n\"34332\",\n\" 33329\"],\n [{\n            'v': 351,\n            'f': \"351\",\n        },\n\"10313\",\n\"6NNNN\",\n\" 33409\"],\n [{\n            'v': 352,\n            'f': \"352\",\n        },\n\"10314\",\n\"43492\",\n\" 33489\"],\n [{\n            'v': 353,\n            'f': \"353\",\n        },\n\"10315\",\n\"43655\",\n\" 33529\"],\n [{\n            'v': 354,\n            'f': \"354\",\n        },\n\"10316\",\n\"34361\",\n\" 33612\"],\n [{\n            'v': 355,\n            'f': \"355\",\n        },\n\"10317\",\n\"9NNNN\",\n\" 33690\"],\n [{\n            'v': 356,\n            'f': \"356\",\n        },\n\"10318\",\n\"34379\",\n\" 33769\"],\n [{\n            'v': 357,\n            'f': \"357\",\n        },\n\"10319\",\n\"43849\",\n\" 33849\"],\n [{\n            'v': 358,\n            'f': \"358\",\n        },\n\"1032\",\n\"876NN\",\n\" 17045\"],\n [{\n            'v': 359,\n            'f': \"359\",\n        },\n\"10320\",\n\"34956\",\n\" 33929\"],\n [{\n            'v': 360,\n            'f': \"360\",\n        },\n\"10321\",\n\"34101\",\n\" 34008\"],\n [{\n            'v': 361,\n            'f': \"361\",\n        },\n\"10322\",\n\"44096\",\n\" 34093\"],\n [{\n            'v': 362,\n            'f': \"362\",\n        },\n\"10323\",\n\"34417\",\n\" 34173\"],\n [{\n            'v': 363,\n            'f': \"363\",\n        },\n\"10324\",\n\"34216\",\n\" 34212\"],\n [{\n            'v': 364,\n            'f': \"364\",\n        },\n\"10325\",\n\"34426\",\n\" 34252\"],\n [{\n            'v': 365,\n            'f': \"365\",\n        },\n\"10326\",\n\"34292\",\n\" 34292\"],\n [{\n            'v': 366,\n            'f': \"366\",\n        },\n\"10327\",\n\"44332\",\n\" 34332\"],\n [{\n            'v': 367,\n            'f': \"367\",\n        },\n\"10328\",\n\"34437\",\n\" 34371\"],\n [{\n            'v': 368,\n            'f': \"368\",\n        },\n\"10329\",\n\"34445\",\n\" 34453\"],\n [{\n            'v': 369,\n            'f': \"369\",\n        },\n\"1033\",\n\"47128\",\n\" 17128\"],\n [{\n            'v': 370,\n            'f': \"370\",\n        },\n\"10330\",\n\"8NNNN\",\n\" 34532\"],\n [{\n            'v': 371,\n            'f': \"371\",\n        },\n\"10331\",\n\"34656\",\n\" 34611\"],\n [{\n            'v': 372,\n            'f': \"372\",\n        },\n\"10332\",\n\"34661\",\n\" 34650\"],\n [{\n            'v': 373,\n            'f': \"373\",\n        },\n\"10333\",\n\"4NNNN\",\n\" 34690\"],\n [{\n            'v': 374,\n            'f': \"374\",\n        },\n\"10334\",\n\"34477\",\n\" 34770\"],\n [{\n            'v': 375,\n            'f': \"375\",\n        },\n\"10335\",\n\"34484\",\n\" 34848\"],\n [{\n            'v': 376,\n            'f': \"376\",\n        },\n\"10336\",\n\"34846\",\n\" 34848\"],\n [{\n            'v': 377,\n            'f': \"377\",\n        },\n\"10337\",\n\"34492\",\n\" 34928\"],\n [{\n            'v': 378,\n            'f': \"378\",\n        },\n\"10338\",\n\"34496\",\n\" 34968\"],\n [{\n            'v': 379,\n            'f': \"379\",\n        },\n\"10339\",\n\"34600\",\n\" 35009\"],\n [{\n            'v': 380,\n            'f': \"380\",\n        },\n\"1034\",\n\"42727\",\n\" 17212\"],\n [{\n            'v': 381,\n            'f': \"381\",\n        },\n\"10340\",\n\"35019\",\n\" 35049\"],\n [{\n            'v': 382,\n            'f': \"382\",\n        },\n\"10341\",\n\"45085\",\n\" 35089\"],\n [{\n            'v': 383,\n            'f': \"383\",\n        },\n\"10342\",\n\"34513\",\n\" 35131\"],\n [{\n            'v': 384,\n            'f': \"384\",\n        },\n\"10343\",\n\"34517\",\n\" 35170\"],\n [{\n            'v': 385,\n            'f': \"385\",\n        },\n\"10344\",\n\"6NNNN\",\n\" 35248\"],\n [{\n            'v': 386,\n            'f': \"386\",\n        },\n\"10345\",\n\"35288\",\n\" 35288\"],\n [{\n            'v': 387,\n            'f': \"387\",\n        },\n\"10346\",\n\"45373\",\n\" 35371\"],\n [{\n            'v': 388,\n            'f': \"388\",\n        },\n\"10347\",\n\"45496\",\n\" 35449\"],\n [{\n            'v': 389,\n            'f': \"389\",\n        },\n\"10348\",\n\"45627\",\n\" 35527\"],\n [{\n            'v': 390,\n            'f': \"390\",\n        },\n\"10349\",\n\"34565\",\n\" 35567\"],\n [{\n            'v': 391,\n            'f': \"391\",\n        },\n\"1035\",\n\"27259\",\n\" 17293\"],\n [{\n            'v': 392,\n            'f': \"392\",\n        },\n\"10350\",\n\"35602\",\n\" 35606\"],\n [{\n            'v': 393,\n            'f': \"393\",\n        },\n\"10351\",\n\"34661\",\n\" 35645\"],\n [{\n            'v': 394,\n            'f': \"394\",\n        },\n\"10352\",\n\"34568\",\n\" 35685\"],\n [{\n            'v': 395,\n            'f': \"395\",\n        },\n\"10353\",\n\"34527\",\n\" 35725\"],\n [{\n            'v': 396,\n            'f': \"396\",\n        },\n\"10354\",\n\"34576\",\n\" 35764\"],\n [{\n            'v': 397,\n            'f': \"397\",\n        },\n\"10355\",\n\"45186\",\n\" 35803\"],\n [{\n            'v': 398,\n            'f': \"398\",\n        },\n\"10356\",\n\"34581\",\n\" 35843\"],\n [{\n            'v': 399,\n            'f': \"399\",\n        },\n\"10357\",\n\"34592\",\n\" 35923\"],\n [{\n            'v': 400,\n            'f': \"400\",\n        },\n\"10358\",\n\"35925\",\n\" 35923\"],\n [{\n            'v': 401,\n            'f': \"401\",\n        },\n\"10359\",\n\"34608\",\n\" 36002\"],\n [{\n            'v': 402,\n            'f': \"402\",\n        },\n\"1036\",\n\"47237\",\n\" 17376\"],\n [{\n            'v': 403,\n            'f': \"403\",\n        },\n\"10360\",\n\"36016\",\n\" 36041\"],\n [{\n            'v': 404,\n            'f': \"404\",\n        },\n\"10361\",\n\"34612\",\n\" 36120\"],\n [{\n            'v': 405,\n            'f': \"405\",\n        },\n\"10362\",\n\"34619\",\n\" 36199\"],\n [{\n            'v': 406,\n            'f': \"406\",\n        },\n\"10363\",\n\"34627\",\n\" 36278\"],\n [{\n            'v': 407,\n            'f': \"407\",\n        },\n\"10364\",\n\"34632\",\n\" 36317\"],\n [{\n            'v': 408,\n            'f': \"408\",\n        },\n\"10365\",\n\"36357\",\n\" 36357\"],\n [{\n            'v': 409,\n            'f': \"409\",\n        },\n\"10366\",\n\"46435\",\n\" 36436\"],\n [{\n            'v': 410,\n            'f': \"410\",\n        },\n\"10367\",\n\"34642\",\n\" 36476\"],\n [{\n            'v': 411,\n            'f': \"411\",\n        },\n\"10368\",\n\"36614\",\n\" 36554\"],\n [{\n            'v': 412,\n            'f': \"412\",\n        },\n\"10369\",\n\"34669\",\n\" 36594\"],\n [{\n            'v': 413,\n            'f': \"413\",\n        },\n\"1037\",\n\"17462\",\n\" 17458\"],\n [{\n            'v': 414,\n            'f': \"414\",\n        },\n\"10370\",\n\"34661\",\n\" 36674\"],\n [{\n            'v': 415,\n            'f': \"415\",\n        },\n\"10371\",\n\"34676\",\n\" 36752\"],\n [{\n            'v': 416,\n            'f': \"416\",\n        },\n\"10372\",\n\"4NNNN\",\n\" 36791\"],\n [{\n            'v': 417,\n            'f': \"417\",\n        },\n\"10373\",\n\"34683\",\n\" 36830\"],\n [{\n            'v': 418,\n            'f': \"418\",\n        },\n\"10374\",\n\"34682\",\n\" 36870\"],\n [{\n            'v': 419,\n            'f': \"419\",\n        },\n\"10375\",\n\"34694\",\n\" 36949\"],\n [{\n            'v': 420,\n            'f': \"420\",\n        },\n\"10376\",\n\"6NNNN\",\n\" 36989\"],\n [{\n            'v': 421,\n            'f': \"421\",\n        },\n\"10377\",\n\"37039\",\n\" 37030\"],\n [{\n            'v': 422,\n            'f': \"422\",\n        },\n\"10378\",\n\"37070\",\n\" 37070\"],\n [{\n            'v': 423,\n            'f': \"423\",\n        },\n\"10379\",\n\"17198\",\n\" 37147\"],\n [{\n            'v': 424,\n            'f': \"424\",\n        },\n\"1038\",\n\"47564\",\n\" 17541\"],\n [{\n            'v': 425,\n            'f': \"425\",\n        },\n\"10380\",\n\"47216\",\n\" 37225\"],\n [{\n            'v': 426,\n            'f': \"426\",\n        },\n\"10381\",\n\"37704\",\n\" 37304\"],\n [{\n            'v': 427,\n            'f': \"427\",\n        },\n\"10382\",\n\"37382\",\n\" 37381\"],\n [{\n            'v': 428,\n            'f': \"428\",\n        },\n\"10383\",\n\"34742\",\n\" 37421\"],\n [{\n            'v': 429,\n            'f': \"429\",\n        },\n\"10384\",\n\"34746\",\n\" 37460\"],\n [{\n            'v': 430,\n            'f': \"430\",\n        },\n\"10385\",\n\"34464\",\n\" 37540\"],\n [{\n            'v': 431,\n            'f': \"431\",\n        },\n\"10386\",\n\"19NNN\",\n\" 37618\"],\n [{\n            'v': 432,\n            'f': \"432\",\n        },\n\"10387\",\n\"5NNNN\",\n\" 37696\"],\n [{\n            'v': 433,\n            'f': \"433\",\n        },\n\"10388\",\n\"47716\",\n\" 37736\"],\n [{\n            'v': 434,\n            'f': \"434\",\n        },\n\"10389\",\n\"37772\",\n\" 37775\"],\n [{\n            'v': 435,\n            'f': \"435\",\n        },\n\"1039\",\n\"47625\",\n\" 17622\"],\n [{\n            'v': 436,\n            'f': \"436\",\n        },\n\"10390\",\n\"34784\",\n\" 37815\"],\n [{\n            'v': 437,\n            'f': \"437\",\n        },\n\"10391\",\n\"34789\",\n\" 37892\"],\n [{\n            'v': 438,\n            'f': \"438\",\n        },\n\"10392\",\n\"6NNNN\",\n\" 37932\"],\n [{\n            'v': 439,\n            'f': \"439\",\n        },\n\"10393\",\n\"38042\",\n\" 38012\"],\n [{\n            'v': 440,\n            'f': \"440\",\n        },\n\"10394\",\n\"38066\",\n\" 38052\"],\n [{\n            'v': 441,\n            'f': \"441\",\n        },\n\"10395\",\n\"38095\",\n\" 38092\"],\n [{\n            'v': 442,\n            'f': \"442\",\n        },\n\"10396\",\n\"34817\",\n\" 38171\"],\n [{\n            'v': 443,\n            'f': \"443\",\n        },\n\"10397\",\n\"48222\",\n\" 38214\"],\n [{\n            'v': 444,\n            'f': \"444\",\n        },\n\"10398\",\n\"48264\",\n\" 38254\"],\n [{\n            'v': 445,\n            'f': \"445\",\n        },\n\"104\",\n\"00660\",\n\" 00660\"],\n [{\n            'v': 446,\n            'f': \"446\",\n        },\n\"1040\",\n\"18NNN\",\n\" 17705\"],\n [{\n            'v': 447,\n            'f': \"447\",\n        },\n\"1041\",\n\"47786\",\n\" 17786\"],\n [{\n            'v': 448,\n            'f': \"448\",\n        },\n\"1042\",\n\"47847\",\n\" 17873\"],\n [{\n            'v': 449,\n            'f': \"449\",\n        },\n\"1043\",\n\"47976\",\n\" 17964\"],\n [{\n            'v': 450,\n            'f': \"450\",\n        },\n\"1044\",\n\"48069\",\n\" 18053\"],\n [{\n            'v': 451,\n            'f': \"451\",\n        },\n\"1045\",\n\"18154\",\n\" 18141\"],\n [{\n            'v': 452,\n            'f': \"452\",\n        },\n\"1046\",\n\"48230\",\n\" 18230\"],\n [{\n            'v': 453,\n            'f': \"453\",\n        },\n\"1047\",\n\"28137\",\n\" 18318\"],\n [{\n            'v': 454,\n            'f': \"454\",\n        },\n\"1048\",\n\"48270\",\n\" 18408\"],\n [{\n            'v': 455,\n            'f': \"455\",\n        },\n\"1049\",\n\"48499\",\n\" 18496\"],\n [{\n            'v': 456,\n            'f': \"456\",\n        },\n\"105\",\n\"6NNNN\",\n\" 00700\"],\n [{\n            'v': 457,\n            'f': \"457\",\n        },\n\"1050\",\n\"18688\",\n\" 18585\"],\n [{\n            'v': 458,\n            'f': \"458\",\n        },\n\"1051\",\n\"88672\",\n\" 18676\"],\n [{\n            'v': 459,\n            'f': \"459\",\n        },\n\"1052\",\n\"28776\",\n\" 18772\"],\n [{\n            'v': 460,\n            'f': \"460\",\n        },\n\"1053\",\n\"48862\",\n\" 18864\"],\n [{\n            'v': 461,\n            'f': \"461\",\n        },\n\"1054\",\n\"18963\",\n\" 18955\"],\n [{\n            'v': 462,\n            'f': \"462\",\n        },\n\"1055\",\n\"19049\",\n\" 19043\"],\n [{\n            'v': 463,\n            'f': \"463\",\n        },\n\"1056\",\n\"19132\",\n\" 19133\"],\n [{\n            'v': 464,\n            'f': \"464\",\n        },\n\"1057\",\n\"69222\",\n\" 19224\"],\n [{\n            'v': 465,\n            'f': \"465\",\n        },\n\"1058\",\n\"49316\",\n\" 19317\"],\n [{\n            'v': 466,\n            'f': \"466\",\n        },\n\"1059\",\n\"19409\",\n\" 19408\"],\n [{\n            'v': 467,\n            'f': \"467\",\n        },\n\"106\",\n\"00718\",\n\" 00740\"],\n [{\n            'v': 468,\n            'f': \"468\",\n        },\n\"1060\",\n\"19429\",\n\" 19495\"],\n [{\n            'v': 469,\n            'f': \"469\",\n        },\n\"1061\",\n\"69684\",\n\" 19584\"],\n [{\n            'v': 470,\n            'f': \"470\",\n        },\n\"1062\",\n\"19672\",\n\" 19672\"],\n [{\n            'v': 471,\n            'f': \"471\",\n        },\n\"1063\",\n\"9760N\",\n\" 19760\"],\n [{\n            'v': 472,\n            'f': \"472\",\n        },\n\"1064\",\n\"94986\",\n\" 19851\"],\n [{\n            'v': 473,\n            'f': \"473\",\n        },\n\"1065\",\n\"49934\",\n\" 19934\"],\n [{\n            'v': 474,\n            'f': \"474\",\n        },\n\"1066\",\n\"20022\",\n\" 20022\"],\n [{\n            'v': 475,\n            'f': \"475\",\n        },\n\"1067\",\n\"20145\",\n\" 20110\"],\n [{\n            'v': 476,\n            'f': \"476\",\n        },\n\"1068\",\n\"20200\",\n\" 20200\"],\n [{\n            'v': 477,\n            'f': \"477\",\n        },\n\"1069\",\n\"20591\",\n\" 20291\"],\n [{\n            'v': 478,\n            'f': \"478\",\n        },\n\"107\",\n\"0725N\",\n\" 00779\"],\n [{\n            'v': 479,\n            'f': \"479\",\n        },\n\"1070\",\n\"20380\",\n\" 20380\"],\n [{\n            'v': 480,\n            'f': \"480\",\n        },\n\"1071\",\n\"20477\",\n\" 20473\"],\n [{\n            'v': 481,\n            'f': \"481\",\n        },\n\"1072\",\n\"60661\",\n\" 20562\"],\n [{\n            'v': 482,\n            'f': \"482\",\n        },\n\"1073\",\n\"20662\",\n\" 20652\"],\n [{\n            'v': 483,\n            'f': \"483\",\n        },\n\"1074\",\n\"20742\",\n\" 20742\"],\n [{\n            'v': 484,\n            'f': \"484\",\n        },\n\"1075\",\n\"20833\",\n\" 20833\"],\n [{\n            'v': 485,\n            'f': \"485\",\n        },\n\"1076\",\n\"20925\",\n\" 20922\"],\n [{\n            'v': 486,\n            'f': \"486\",\n        },\n\"1077\",\n\"21014\",\n\" 21014\"],\n [{\n            'v': 487,\n            'f': \"487\",\n        },\n\"1078\",\n\"2107N\",\n\" 21103\"],\n [{\n            'v': 488,\n            'f': \"488\",\n        },\n\"1079\",\n\"21179\",\n\" 21195\"],\n [{\n            'v': 489,\n            'f': \"489\",\n        },\n\"108\",\n\"01083\",\n\" 00819\"],\n [{\n            'v': 490,\n            'f': \"490\",\n        },\n\"1080\",\n\"21285\",\n\" 21285\"],\n [{\n            'v': 491,\n            'f': \"491\",\n        },\n\"1081\",\n\"21172\",\n\" 21374\"],\n [{\n            'v': 492,\n            'f': \"492\",\n        },\n\"1082\",\n\"21426\",\n\" 21465\"],\n [{\n            'v': 493,\n            'f': \"493\",\n        },\n\"1083\",\n\"61663\",\n\" 21553\"],\n [{\n            'v': 494,\n            'f': \"494\",\n        },\n\"1084\",\n\"21646\",\n\" 21642\"],\n [{\n            'v': 495,\n            'f': \"495\",\n        },\n\"1085\",\n\"2132N\",\n\" 21734\"],\n [{\n            'v': 496,\n            'f': \"496\",\n        },\n\"1086\",\n\"21823\",\n\" 21823\"],\n [{\n            'v': 497,\n            'f': \"497\",\n        },\n\"1087\",\n\"61640\",\n\" 21907\"],\n [{\n            'v': 498,\n            'f': \"498\",\n        },\n\"1088\",\n\"21992\",\n\" 21997\"],\n [{\n            'v': 499,\n            'f': \"499\",\n        },\n\"1089\",\n\"22066\",\n\" 22070\"]],\n        columns: [[\"number\", \"index\"], [\"string\", \"imageID\"], [\"string\", \"read_value\"], [\"string\", \"actual_value\"]],\n        columnOptions: [{\"width\": \"1px\", \"className\": \"index_column\"}],\n        rowsPerPage: 25,\n        helpUrl: \"https://colab.research.google.com/notebooks/data_table.ipynb\",\n        suppressOutputScrolling: true,\n        minimumWidth: undefined,\n      });\n    ",
            "text/html": [
              "<div>\n",
              "<style scoped>\n",
              "    .dataframe tbody tr th:only-of-type {\n",
              "        vertical-align: middle;\n",
              "    }\n",
              "\n",
              "    .dataframe tbody tr th {\n",
              "        vertical-align: top;\n",
              "    }\n",
              "\n",
              "    .dataframe thead th {\n",
              "        text-align: right;\n",
              "    }\n",
              "</style>\n",
              "<table border=\"1\" class=\"dataframe\">\n",
              "  <thead>\n",
              "    <tr style=\"text-align: right;\">\n",
              "      <th></th>\n",
              "      <th>imageID</th>\n",
              "      <th>read_value</th>\n",
              "      <th>actual_value</th>\n",
              "    </tr>\n",
              "  </thead>\n",
              "  <tbody>\n",
              "    <tr>\n",
              "      <th>0</th>\n",
              "      <td>1</td>\n",
              "      <td>65885</td>\n",
              "      <td>95882</td>\n",
              "    </tr>\n",
              "    <tr>\n",
              "      <th>1</th>\n",
              "      <td>10</td>\n",
              "      <td>96220</td>\n",
              "      <td>96220</td>\n",
              "    </tr>\n",
              "    <tr>\n",
              "      <th>2</th>\n",
              "      <td>100</td>\n",
              "      <td>20609</td>\n",
              "      <td>00500</td>\n",
              "    </tr>\n",
              "    <tr>\n",
              "      <th>3</th>\n",
              "      <td>1000</td>\n",
              "      <td>14365</td>\n",
              "      <td>14366</td>\n",
              "    </tr>\n",
              "    <tr>\n",
              "      <th>4</th>\n",
              "      <td>10000</td>\n",
              "      <td>4NNNN</td>\n",
              "      <td>14398</td>\n",
              "    </tr>\n",
              "    <tr>\n",
              "      <th>...</th>\n",
              "      <td>...</td>\n",
              "      <td>...</td>\n",
              "      <td>...</td>\n",
              "    </tr>\n",
              "    <tr>\n",
              "      <th>495</th>\n",
              "      <td>1085</td>\n",
              "      <td>2132N</td>\n",
              "      <td>21734</td>\n",
              "    </tr>\n",
              "    <tr>\n",
              "      <th>496</th>\n",
              "      <td>1086</td>\n",
              "      <td>21823</td>\n",
              "      <td>21823</td>\n",
              "    </tr>\n",
              "    <tr>\n",
              "      <th>497</th>\n",
              "      <td>1087</td>\n",
              "      <td>61640</td>\n",
              "      <td>21907</td>\n",
              "    </tr>\n",
              "    <tr>\n",
              "      <th>498</th>\n",
              "      <td>1088</td>\n",
              "      <td>21992</td>\n",
              "      <td>21997</td>\n",
              "    </tr>\n",
              "    <tr>\n",
              "      <th>499</th>\n",
              "      <td>1089</td>\n",
              "      <td>22066</td>\n",
              "      <td>22070</td>\n",
              "    </tr>\n",
              "  </tbody>\n",
              "</table>\n",
              "<p>500 rows × 3 columns</p>\n",
              "</div>"
            ],
            "text/plain": [
              "    imageID read_value actual_value\n",
              "0         1      65885        95882\n",
              "1        10      96220        96220\n",
              "2       100      20609        00500\n",
              "3      1000      14365        14366\n",
              "4     10000      4NNNN        14398\n",
              "..      ...        ...          ...\n",
              "495    1085      2132N        21734\n",
              "496    1086      21823        21823\n",
              "497    1087      61640        21907\n",
              "498    1088      21992        21997\n",
              "499    1089      22066        22070\n",
              "\n",
              "[500 rows x 3 columns]"
            ]
          },
          "metadata": {},
          "execution_count": 22
        }
      ]
    },
    {
      "cell_type": "code",
      "metadata": {
        "id": "WafzNUwGzpTO",
        "colab": {
          "base_uri": "https://localhost:8080/",
          "height": 89
        },
        "outputId": "85a2c2c4-f239-460e-b435-ded26401196d"
      },
      "source": [
        "merged['IfMatch'] = np.where(merged['read_value'] == merged['actual_value'], 'True', 'False')\n",
        "merged[merged['IfMatch'] == 'True']\n",
        "#merged"
      ],
      "execution_count": 23,
      "outputs": [
        {
          "output_type": "execute_result",
          "data": {
            "application/vnd.google.colaboratory.module+javascript": "\n      import \"https://ssl.gstatic.com/colaboratory/data_table/a6224c040fa35dcf/data_table.js\";\n\n      window.createDataTable({\n        data: [],\n        columns: [[\"number\", \"index\"], [\"number\", \"imageID\"], [\"number\", \"read_value\"], [\"number\", \"actual_value\"], [\"number\", \"IfMatch\"]],\n        columnOptions: [{\"width\": \"1px\", \"className\": \"index_column\"}],\n        rowsPerPage: 25,\n        helpUrl: \"https://colab.research.google.com/notebooks/data_table.ipynb\",\n        suppressOutputScrolling: true,\n        minimumWidth: undefined,\n      });\n    ",
            "text/html": [
              "<div>\n",
              "<style scoped>\n",
              "    .dataframe tbody tr th:only-of-type {\n",
              "        vertical-align: middle;\n",
              "    }\n",
              "\n",
              "    .dataframe tbody tr th {\n",
              "        vertical-align: top;\n",
              "    }\n",
              "\n",
              "    .dataframe thead th {\n",
              "        text-align: right;\n",
              "    }\n",
              "</style>\n",
              "<table border=\"1\" class=\"dataframe\">\n",
              "  <thead>\n",
              "    <tr style=\"text-align: right;\">\n",
              "      <th></th>\n",
              "      <th>imageID</th>\n",
              "      <th>read_value</th>\n",
              "      <th>actual_value</th>\n",
              "      <th>IfMatch</th>\n",
              "    </tr>\n",
              "  </thead>\n",
              "  <tbody>\n",
              "  </tbody>\n",
              "</table>\n",
              "</div>"
            ],
            "text/plain": [
              "Empty DataFrame\n",
              "Columns: [imageID, read_value, actual_value, IfMatch]\n",
              "Index: []"
            ]
          },
          "metadata": {},
          "execution_count": 23
        }
      ]
    },
    {
      "cell_type": "code",
      "metadata": {
        "id": "O1ccNX3u_BdA"
      },
      "source": [
        "merged[\"Total\"] = merged['read_value'] \n",
        "\n",
        "for row in range(167):\n",
        "\n",
        "  match_counter = 0\n",
        "\n",
        "  for basamak in range(6):\n",
        "    if merged['read_value'][row][basamak]== merged['actual_value'][row][basamak]:\n",
        "      match_counter += 1\n",
        "\n",
        "  merged['Total'][row] = match_counter"
      ],
      "execution_count": null,
      "outputs": []
    },
    {
      "cell_type": "code",
      "metadata": {
        "id": "fYC877w-Ev_k"
      },
      "source": [
        "merged[\"digit_correctness_of_each_meter\"] = (merged[\"Total\"]/6)*100\n",
        " \n",
        "print(\"accuracy:\", (sum (merged[\"Total\"])/ (6*167))*100)\n",
        "\n",
        "merged"
      ],
      "execution_count": null,
      "outputs": []
    }
  ]
}